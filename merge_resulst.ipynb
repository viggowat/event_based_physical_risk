{
 "cells": [
  {
   "cell_type": "code",
   "execution_count": 1,
   "metadata": {},
   "outputs": [],
   "source": [
    "from pathlib import Path\n",
    "import pandas as pd\n",
    "\n",
    "import matplotlib.pyplot as plt\n",
    "import numpy as np\n",
    "\n",
    "import tabulate\n",
    "\n",
    "import plotly.graph_objects as go\n",
    "import plotly.express as px"
   ]
  },
  {
   "cell_type": "markdown",
   "metadata": {},
   "source": [
    "## Get the necessary tables"
   ]
  },
  {
   "cell_type": "code",
   "execution_count": 2,
   "metadata": {},
   "outputs": [
    {
     "name": "stdout",
     "output_type": "stream",
     "text": [
      "Current Working Directory: /Users/viggo/Documents/Programming/202312_TCFD_project_update\n",
      "Processing TC_STORM_EC-Earth3P-HR_150as_global_nofraction\n",
      "Processing TC_STORM_CMCC-CM2-VHR4_150as_global_nofraction\n",
      "Tables not found in Results/Test\n",
      "Processing TC_STORM_HadGEM3-GC31-HM_150as_global_nofraction\n",
      "Processing TC_STORM_CNRM-CM6-1-HR_150as_global_nofraction\n",
      "Tables not found in Results/Merged\n"
     ]
    }
   ],
   "source": [
    "# Print the current working directory\n",
    "print(\"Current Working Directory:\", Path.cwd())\n",
    "\n",
    "# Results folder\n",
    "results_folder = Path('./Results')\n",
    "\n",
    "prob_data_dict = {}\n",
    "risk_attr_dict = {}\n",
    "risk_metrics_dict = {}\n",
    "\n",
    "# Get all the folders in the results folder\n",
    "sub_folders = [x for x in results_folder.iterdir() if x.is_dir()]\n",
    "\n",
    "for folder in sub_folders:\n",
    "    #  Get the two tables in the tables folder\n",
    "    tables_folder = folder / 'Tables'\n",
    "    try:\n",
    "        # Read the article plot data\n",
    "        prob_data_dict[folder.name] = pd.read_csv(tables_folder / 'article_plot_df.csv')\n",
    "        # The risk attributes\n",
    "        risk_attr_dict[folder.name] = pd.read_csv(tables_folder / 'risk_attr_incl_risk_transf_df.csv')\n",
    "        # The risk metrics\n",
    "        risk_metrics_dict[folder.name] = pd.read_csv(tables_folder / 'risk_metrics_df.csv')\n",
    "        print(f\"Processing {folder.name}\")\n",
    "    except FileNotFoundError:\n",
    "        print(f\"Tables not found in {folder}\")\n",
    "\n",
    "# "
   ]
  },
  {
   "cell_type": "code",
   "execution_count": 3,
   "metadata": {},
   "outputs": [
    {
     "name": "stdout",
     "output_type": "stream",
     "text": [
      "+----+--------------+---------------+---------------+----------------------+--------------+---------------+------------------------------+---------------------------------------+------------------------------------------------+\n",
      "|    |   Unnamed: 0 | Time period   | Impact type   | Portfolio Strategy   | Company      |   Marginal ES | Risk Attribution             | legend_bar_Companies                  | legend_bar_Strategy                            |\n",
      "|----+--------------+---------------+---------------+----------------------+--------------+---------------+------------------------------+---------------------------------------+------------------------------------------------|\n",
      "|  0 |            0 | Historical    | Gross         | Globe<br>Pharma      | Globe Pharma |    0.207128   | Globe Pharma (Gross)         | Globe Pharma (Gross)                  | Globe Pharma (Gross)                           |\n",
      "|  1 |            1 | Historical    | Gross         | Globe<br>Pharma      | NWP SEMICON  |    0          | NWP SEMICON (Gross)          | NWP SEMICON (Gross)                   | NWP SEMICON (Gross)                            |\n",
      "|  2 |            2 | Historical    | Gross         | NWP<br>SEMICON       | Globe Pharma |    0          | Globe Pharma (Gross)         | Globe Pharma (Gross)                  | Globe Pharma (Gross)                           |\n",
      "|  3 |            3 | Historical    | Gross         | NWP<br>SEMICON       | NWP SEMICON  |    0.211164   | NWP SEMICON (Gross)          | NWP SEMICON (Gross)                   | NWP SEMICON (Gross)                            |\n",
      "|  4 |            4 | Historical    | Gross         | Equal                | Globe Pharma |    0.0797876  | Globe Pharma (Gross)         | Globe Pharma (Gross)                  | Globe Pharma (Gross)                           |\n",
      "|  5 |            5 | Historical    | Gross         | Equal                | NWP SEMICON  |    0.0486688  | NWP SEMICON (Gross)          | NWP SEMICON (Gross)                   | NWP SEMICON (Gross)                            |\n",
      "|  6 |            6 | Historical    | Gross         | Optimal              | Globe Pharma |    0.0615278  | Globe Pharma (Gross)         | Globe Pharma (Gross)                  | Globe Pharma (Gross)                           |\n",
      "|  7 |            7 | Historical    | Gross         | Optimal              | NWP SEMICON  |    0.0662612  | NWP SEMICON (Gross)          | NWP SEMICON (Gross)                   | NWP SEMICON (Gross)                            |\n",
      "|  8 |            8 | Historical    | Net           | Globe<br>Pharma      | Globe Pharma |    0.094171   | Globe Pharma (Net)           | Globe Pharma - ES                     | Globe Pharma - Marginal ES                     |\n",
      "|  9 |            9 | Historical    | Net           | Globe<br>Pharma      | NWP SEMICON  |    0          | NWP SEMICON (Net)            | NWP SEMICON - ES                      | NWP SEMICON - Marginal ES                      |\n",
      "| 10 |           10 | Historical    | Net           | NWP<br>SEMICON       | Globe Pharma |    0          | Globe Pharma (Net)           | Globe Pharma - ES                     | Globe Pharma - Marginal ES                     |\n",
      "| 11 |           11 | Historical    | Net           | NWP<br>SEMICON       | NWP SEMICON  |    0.193135   | NWP SEMICON (Net)            | NWP SEMICON - ES                      | NWP SEMICON - Marginal ES                      |\n",
      "| 12 |           12 | Historical    | Net           | Equal                | Globe Pharma |    0.00617772 | Globe Pharma (Net)           | Globe Pharma - ES                     | Globe Pharma - Marginal ES                     |\n",
      "| 13 |           13 | Historical    | Net           | Equal                | NWP SEMICON  |    0.0948843  | NWP SEMICON (Net)            | NWP SEMICON - ES                      | NWP SEMICON - Marginal ES                      |\n",
      "| 14 |           14 | Historical    | Net           | Optimal              | Globe Pharma |    0.052703   | Globe Pharma (Net)           | Globe Pharma - ES                     | Globe Pharma - Marginal ES                     |\n",
      "| 15 |           15 | Historical    | Net           | Optimal              | NWP SEMICON  |    0.0251254  | NWP SEMICON (Net)            | NWP SEMICON - ES                      | NWP SEMICON - Marginal ES                      |\n",
      "| 16 |           16 | Current       | Gross         | Globe<br>Pharma      | Globe Pharma |    0.198489   | Globe Pharma (Gross)         | Globe Pharma (Gross)                  | Globe Pharma (Gross)                           |\n",
      "| 17 |           17 | Current       | Gross         | Globe<br>Pharma      | NWP SEMICON  |    0          | NWP SEMICON (Gross)          | NWP SEMICON (Gross)                   | NWP SEMICON (Gross)                            |\n",
      "| 18 |           18 | Current       | Gross         | NWP<br>SEMICON       | Globe Pharma |    0          | Globe Pharma (Gross)         | Globe Pharma (Gross)                  | Globe Pharma (Gross)                           |\n",
      "| 19 |           19 | Current       | Gross         | NWP<br>SEMICON       | NWP SEMICON  |    0.307688   | NWP SEMICON (Gross)          | NWP SEMICON (Gross)                   | NWP SEMICON (Gross)                            |\n",
      "| 20 |           20 | Current       | Gross         | Equal                | Globe Pharma |    0.0362931  | Globe Pharma (Gross)         | Globe Pharma (Gross)                  | Globe Pharma (Gross)                           |\n",
      "| 21 |           21 | Current       | Gross         | Equal                | NWP SEMICON  |    0.134365   | NWP SEMICON (Gross)          | NWP SEMICON (Gross)                   | NWP SEMICON (Gross)                            |\n",
      "| 22 |           22 | Current       | Gross         | Optimal              | Globe Pharma |    0.100575   | Globe Pharma (Gross)         | Globe Pharma (Gross)                  | Globe Pharma (Gross)                           |\n",
      "| 23 |           23 | Current       | Gross         | Optimal              | NWP SEMICON  |    0.0538511  | NWP SEMICON (Gross)          | NWP SEMICON (Gross)                   | NWP SEMICON (Gross)                            |\n",
      "| 24 |           24 | Current       | Net           | Globe<br>Pharma      | Globe Pharma |    0.0997967  | Globe Pharma (Net)           | Globe Pharma - ES                     | Globe Pharma - Marginal ES                     |\n",
      "| 25 |           25 | Current       | Net           | Globe<br>Pharma      | NWP SEMICON  |    0          | NWP SEMICON (Net)            | NWP SEMICON - ES                      | NWP SEMICON - Marginal ES                      |\n",
      "| 26 |           26 | Current       | Net           | NWP<br>SEMICON       | Globe Pharma |    0          | Globe Pharma (Net)           | Globe Pharma - ES                     | Globe Pharma - Marginal ES                     |\n",
      "| 27 |           27 | Current       | Net           | NWP<br>SEMICON       | NWP SEMICON  |    0.233614   | NWP SEMICON (Net)            | NWP SEMICON - ES                      | NWP SEMICON - Marginal ES                      |\n",
      "| 28 |           28 | Current       | Net           | Equal                | Globe Pharma |    0.0102749  | Globe Pharma (Net)           | Globe Pharma - ES                     | Globe Pharma - Marginal ES                     |\n",
      "| 29 |           29 | Current       | Net           | Equal                | NWP SEMICON  |    0.113609   | NWP SEMICON (Net)            | NWP SEMICON - ES                      | NWP SEMICON - Marginal ES                      |\n",
      "| 30 |           30 | Current       | Net           | Optimal              | Globe Pharma |    0.0710518  | Globe Pharma (Net)           | Globe Pharma - ES                     | Globe Pharma - Marginal ES                     |\n",
      "| 31 |           31 | Current       | Net           | Optimal              | NWP SEMICON  |    0.0195926  | NWP SEMICON (Net)            | NWP SEMICON - ES                      | NWP SEMICON - Marginal ES                      |\n",
      "| 32 |           32 | Future        | Gross         | Globe<br>Pharma      | Globe Pharma |    0.227704   | Globe Pharma (Gross)         | Globe Pharma (Gross)                  | Globe Pharma (Gross)                           |\n",
      "| 33 |           33 | Future        | Gross         | Globe<br>Pharma      | NWP SEMICON  |    0          | NWP SEMICON (Gross)          | NWP SEMICON (Gross)                   | NWP SEMICON (Gross)                            |\n",
      "| 34 |           34 | Future        | Gross         | NWP<br>SEMICON       | Globe Pharma |    0          | Globe Pharma (Gross)         | Globe Pharma (Gross)                  | Globe Pharma (Gross)                           |\n",
      "| 35 |           35 | Future        | Gross         | NWP<br>SEMICON       | NWP SEMICON  |    0.320557   | NWP SEMICON (Gross)          | NWP SEMICON (Gross)                   | NWP SEMICON (Gross)                            |\n",
      "| 36 |           36 | Future        | Gross         | Equal                | Globe Pharma |    0.04766    | Globe Pharma (Gross)         | Globe Pharma (Gross)                  | Globe Pharma (Gross)                           |\n",
      "| 37 |           37 | Future        | Gross         | Equal                | NWP SEMICON  |    0.134943   | NWP SEMICON (Gross)          | NWP SEMICON (Gross)                   | NWP SEMICON (Gross)                            |\n",
      "| 38 |           38 | Future        | Gross         | Optimal              | Globe Pharma |    0.106325   | Globe Pharma (Gross)         | Globe Pharma (Gross)                  | Globe Pharma (Gross)                           |\n",
      "| 39 |           39 | Future        | Gross         | Optimal              | NWP SEMICON  |    0.0643295  | NWP SEMICON (Gross)          | NWP SEMICON (Gross)                   | NWP SEMICON (Gross)                            |\n",
      "| 40 |           40 | Future        | Net           | Globe<br>Pharma      | Globe Pharma |    0.104057   | Globe Pharma (Net)           | Globe Pharma - ES                     | Globe Pharma - Marginal ES                     |\n",
      "| 41 |           41 | Future        | Net           | Globe<br>Pharma      | NWP SEMICON  |    0          | NWP SEMICON (Net)            | NWP SEMICON - ES                      | NWP SEMICON - Marginal ES                      |\n",
      "| 42 |           42 | Future        | Net           | NWP<br>SEMICON       | Globe Pharma |    0          | Globe Pharma (Net)           | Globe Pharma - ES                     | Globe Pharma - Marginal ES                     |\n",
      "| 43 |           43 | Future        | Net           | NWP<br>SEMICON       | NWP SEMICON  |    0.222937   | NWP SEMICON (Net)            | NWP SEMICON - ES                      | NWP SEMICON - Marginal ES                      |\n",
      "| 44 |           44 | Future        | Net           | Equal                | Globe Pharma |    0.0141596  | Globe Pharma (Net)           | Globe Pharma - ES                     | Globe Pharma - Marginal ES                     |\n",
      "| 45 |           45 | Future        | Net           | Equal                | NWP SEMICON  |    0.105943   | NWP SEMICON (Net)            | NWP SEMICON - ES                      | NWP SEMICON - Marginal ES                      |\n",
      "| 46 |           46 | Future        | Net           | Optimal              | Globe Pharma |    0.0683649  | Globe Pharma (Net)           | Globe Pharma - ES                     | Globe Pharma - Marginal ES                     |\n",
      "| 47 |           47 | Future        | Net           | Optimal              | NWP SEMICON  |    0.0242796  | NWP SEMICON (Net)            | NWP SEMICON - ES                      | NWP SEMICON - Marginal ES                      |\n",
      "| 48 |           48 | Historical    | Risk Transfer | Globe<br>Pharma      | Globe Pharma |    0.112957   | Globe Pharma (Risk Transfer) | Globe Pharma - ES Insurance Reduction | Globe Pharma - Marginal ES Insurance Reduction |\n",
      "| 49 |           49 | Historical    | Risk Transfer | Globe<br>Pharma      | NWP SEMICON  |    0          | NWP SEMICON (Risk Transfer)  | NWP SEMICON - ES Insurance Reduction  | NWP SEMICON - Marginal ES Insurance Reduction  |\n",
      "| 50 |           50 | Historical    | Risk Transfer | NWP<br>SEMICON       | Globe Pharma |    0          | Globe Pharma (Risk Transfer) | Globe Pharma - ES Insurance Reduction | Globe Pharma - Marginal ES Insurance Reduction |\n",
      "| 51 |           51 | Historical    | Risk Transfer | NWP<br>SEMICON       | NWP SEMICON  |    0.0180286  | NWP SEMICON (Risk Transfer)  | NWP SEMICON - ES Insurance Reduction  | NWP SEMICON - Marginal ES Insurance Reduction  |\n",
      "| 52 |           52 | Historical    | Risk Transfer | Equal                | Globe Pharma |    0.0736099  | Globe Pharma (Risk Transfer) | Globe Pharma - ES Insurance Reduction | Globe Pharma - Marginal ES Insurance Reduction |\n",
      "| 53 |           53 | Historical    | Risk Transfer | Equal                | NWP SEMICON  |   -0.0462155  | NWP SEMICON (Risk Transfer)  | NWP SEMICON - ES Insurance Reduction  | NWP SEMICON - Marginal ES Insurance Reduction  |\n",
      "| 54 |           54 | Historical    | Risk Transfer | Optimal              | Globe Pharma |    0.00882481 | Globe Pharma (Risk Transfer) | Globe Pharma - ES Insurance Reduction | Globe Pharma - Marginal ES Insurance Reduction |\n",
      "| 55 |           55 | Historical    | Risk Transfer | Optimal              | NWP SEMICON  |    0.0411358  | NWP SEMICON (Risk Transfer)  | NWP SEMICON - ES Insurance Reduction  | NWP SEMICON - Marginal ES Insurance Reduction  |\n",
      "| 56 |           56 | Current       | Risk Transfer | Globe<br>Pharma      | Globe Pharma |    0.0986921  | Globe Pharma (Risk Transfer) | Globe Pharma - ES Insurance Reduction | Globe Pharma - Marginal ES Insurance Reduction |\n",
      "| 57 |           57 | Current       | Risk Transfer | Globe<br>Pharma      | NWP SEMICON  |    0          | NWP SEMICON (Risk Transfer)  | NWP SEMICON - ES Insurance Reduction  | NWP SEMICON - Marginal ES Insurance Reduction  |\n",
      "| 58 |           58 | Current       | Risk Transfer | NWP<br>SEMICON       | Globe Pharma |    0          | Globe Pharma (Risk Transfer) | Globe Pharma - ES Insurance Reduction | Globe Pharma - Marginal ES Insurance Reduction |\n",
      "| 59 |           59 | Current       | Risk Transfer | NWP<br>SEMICON       | NWP SEMICON  |    0.0740744  | NWP SEMICON (Risk Transfer)  | NWP SEMICON - ES Insurance Reduction  | NWP SEMICON - Marginal ES Insurance Reduction  |\n",
      "| 60 |           60 | Current       | Risk Transfer | Equal                | Globe Pharma |    0.0260182  | Globe Pharma (Risk Transfer) | Globe Pharma - ES Insurance Reduction | Globe Pharma - Marginal ES Insurance Reduction |\n",
      "| 61 |           61 | Current       | Risk Transfer | Equal                | NWP SEMICON  |    0.0207554  | NWP SEMICON (Risk Transfer)  | NWP SEMICON - ES Insurance Reduction  | NWP SEMICON - Marginal ES Insurance Reduction  |\n",
      "| 62 |           62 | Current       | Risk Transfer | Optimal              | Globe Pharma |    0.0295228  | Globe Pharma (Risk Transfer) | Globe Pharma - ES Insurance Reduction | Globe Pharma - Marginal ES Insurance Reduction |\n",
      "| 63 |           63 | Current       | Risk Transfer | Optimal              | NWP SEMICON  |    0.0342585  | NWP SEMICON (Risk Transfer)  | NWP SEMICON - ES Insurance Reduction  | NWP SEMICON - Marginal ES Insurance Reduction  |\n",
      "| 64 |           64 | Future        | Risk Transfer | Globe<br>Pharma      | Globe Pharma |    0.123647   | Globe Pharma (Risk Transfer) | Globe Pharma - ES Insurance Reduction | Globe Pharma - Marginal ES Insurance Reduction |\n",
      "| 65 |           65 | Future        | Risk Transfer | Globe<br>Pharma      | NWP SEMICON  |    0          | NWP SEMICON (Risk Transfer)  | NWP SEMICON - ES Insurance Reduction  | NWP SEMICON - Marginal ES Insurance Reduction  |\n",
      "| 66 |           66 | Future        | Risk Transfer | NWP<br>SEMICON       | Globe Pharma |    0          | Globe Pharma (Risk Transfer) | Globe Pharma - ES Insurance Reduction | Globe Pharma - Marginal ES Insurance Reduction |\n",
      "| 67 |           67 | Future        | Risk Transfer | NWP<br>SEMICON       | NWP SEMICON  |    0.0976196  | NWP SEMICON (Risk Transfer)  | NWP SEMICON - ES Insurance Reduction  | NWP SEMICON - Marginal ES Insurance Reduction  |\n",
      "| 68 |           68 | Future        | Risk Transfer | Equal                | Globe Pharma |    0.0335004  | Globe Pharma (Risk Transfer) | Globe Pharma - ES Insurance Reduction | Globe Pharma - Marginal ES Insurance Reduction |\n",
      "| 69 |           69 | Future        | Risk Transfer | Equal                | NWP SEMICON  |    0.0290008  | NWP SEMICON (Risk Transfer)  | NWP SEMICON - ES Insurance Reduction  | NWP SEMICON - Marginal ES Insurance Reduction  |\n",
      "| 70 |           70 | Future        | Risk Transfer | Optimal              | Globe Pharma |    0.0379601  | Globe Pharma (Risk Transfer) | Globe Pharma - ES Insurance Reduction | Globe Pharma - Marginal ES Insurance Reduction |\n",
      "| 71 |           71 | Future        | Risk Transfer | Optimal              | NWP SEMICON  |    0.0400498  | NWP SEMICON (Risk Transfer)  | NWP SEMICON - ES Insurance Reduction  | NWP SEMICON - Marginal ES Insurance Reduction  |\n",
      "+----+--------------+---------------+---------------+----------------------+--------------+---------------+------------------------------+---------------------------------------+------------------------------------------------+\n"
     ]
    }
   ],
   "source": [
    "\n",
    "# Print the first data frame in risk_metrics_dict in a tabular format\n",
    "keys = list(risk_attr_dict.keys())\n",
    "print(tabulate.tabulate(risk_attr_dict[keys[0]], headers='keys', tablefmt='psql'))"
   ]
  },
  {
   "cell_type": "markdown",
   "metadata": {},
   "source": [
    "### Calculate the average "
   ]
  },
  {
   "cell_type": "code",
   "execution_count": 4,
   "metadata": {},
   "outputs": [],
   "source": [
    "def average_prob_data(prob_data_dict):\n",
    "    # Extract all DataFrames from prob_data_dict into a list\n",
    "    dfs = [df for df in prob_data_dict.values()]\n",
    "    \n",
    "    # Ensure all numeric columns are of a numeric type for each DataFrame\n",
    "    dfs = [df.apply(pd.to_numeric, errors='ignore') for df in dfs]\n",
    "    \n",
    "    # Concatenate all DataFrames vertically\n",
    "    concatenated_df = pd.concat(dfs)\n",
    "    \n",
    "    # Group the concatenated DataFrame by \"Company combinations\"\n",
    "    grouped = concatenated_df.groupby('Company combinations')\n",
    "    \n",
    "    # Calculate the mean of the non-string (numeric) columns for each group\n",
    "    average_df = grouped.mean().reset_index()\n",
    "    \n",
    "    return average_df\n",
    "\n",
    "def average_risk_metrics(risk_metrics_dict):\n",
    "    # Extract all DataFrames from risk_metrics_dict into a list\n",
    "    dfs = [df for df in risk_metrics_dict.values()]\n",
    "    \n",
    "    # Ensure all numeric columns are of a numeric type for each DataFrame\n",
    "    dfs = [df.apply(pd.to_numeric, errors='ignore') for df in dfs]\n",
    "    \n",
    "    # Concatenate all DataFrames vertically\n",
    "    concatenated_df = pd.concat(dfs)\n",
    "    \n",
    "    # Drop the 'Unnamed: 0' column as it's likely an index column from CSV\n",
    "    concatenated_df = concatenated_df.drop(columns=['Unnamed: 0'], errors='ignore')\n",
    "    \n",
    "    # Group the concatenated DataFrame by all non-numeric columns\n",
    "    non_numeric_columns = concatenated_df.select_dtypes(exclude=['number']).columns.tolist()\n",
    "    grouped = concatenated_df.groupby(non_numeric_columns)\n",
    "    \n",
    "    # Calculate the mean of the numeric columns for each group\n",
    "    average_df = grouped.mean().reset_index()\n",
    "    \n",
    "    return average_df\n",
    "\n",
    "def average_risk_attributes(risk_attr_dict):\n",
    "    # Initialize an empty DataFrame to hold all data\n",
    "    combined_df = pd.DataFrame()\n",
    "\n",
    "    for key, df in risk_attr_dict.items():\n",
    "        # Drop the 'Unnamed: 0' column as it's likely an index column from CSV\n",
    "        df = df.drop(columns=['Unnamed: 0'], errors='ignore')\n",
    "        \n",
    "        # Ensure 'Marginal ES' is of numeric type\n",
    "        df['Marginal ES'] = pd.to_numeric(df['Marginal ES'], errors='coerce')\n",
    "        \n",
    "        # Add a column to preserve the original order\n",
    "        df['Original Order'] = range(len(df))\n",
    "        \n",
    "        # Append to the combined DataFrame\n",
    "        combined_df = pd.concat([combined_df, df], ignore_index=True)\n",
    "    \n",
    "    # Group the combined DataFrame by non-numeric columns\n",
    "    group_cols = ['Time period', 'Impact type', 'Portfolio Strategy', 'Company', \n",
    "                  'Risk Attribution', 'legend_bar_Companies', 'legend_bar_Strategy']\n",
    "    numeric_cols = ['Marginal ES']\n",
    "    \n",
    "    # Perform the grouping and calculate the mean\n",
    "    grouped = combined_df.groupby(group_cols, sort=False).mean(numeric_only=True).reset_index()\n",
    "    \n",
    "    # Merge the results with the non-numeric columns\n",
    "    final_columns = group_cols + numeric_cols\n",
    "    \n",
    "    # Restore the original order based on the 'Original Order' column\n",
    "    average_df = grouped.sort_values(by='Original Order')[final_columns]\n",
    "    \n",
    "    return average_df\n"
   ]
  },
  {
   "cell_type": "markdown",
   "metadata": {},
   "source": [
    "## Old probailistic plot style"
   ]
  },
  {
   "cell_type": "code",
   "execution_count": 5,
   "metadata": {},
   "outputs": [
    {
     "data": {
      "image/png": "[encoded data removed]",
      "text/plain": [
       "<Figure size 1200x1200 with 2 Axes>"
      ]
     },
     "metadata": {},
     "output_type": "display_data"
    },
    {
     "data": {
      "image/png": "[encoded data removed]",
      "text/plain": [
       "<Figure size 1200x1200 with 2 Axes>"
      ]
     },
     "metadata": {},
     "output_type": "display_data"
    }
   ],
   "source": [
    "# Average the probability data\n",
    "article_plot_df = average_prob_data(prob_data_dict)\n",
    "# Set index as first column\n",
    "article_plot_df.set_index(article_plot_df.columns[0], inplace=True)\n",
    "\n",
    "# Color bar parameters\n",
    "vmin = 50\n",
    "vmax = 100\n",
    "kwargs = {'aspect': 20, 'shrink': 0.7} #\n",
    "\n",
    "\n",
    "# Set the colorbar parameters\n",
    "colorbar_params = {'aspect': 20, 'shrink': 1}\n",
    "\n",
    "# Set the font size for the plot\n",
    "font_size = 16\n",
    "tilt_degrees = 0\n",
    "\n",
    "# Filter out the companies article_plot_df\n",
    "only_companies_plot_df = article_plot_df[article_plot_df.index.isin(['Globe Pharma', 'NWP SEMICON'])]\n",
    "# # Create the fifth figure\n",
    "fig5, ax5 = plt.subplots(figsize=(12, 12))\n",
    "cax5 = ax5.matshow(only_companies_plot_df, cmap='viridis', vmin=vmin, vmax=vmax)\n",
    "colorbar = fig5.colorbar(cax5, ax=ax5, **kwargs)  # Adjust the colorbar parameters\n",
    "colorbar.ax.tick_params(labelsize=font_size, width=2, length=5)  # Set the colorbar label size and style\n",
    "ax5.set_xticks(range(len(only_companies_plot_df.columns)))\n",
    "ax5.set_xticklabels(only_companies_plot_df.columns, fontsize=font_size, fontweight='bold')\n",
    "ax5.set_yticks(range(len(only_companies_plot_df.index)))\n",
    "ax5.set_yticklabels(only_companies_plot_df.index, fontsize=font_size, fontweight='bold', rotation=tilt_degrees)\n",
    "\n",
    "# Remove grid lines\n",
    "ax5.grid(False)\n",
    "\n",
    "# Add the values to the plot as percentages\n",
    "for i in range(len(only_companies_plot_df.index)):\n",
    "    for j in range(len(only_companies_plot_df.columns)):\n",
    "        ax5.text(j, i, f\"{only_companies_plot_df.iloc[i, j]:.0f}%\", ha='center', va='center', color='white', fontsize=font_size, fontweight='bold')\n",
    "# Set x-label and y-label descriptions\n",
    "# Print the title\n",
    "# Save the fifth figure in high resolution as ProabilityOfImpact_OnlyCompanies\n",
    "merged_folder = results_folder / 'Merged'\n",
    "merged_folder.mkdir(exist_ok=True)\n",
    "file = merged_folder / 'ProabilityOfImpact_OnlyCompanies.png'\n",
    "fig5.savefig(file, dpi=300, bbox_inches='tight')\n",
    "             \n",
    "\n",
    "\n",
    "# Filter out non-companies\n",
    "non_companies_plot_df = article_plot_df[~article_plot_df.index.isin(['Globe Pharma', 'NWP SEMICON'])]\n",
    "# Create the sixth figure\n",
    "fig6, ax6 = plt.subplots(figsize=(12, 12))\n",
    "cax6 = ax6.matshow(non_companies_plot_df, cmap='viridis', vmin=vmin, vmax=vmax)\n",
    "colorbar = fig6.colorbar(cax6, ax=ax6, **kwargs)  # Adjust the colorbar parameters\n",
    "colorbar.ax.tick_params(labelsize=font_size, width=2, length=5)  # Set the colorbar label size and style\n",
    "ax6.set_xticks(range(len(non_companies_plot_df.columns)))\n",
    "ax6.set_xticklabels(non_companies_plot_df.columns, fontsize=font_size, fontweight='bold')\n",
    "ax6.set_yticks(range(len(non_companies_plot_df.index)))\n",
    "ax6.set_yticklabels(non_companies_plot_df.index, fontsize=font_size, fontweight='bold', rotation=tilt_degrees)\n",
    "\n",
    "# Remove grid lines\n",
    "ax6.grid(False)\n",
    "\n",
    "# Add the values to the plot as percentages\n",
    "for i in range(len(non_companies_plot_df.index)):\n",
    "    for j in range(len(non_companies_plot_df.columns)):\n",
    "        ax6.text(j, i, f\"{non_companies_plot_df.iloc[i, j]:.0f}%\", ha='center', va='center', color='white', fontsize=font_size, fontweight='bold')\n",
    "\n",
    "# Save the sixth figure in high resolution\n",
    "file = merged_folder / 'ProabilityOfImpact_OnlyPortfolio.png'\n",
    "fig6.savefig(file, dpi=300, bbox_inches='tight')\n"
   ]
  },
  {
   "cell_type": "markdown",
   "metadata": {},
   "source": [
    "## New probailistic plot style"
   ]
  },
  {
   "cell_type": "code",
   "execution_count": 6,
   "metadata": {},
   "outputs": [
    {
     "data": {
      "application/vnd.plotly.v1+json": {
       "config": {
        "plotlyServerURL": "https://plot.ly"
       },
       "data": [
        {
         "marker": {
          "color": "#ffca3a"
         },
         "name": "Globe Pharma",
         "text": {
          "bdata": "AAAAAACgUUAAAAAAADBSQA==",
          "dtype": "f8"
         },
         "textfont": {
          "color": "#00008B",
          "family": "Courier New",
          "size": 38
         },
         "textposition": "outside",
         "type": "bar",
         "x": [
          "Current",
          "Future"
         ],
         "y": {
          "bdata": "AAAAAACgUUAAAAAAADBSQA==",
          "dtype": "f8"
         }
        },
        {
         "marker": {
          "color": "#06d6a0"
         },
         "name": "NWP SEMICON",
         "text": {
          "bdata": "AAAAAABwVUAAAAAAAEBVQA==",
          "dtype": "f8"
         },
         "textfont": {
          "color": "#00008B",
          "family": "Courier New",
          "size": 38
         },
         "textposition": "outside",
         "type": "bar",
         "x": [
          "Current",
          "Future"
         ],
         "y": {
          "bdata": "AAAAAABwVUAAAAAAAEBVQA==",
          "dtype": "f8"
         }
        },
        {
         "marker": {
          "color": "#ef476f"
         },
         "name": "Any Company",
         "text": {
          "bdata": "AAAAAADAV0AAAAAAAGBXQA==",
          "dtype": "f8"
         },
         "textfont": {
          "color": "#00008B",
          "family": "Courier New",
          "size": 38
         },
         "textposition": "outside",
         "type": "bar",
         "x": [
          "Current",
          "Future"
         ],
         "y": {
          "bdata": "AAAAAADAV0AAAAAAAGBXQA==",
          "dtype": "f8"
         }
        },
        {
         "marker": {
          "color": "#3a86ff"
         },
         "name": "Both Companies",
         "text": {
          "bdata": "AAAAAADATkAAAAAAAABQQA==",
          "dtype": "f8"
         },
         "textfont": {
          "color": "#00008B",
          "family": "Courier New",
          "size": 38
         },
         "textposition": "outside",
         "type": "bar",
         "x": [
          "Current",
          "Future"
         ],
         "y": {
          "bdata": "AAAAAADATkAAAAAAAABQQA==",
          "dtype": "f8"
         }
        }
       ],
       "layout": {
        "bargap": 0.05,
        "barmode": "group",
        "height": 1100,
        "legend": {
         "bgcolor": "rgba(255, 255, 255, 0.7)",
         "bordercolor": "black",
         "borderwidth": 2,
         "font": {
          "color": "#00008B",
          "family": "Courier New",
          "size": 38
         },
         "orientation": "h",
         "x": 0.5,
         "xanchor": "center",
         "y": 1.15,
         "yanchor": "bottom"
        },
        "template": {
         "data": {
          "bar": [
           {
            "error_x": {
             "color": "#2a3f5f"
            },
            "error_y": {
             "color": "#2a3f5f"
            },
            "marker": {
             "line": {
              "color": "white",
              "width": 0.5
             },
             "pattern": {
              "fillmode": "overlay",
              "size": 10,
              "solidity": 0.2
             }
            },
            "type": "bar"
           }
          ],
          "barpolar": [
           {
            "marker": {
             "line": {
              "color": "white",
              "width": 0.5
             },
             "pattern": {
              "fillmode": "overlay",
              "size": 10,
              "solidity": 0.2
             }
            },
            "type": "barpolar"
           }
          ],
          "carpet": [
           {
            "aaxis": {
             "endlinecolor": "#2a3f5f",
             "gridcolor": "#C8D4E3",
             "linecolor": "#C8D4E3",
             "minorgridcolor": "#C8D4E3",
             "startlinecolor": "#2a3f5f"
            },
            "baxis": {
             "endlinecolor": "#2a3f5f",
             "gridcolor": "#C8D4E3",
             "linecolor": "#C8D4E3",
             "minorgridcolor": "#C8D4E3",
             "startlinecolor": "#2a3f5f"
            },
            "type": "carpet"
           }
          ],
          "choropleth": [
           {
            "colorbar": {
             "outlinewidth": 0,
             "ticks": ""
            },
            "type": "choropleth"
           }
          ],
          "contour": [
           {
            "colorbar": {
             "outlinewidth": 0,
             "ticks": ""
            },
            "colorscale": [
             [
              0,
              "#0d0887"
             ],
             [
              0.1111111111111111,
              "#46039f"
             ],
             [
              0.2222222222222222,
              "#7201a8"
             ],
             [
              0.3333333333333333,
              "#9c179e"
             ],
             [
              0.4444444444444444,
              "#bd3786"
             ],
             [
              0.5555555555555556,
              "#d8576b"
             ],
             [
              0.6666666666666666,
              "#ed7953"
             ],
             [
              0.7777777777777778,
              "#fb9f3a"
             ],
             [
              0.8888888888888888,
              "#fdca26"
             ],
             [
              1,
              "#f0f921"
             ]
            ],
            "type": "contour"
           }
          ],
          "contourcarpet": [
           {
            "colorbar": {
             "outlinewidth": 0,
             "ticks": ""
            },
            "type": "contourcarpet"
           }
          ],
          "heatmap": [
           {
            "colorbar": {
             "outlinewidth": 0,
             "ticks": ""
            },
            "colorscale": [
             [
              0,
              "#0d0887"
             ],
             [
              0.1111111111111111,
              "#46039f"
             ],
             [
              0.2222222222222222,
              "#7201a8"
             ],
             [
              0.3333333333333333,
              "#9c179e"
             ],
             [
              0.4444444444444444,
              "#bd3786"
             ],
             [
              0.5555555555555556,
              "#d8576b"
             ],
             [
              0.6666666666666666,
              "#ed7953"
             ],
             [
              0.7777777777777778,
              "#fb9f3a"
             ],
             [
              0.8888888888888888,
              "#fdca26"
             ],
             [
              1,
              "#f0f921"
             ]
            ],
            "type": "heatmap"
           }
          ],
          "histogram": [
           {
            "marker": {
             "pattern": {
              "fillmode": "overlay",
              "size": 10,
              "solidity": 0.2
             }
            },
            "type": "histogram"
           }
          ],
          "histogram2d": [
           {
            "colorbar": {
             "outlinewidth": 0,
             "ticks": ""
            },
            "colorscale": [
             [
              0,
              "#0d0887"
             ],
             [
              0.1111111111111111,
              "#46039f"
             ],
             [
              0.2222222222222222,
              "#7201a8"
             ],
             [
              0.3333333333333333,
              "#9c179e"
             ],
             [
              0.4444444444444444,
              "#bd3786"
             ],
             [
              0.5555555555555556,
              "#d8576b"
             ],
             [
              0.6666666666666666,
              "#ed7953"
             ],
             [
              0.7777777777777778,
              "#fb9f3a"
             ],
             [
              0.8888888888888888,
              "#fdca26"
             ],
             [
              1,
              "#f0f921"
             ]
            ],
            "type": "histogram2d"
           }
          ],
          "histogram2dcontour": [
           {
            "colorbar": {
             "outlinewidth": 0,
             "ticks": ""
            },
            "colorscale": [
             [
              0,
              "#0d0887"
             ],
             [
              0.1111111111111111,
              "#46039f"
             ],
             [
              0.2222222222222222,
              "#7201a8"
             ],
             [
              0.3333333333333333,
              "#9c179e"
             ],
             [
              0.4444444444444444,
              "#bd3786"
             ],
             [
              0.5555555555555556,
              "#d8576b"
             ],
             [
              0.6666666666666666,
              "#ed7953"
             ],
             [
              0.7777777777777778,
              "#fb9f3a"
             ],
             [
              0.8888888888888888,
              "#fdca26"
             ],
             [
              1,
              "#f0f921"
             ]
            ],
            "type": "histogram2dcontour"
           }
          ],
          "mesh3d": [
           {
            "colorbar": {
             "outlinewidth": 0,
             "ticks": ""
            },
            "type": "mesh3d"
           }
          ],
          "parcoords": [
           {
            "line": {
             "colorbar": {
              "outlinewidth": 0,
              "ticks": ""
             }
            },
            "type": "parcoords"
           }
          ],
          "pie": [
           {
            "automargin": true,
            "type": "pie"
           }
          ],
          "scatter": [
           {
            "fillpattern": {
             "fillmode": "overlay",
             "size": 10,
             "solidity": 0.2
            },
            "type": "scatter"
           }
          ],
          "scatter3d": [
           {
            "line": {
             "colorbar": {
              "outlinewidth": 0,
              "ticks": ""
             }
            },
            "marker": {
             "colorbar": {
              "outlinewidth": 0,
              "ticks": ""
             }
            },
            "type": "scatter3d"
           }
          ],
          "scattercarpet": [
           {
            "marker": {
             "colorbar": {
              "outlinewidth": 0,
              "ticks": ""
             }
            },
            "type": "scattercarpet"
           }
          ],
          "scattergeo": [
           {
            "marker": {
             "colorbar": {
              "outlinewidth": 0,
              "ticks": ""
             }
            },
            "type": "scattergeo"
           }
          ],
          "scattergl": [
           {
            "marker": {
             "colorbar": {
              "outlinewidth": 0,
              "ticks": ""
             }
            },
            "type": "scattergl"
           }
          ],
          "scattermap": [
           {
            "marker": {
             "colorbar": {
              "outlinewidth": 0,
              "ticks": ""
             }
            },
            "type": "scattermap"
           }
          ],
          "scattermapbox": [
           {
            "marker": {
             "colorbar": {
              "outlinewidth": 0,
              "ticks": ""
             }
            },
            "type": "scattermapbox"
           }
          ],
          "scatterpolar": [
           {
            "marker": {
             "colorbar": {
              "outlinewidth": 0,
              "ticks": ""
             }
            },
            "type": "scatterpolar"
           }
          ],
          "scatterpolargl": [
           {
            "marker": {
             "colorbar": {
              "outlinewidth": 0,
              "ticks": ""
             }
            },
            "type": "scatterpolargl"
           }
          ],
          "scatterternary": [
           {
            "marker": {
             "colorbar": {
              "outlinewidth": 0,
              "ticks": ""
             }
            },
            "type": "scatterternary"
           }
          ],
          "surface": [
           {
            "colorbar": {
             "outlinewidth": 0,
             "ticks": ""
            },
            "colorscale": [
             [
              0,
              "#0d0887"
             ],
             [
              0.1111111111111111,
              "#46039f"
             ],
             [
              0.2222222222222222,
              "#7201a8"
             ],
             [
              0.3333333333333333,
              "#9c179e"
             ],
             [
              0.4444444444444444,
              "#bd3786"
             ],
             [
              0.5555555555555556,
              "#d8576b"
             ],
             [
              0.6666666666666666,
              "#ed7953"
             ],
             [
              0.7777777777777778,
              "#fb9f3a"
             ],
             [
              0.8888888888888888,
              "#fdca26"
             ],
             [
              1,
              "#f0f921"
             ]
            ],
            "type": "surface"
           }
          ],
          "table": [
           {
            "cells": {
             "fill": {
              "color": "#EBF0F8"
             },
             "line": {
              "color": "white"
             }
            },
            "header": {
             "fill": {
              "color": "#C8D4E3"
             },
             "line": {
              "color": "white"
             }
            },
            "type": "table"
           }
          ]
         },
         "layout": {
          "annotationdefaults": {
           "arrowcolor": "#2a3f5f",
           "arrowhead": 0,
           "arrowwidth": 1
          },
          "autotypenumbers": "strict",
          "coloraxis": {
           "colorbar": {
            "outlinewidth": 0,
            "ticks": ""
           }
          },
          "colorscale": {
           "diverging": [
            [
             0,
             "#8e0152"
            ],
            [
             0.1,
             "#c51b7d"
            ],
            [
             0.2,
             "#de77ae"
            ],
            [
             0.3,
             "#f1b6da"
            ],
            [
             0.4,
             "#fde0ef"
            ],
            [
             0.5,
             "#f7f7f7"
            ],
            [
             0.6,
             "#e6f5d0"
            ],
            [
             0.7,
             "#b8e186"
            ],
            [
             0.8,
             "#7fbc41"
            ],
            [
             0.9,
             "#4d9221"
            ],
            [
             1,
             "#276419"
            ]
           ],
           "sequential": [
            [
             0,
             "#0d0887"
            ],
            [
             0.1111111111111111,
             "#46039f"
            ],
            [
             0.2222222222222222,
             "#7201a8"
            ],
            [
             0.3333333333333333,
             "#9c179e"
            ],
            [
             0.4444444444444444,
             "#bd3786"
            ],
            [
             0.5555555555555556,
             "#d8576b"
            ],
            [
             0.6666666666666666,
             "#ed7953"
            ],
            [
             0.7777777777777778,
             "#fb9f3a"
            ],
            [
             0.8888888888888888,
             "#fdca26"
            ],
            [
             1,
             "#f0f921"
            ]
           ],
           "sequentialminus": [
            [
             0,
             "#0d0887"
            ],
            [
             0.1111111111111111,
             "#46039f"
            ],
            [
             0.2222222222222222,
             "#7201a8"
            ],
            [
             0.3333333333333333,
             "#9c179e"
            ],
            [
             0.4444444444444444,
             "#bd3786"
            ],
            [
             0.5555555555555556,
             "#d8576b"
            ],
            [
             0.6666666666666666,
             "#ed7953"
            ],
            [
             0.7777777777777778,
             "#fb9f3a"
            ],
            [
             0.8888888888888888,
             "#fdca26"
            ],
            [
             1,
             "#f0f921"
            ]
           ]
          },
          "colorway": [
           "#636efa",
           "#EF553B",
           "#00cc96",
           "#ab63fa",
           "#FFA15A",
           "#19d3f3",
           "#FF6692",
           "#B6E880",
           "#FF97FF",
           "#FECB52"
          ],
          "font": {
           "color": "#2a3f5f"
          },
          "geo": {
           "bgcolor": "white",
           "lakecolor": "white",
           "landcolor": "white",
           "showlakes": true,
           "showland": true,
           "subunitcolor": "#C8D4E3"
          },
          "hoverlabel": {
           "align": "left"
          },
          "hovermode": "closest",
          "mapbox": {
           "style": "light"
          },
          "paper_bgcolor": "white",
          "plot_bgcolor": "white",
          "polar": {
           "angularaxis": {
            "gridcolor": "#EBF0F8",
            "linecolor": "#EBF0F8",
            "ticks": ""
           },
           "bgcolor": "white",
           "radialaxis": {
            "gridcolor": "#EBF0F8",
            "linecolor": "#EBF0F8",
            "ticks": ""
           }
          },
          "scene": {
           "xaxis": {
            "backgroundcolor": "white",
            "gridcolor": "#DFE8F3",
            "gridwidth": 2,
            "linecolor": "#EBF0F8",
            "showbackground": true,
            "ticks": "",
            "zerolinecolor": "#EBF0F8"
           },
           "yaxis": {
            "backgroundcolor": "white",
            "gridcolor": "#DFE8F3",
            "gridwidth": 2,
            "linecolor": "#EBF0F8",
            "showbackground": true,
            "ticks": "",
            "zerolinecolor": "#EBF0F8"
           },
           "zaxis": {
            "backgroundcolor": "white",
            "gridcolor": "#DFE8F3",
            "gridwidth": 2,
            "linecolor": "#EBF0F8",
            "showbackground": true,
            "ticks": "",
            "zerolinecolor": "#EBF0F8"
           }
          },
          "shapedefaults": {
           "line": {
            "color": "#2a3f5f"
           }
          },
          "ternary": {
           "aaxis": {
            "gridcolor": "#DFE8F3",
            "linecolor": "#A2B1C6",
            "ticks": ""
           },
           "baxis": {
            "gridcolor": "#DFE8F3",
            "linecolor": "#A2B1C6",
            "ticks": ""
           },
           "bgcolor": "white",
           "caxis": {
            "gridcolor": "#DFE8F3",
            "linecolor": "#A2B1C6",
            "ticks": ""
           }
          },
          "title": {
           "x": 0.05
          },
          "xaxis": {
           "automargin": true,
           "gridcolor": "#EBF0F8",
           "linecolor": "#EBF0F8",
           "ticks": "",
           "title": {
            "standoff": 15
           },
           "zerolinecolor": "#EBF0F8",
           "zerolinewidth": 2
          },
          "yaxis": {
           "automargin": true,
           "gridcolor": "#EBF0F8",
           "linecolor": "#EBF0F8",
           "ticks": "",
           "title": {
            "standoff": 15
           },
           "zerolinecolor": "#EBF0F8",
           "zerolinewidth": 2
          }
         }
        },
        "width": 1980.0000000000002,
        "xaxis": {
         "tickfont": {
          "color": "#00008B",
          "family": "Courier New",
          "size": 38
         },
         "title": {
          "font": {
           "color": "#00008B",
           "family": "Courier New",
           "size": 38
          }
         }
        },
        "yaxis": {
         "range": [
          0,
          105
         ],
         "tickfont": {
          "color": "#00008B",
          "family": "Courier New",
          "size": 38
         },
         "title": {
          "font": {
           "color": "#00008B",
           "family": "Courier New",
           "size": 38
          },
          "text": "Annual Probability of Loss (%)"
         }
        }
       }
      }
     },
     "metadata": {},
     "output_type": "display_data"
    }
   ],
   "source": [
    "import pandas as pd\n",
    "import plotly.graph_objs as go\n",
    "\n",
    "# Create the DataFrame\n",
    "data = {\n",
    "    'Current': [95.00, 61.50, 70.50, 85.75],\n",
    "    'Future': [93.50, 64.00, 72.75, 85.00]\n",
    "}\n",
    "index = ['Any Company', 'Both Companies', 'Globe Pharma', 'NWP SEMICON']\n",
    "df = pd.DataFrame(data, index=index)\n",
    "df.index.name = 'Company combinations'\n",
    "\n",
    "# Reset index to get 'Company combinations' as a column\n",
    "df = df.reset_index()\n",
    "\n",
    "# Reshape the DataFrame to long format\n",
    "df_long = pd.melt(df, id_vars='Company combinations', var_name='Time period', value_name='Value')\n",
    "\n",
    "# Define the color mapping with the specified order\n",
    "ordered_companies = ['Globe Pharma', 'NWP SEMICON', 'Any Company', 'Both Companies']\n",
    "company_colors = ['#ffca3a', '#06d6a0', '#ef476f', '#3a86ff']  # Turquoise, Yellow, Red, Blue\n",
    "\n",
    "color_mapping_hex = {company: color for company, color in zip(ordered_companies, company_colors)}\n",
    "\n",
    "# Create the figure\n",
    "fig = go.Figure()\n",
    "\n",
    "# Font properties\n",
    "font_color = '#00008B'\n",
    "font_family = 'Courier New' # bold\n",
    "font_size = 38\n",
    "max_value = df_long['Value'].max() + 10  # Adjust based on data\n",
    "\n",
    "font_dict = dict(size=font_size, family=font_family, color=font_color)\n",
    "\n",
    "# Update layout\n",
    "fig.update_layout(\n",
    "    template=\"plotly_white\",\n",
    "    #xaxis_title='Time period',\n",
    "    yaxis_title='Annual Probability of Loss (%)',\n",
    "    barmode=\"group\",\n",
    "    bargap=0.05,  # Reduce the gap between bars\n",
    "    xaxis_title_font=dict(size=font_size, family=font_family, color=font_color),\n",
    "    yaxis_title_font=dict(size=font_size, family=font_family, color=font_color),\n",
    "    xaxis_tickfont=dict(size=font_size, family=font_family, color=font_color),\n",
    "    yaxis_tickfont=dict(size=font_size, family=font_family, color=font_color),\n",
    "    legend_font=dict(size=font_size, family=font_family, color=font_color),\n",
    "    yaxis=dict(range=[0, max_value]), \n",
    "    height=1000*1.1,\n",
    "    width=1800*1.1,\n",
    "    legend=dict(\n",
    "        #title=dict(text='Company combinations', font=dict(size=font_size, family=font_family, color=font_color)),\n",
    "        orientation=\"h\",\n",
    "        yanchor=\"bottom\",\n",
    "        y=1.15,\n",
    "        xanchor=\"center\",\n",
    "        x=0.5,\n",
    "        bgcolor='rgba(255, 255, 255, 0.7)',\n",
    "        bordercolor='black',\n",
    "        borderwidth=2\n",
    "    ),\n",
    ")\n",
    "\n",
    "# Add bars for each company combination in the specified order\n",
    "for company in ordered_companies:\n",
    "    plot_df = df_long[df_long['Company combinations'] == company]\n",
    "    fig.add_trace(\n",
    "        go.Bar(\n",
    "            x=plot_df['Time period'], \n",
    "            y=plot_df['Value'], \n",
    "            name=company, \n",
    "            marker_color=color_mapping_hex[company], \n",
    "            textfont=dict(size=font_size, family=font_family, color=font_color),\n",
    "            text=plot_df['Value'].round(2),  # Add the probability values on top of each bar\n",
    "            textposition='outside'\n",
    "        ),\n",
    "    )\n",
    "\n",
    "fig.show()\n",
    "\n",
    "# Save the sixth figure in high resolution\n",
    "file = merged_folder / 'ProabilityOfImpact.png'\n",
    "fig.write_image(file,  scale=4)"
   ]
  },
  {
   "cell_type": "code",
   "execution_count": 7,
   "metadata": {},
   "outputs": [
    {
     "data": {
      "application/vnd.plotly.v1+json": {
       "config": {
        "plotlyServerURL": "https://plot.ly"
       },
       "data": [
        {
         "legendgroup": "Current",
         "marker": {
          "color": "#ffca3a"
         },
         "name": "Current",
         "offsetgroup": "current",
         "showlegend": true,
         "text": [
          "70.5"
         ],
         "textfont": {
          "color": "#00008B",
          "family": "Courier New",
          "size": 38
         },
         "textposition": "outside",
         "type": "bar",
         "x": [
          "Globe Pharma"
         ],
         "y": [
          70.5
         ]
        },
        {
         "legendgroup": "Future",
         "marker": {
          "color": "#ffca3a",
          "pattern": {
           "shape": "/"
          }
         },
         "name": "Future",
         "offsetgroup": "future",
         "showlegend": true,
         "text": [
          "72.75"
         ],
         "textfont": {
          "color": "#00008B",
          "family": "Courier New",
          "size": 38
         },
         "textposition": "outside",
         "type": "bar",
         "x": [
          "Globe Pharma"
         ],
         "y": [
          72.75
         ]
        },
        {
         "legendgroup": "Current",
         "marker": {
          "color": "#06d6a0"
         },
         "offsetgroup": "current",
         "showlegend": false,
         "text": [
          "85.75"
         ],
         "textfont": {
          "color": "#00008B",
          "family": "Courier New",
          "size": 38
         },
         "textposition": "outside",
         "type": "bar",
         "x": [
          "NWP SEMICON"
         ],
         "y": [
          85.75
         ]
        },
        {
         "legendgroup": "Future",
         "marker": {
          "color": "#06d6a0",
          "pattern": {
           "shape": "/"
          }
         },
         "offsetgroup": "future",
         "showlegend": false,
         "text": [
          "85.0"
         ],
         "textfont": {
          "color": "#00008B",
          "family": "Courier New",
          "size": 38
         },
         "textposition": "outside",
         "type": "bar",
         "x": [
          "NWP SEMICON"
         ],
         "y": [
          85
         ]
        },
        {
         "legendgroup": "Current",
         "marker": {
          "color": "#ef476f"
         },
         "offsetgroup": "current",
         "showlegend": false,
         "text": [
          "95.0"
         ],
         "textfont": {
          "color": "#00008B",
          "family": "Courier New",
          "size": 38
         },
         "textposition": "outside",
         "type": "bar",
         "x": [
          "Any Company"
         ],
         "y": [
          95
         ]
        },
        {
         "legendgroup": "Future",
         "marker": {
          "color": "#ef476f",
          "pattern": {
           "shape": "/"
          }
         },
         "offsetgroup": "future",
         "showlegend": false,
         "text": [
          "93.5"
         ],
         "textfont": {
          "color": "#00008B",
          "family": "Courier New",
          "size": 38
         },
         "textposition": "outside",
         "type": "bar",
         "x": [
          "Any Company"
         ],
         "y": [
          93.5
         ]
        },
        {
         "legendgroup": "Current",
         "marker": {
          "color": "#3a86ff"
         },
         "offsetgroup": "current",
         "showlegend": false,
         "text": [
          "61.5"
         ],
         "textfont": {
          "color": "#00008B",
          "family": "Courier New",
          "size": 38
         },
         "textposition": "outside",
         "type": "bar",
         "x": [
          "Both Companies"
         ],
         "y": [
          61.5
         ]
        },
        {
         "legendgroup": "Future",
         "marker": {
          "color": "#3a86ff",
          "pattern": {
           "shape": "/"
          }
         },
         "offsetgroup": "future",
         "showlegend": false,
         "text": [
          "64.0"
         ],
         "textfont": {
          "color": "#00008B",
          "family": "Courier New",
          "size": 38
         },
         "textposition": "outside",
         "type": "bar",
         "x": [
          "Both Companies"
         ],
         "y": [
          64
         ]
        }
       ],
       "layout": {
        "bargap": 0.15,
        "barmode": "group",
        "height": 1100,
        "legend": {
         "bgcolor": "rgba(255, 255, 255, 0.7)",
         "bordercolor": "black",
         "borderwidth": 2,
         "font": {
          "color": "#00008B",
          "family": "Courier New",
          "size": 38
         },
         "orientation": "h",
         "x": 0.5,
         "xanchor": "center",
         "y": 1.15,
         "yanchor": "bottom"
        },
        "template": {
         "data": {
          "bar": [
           {
            "error_x": {
             "color": "#2a3f5f"
            },
            "error_y": {
             "color": "#2a3f5f"
            },
            "marker": {
             "line": {
              "color": "white",
              "width": 0.5
             },
             "pattern": {
              "fillmode": "overlay",
              "size": 10,
              "solidity": 0.2
             }
            },
            "type": "bar"
           }
          ],
          "barpolar": [
           {
            "marker": {
             "line": {
              "color": "white",
              "width": 0.5
             },
             "pattern": {
              "fillmode": "overlay",
              "size": 10,
              "solidity": 0.2
             }
            },
            "type": "barpolar"
           }
          ],
          "carpet": [
           {
            "aaxis": {
             "endlinecolor": "#2a3f5f",
             "gridcolor": "#C8D4E3",
             "linecolor": "#C8D4E3",
             "minorgridcolor": "#C8D4E3",
             "startlinecolor": "#2a3f5f"
            },
            "baxis": {
             "endlinecolor": "#2a3f5f",
             "gridcolor": "#C8D4E3",
             "linecolor": "#C8D4E3",
             "minorgridcolor": "#C8D4E3",
             "startlinecolor": "#2a3f5f"
            },
            "type": "carpet"
           }
          ],
          "choropleth": [
           {
            "colorbar": {
             "outlinewidth": 0,
             "ticks": ""
            },
            "type": "choropleth"
           }
          ],
          "contour": [
           {
            "colorbar": {
             "outlinewidth": 0,
             "ticks": ""
            },
            "colorscale": [
             [
              0,
              "#0d0887"
             ],
             [
              0.1111111111111111,
              "#46039f"
             ],
             [
              0.2222222222222222,
              "#7201a8"
             ],
             [
              0.3333333333333333,
              "#9c179e"
             ],
             [
              0.4444444444444444,
              "#bd3786"
             ],
             [
              0.5555555555555556,
              "#d8576b"
             ],
             [
              0.6666666666666666,
              "#ed7953"
             ],
             [
              0.7777777777777778,
              "#fb9f3a"
             ],
             [
              0.8888888888888888,
              "#fdca26"
             ],
             [
              1,
              "#f0f921"
             ]
            ],
            "type": "contour"
           }
          ],
          "contourcarpet": [
           {
            "colorbar": {
             "outlinewidth": 0,
             "ticks": ""
            },
            "type": "contourcarpet"
           }
          ],
          "heatmap": [
           {
            "colorbar": {
             "outlinewidth": 0,
             "ticks": ""
            },
            "colorscale": [
             [
              0,
              "#0d0887"
             ],
             [
              0.1111111111111111,
              "#46039f"
             ],
             [
              0.2222222222222222,
              "#7201a8"
             ],
             [
              0.3333333333333333,
              "#9c179e"
             ],
             [
              0.4444444444444444,
              "#bd3786"
             ],
             [
              0.5555555555555556,
              "#d8576b"
             ],
             [
              0.6666666666666666,
              "#ed7953"
             ],
             [
              0.7777777777777778,
              "#fb9f3a"
             ],
             [
              0.8888888888888888,
              "#fdca26"
             ],
             [
              1,
              "#f0f921"
             ]
            ],
            "type": "heatmap"
           }
          ],
          "histogram": [
           {
            "marker": {
             "pattern": {
              "fillmode": "overlay",
              "size": 10,
              "solidity": 0.2
             }
            },
            "type": "histogram"
           }
          ],
          "histogram2d": [
           {
            "colorbar": {
             "outlinewidth": 0,
             "ticks": ""
            },
            "colorscale": [
             [
              0,
              "#0d0887"
             ],
             [
              0.1111111111111111,
              "#46039f"
             ],
             [
              0.2222222222222222,
              "#7201a8"
             ],
             [
              0.3333333333333333,
              "#9c179e"
             ],
             [
              0.4444444444444444,
              "#bd3786"
             ],
             [
              0.5555555555555556,
              "#d8576b"
             ],
             [
              0.6666666666666666,
              "#ed7953"
             ],
             [
              0.7777777777777778,
              "#fb9f3a"
             ],
             [
              0.8888888888888888,
              "#fdca26"
             ],
             [
              1,
              "#f0f921"
             ]
            ],
            "type": "histogram2d"
           }
          ],
          "histogram2dcontour": [
           {
            "colorbar": {
             "outlinewidth": 0,
             "ticks": ""
            },
            "colorscale": [
             [
              0,
              "#0d0887"
             ],
             [
              0.1111111111111111,
              "#46039f"
             ],
             [
              0.2222222222222222,
              "#7201a8"
             ],
             [
              0.3333333333333333,
              "#9c179e"
             ],
             [
              0.4444444444444444,
              "#bd3786"
             ],
             [
              0.5555555555555556,
              "#d8576b"
             ],
             [
              0.6666666666666666,
              "#ed7953"
             ],
             [
              0.7777777777777778,
              "#fb9f3a"
             ],
             [
              0.8888888888888888,
              "#fdca26"
             ],
             [
              1,
              "#f0f921"
             ]
            ],
            "type": "histogram2dcontour"
           }
          ],
          "mesh3d": [
           {
            "colorbar": {
             "outlinewidth": 0,
             "ticks": ""
            },
            "type": "mesh3d"
           }
          ],
          "parcoords": [
           {
            "line": {
             "colorbar": {
              "outlinewidth": 0,
              "ticks": ""
             }
            },
            "type": "parcoords"
           }
          ],
          "pie": [
           {
            "automargin": true,
            "type": "pie"
           }
          ],
          "scatter": [
           {
            "fillpattern": {
             "fillmode": "overlay",
             "size": 10,
             "solidity": 0.2
            },
            "type": "scatter"
           }
          ],
          "scatter3d": [
           {
            "line": {
             "colorbar": {
              "outlinewidth": 0,
              "ticks": ""
             }
            },
            "marker": {
             "colorbar": {
              "outlinewidth": 0,
              "ticks": ""
             }
            },
            "type": "scatter3d"
           }
          ],
          "scattercarpet": [
           {
            "marker": {
             "colorbar": {
              "outlinewidth": 0,
              "ticks": ""
             }
            },
            "type": "scattercarpet"
           }
          ],
          "scattergeo": [
           {
            "marker": {
             "colorbar": {
              "outlinewidth": 0,
              "ticks": ""
             }
            },
            "type": "scattergeo"
           }
          ],
          "scattergl": [
           {
            "marker": {
             "colorbar": {
              "outlinewidth": 0,
              "ticks": ""
             }
            },
            "type": "scattergl"
           }
          ],
          "scattermap": [
           {
            "marker": {
             "colorbar": {
              "outlinewidth": 0,
              "ticks": ""
             }
            },
            "type": "scattermap"
           }
          ],
          "scattermapbox": [
           {
            "marker": {
             "colorbar": {
              "outlinewidth": 0,
              "ticks": ""
             }
            },
            "type": "scattermapbox"
           }
          ],
          "scatterpolar": [
           {
            "marker": {
             "colorbar": {
              "outlinewidth": 0,
              "ticks": ""
             }
            },
            "type": "scatterpolar"
           }
          ],
          "scatterpolargl": [
           {
            "marker": {
             "colorbar": {
              "outlinewidth": 0,
              "ticks": ""
             }
            },
            "type": "scatterpolargl"
           }
          ],
          "scatterternary": [
           {
            "marker": {
             "colorbar": {
              "outlinewidth": 0,
              "ticks": ""
             }
            },
            "type": "scatterternary"
           }
          ],
          "surface": [
           {
            "colorbar": {
             "outlinewidth": 0,
             "ticks": ""
            },
            "colorscale": [
             [
              0,
              "#0d0887"
             ],
             [
              0.1111111111111111,
              "#46039f"
             ],
             [
              0.2222222222222222,
              "#7201a8"
             ],
             [
              0.3333333333333333,
              "#9c179e"
             ],
             [
              0.4444444444444444,
              "#bd3786"
             ],
             [
              0.5555555555555556,
              "#d8576b"
             ],
             [
              0.6666666666666666,
              "#ed7953"
             ],
             [
              0.7777777777777778,
              "#fb9f3a"
             ],
             [
              0.8888888888888888,
              "#fdca26"
             ],
             [
              1,
              "#f0f921"
             ]
            ],
            "type": "surface"
           }
          ],
          "table": [
           {
            "cells": {
             "fill": {
              "color": "#EBF0F8"
             },
             "line": {
              "color": "white"
             }
            },
            "header": {
             "fill": {
              "color": "#C8D4E3"
             },
             "line": {
              "color": "white"
             }
            },
            "type": "table"
           }
          ]
         },
         "layout": {
          "annotationdefaults": {
           "arrowcolor": "#2a3f5f",
           "arrowhead": 0,
           "arrowwidth": 1
          },
          "autotypenumbers": "strict",
          "coloraxis": {
           "colorbar": {
            "outlinewidth": 0,
            "ticks": ""
           }
          },
          "colorscale": {
           "diverging": [
            [
             0,
             "#8e0152"
            ],
            [
             0.1,
             "#c51b7d"
            ],
            [
             0.2,
             "#de77ae"
            ],
            [
             0.3,
             "#f1b6da"
            ],
            [
             0.4,
             "#fde0ef"
            ],
            [
             0.5,
             "#f7f7f7"
            ],
            [
             0.6,
             "#e6f5d0"
            ],
            [
             0.7,
             "#b8e186"
            ],
            [
             0.8,
             "#7fbc41"
            ],
            [
             0.9,
             "#4d9221"
            ],
            [
             1,
             "#276419"
            ]
           ],
           "sequential": [
            [
             0,
             "#0d0887"
            ],
            [
             0.1111111111111111,
             "#46039f"
            ],
            [
             0.2222222222222222,
             "#7201a8"
            ],
            [
             0.3333333333333333,
             "#9c179e"
            ],
            [
             0.4444444444444444,
             "#bd3786"
            ],
            [
             0.5555555555555556,
             "#d8576b"
            ],
            [
             0.6666666666666666,
             "#ed7953"
            ],
            [
             0.7777777777777778,
             "#fb9f3a"
            ],
            [
             0.8888888888888888,
             "#fdca26"
            ],
            [
             1,
             "#f0f921"
            ]
           ],
           "sequentialminus": [
            [
             0,
             "#0d0887"
            ],
            [
             0.1111111111111111,
             "#46039f"
            ],
            [
             0.2222222222222222,
             "#7201a8"
            ],
            [
             0.3333333333333333,
             "#9c179e"
            ],
            [
             0.4444444444444444,
             "#bd3786"
            ],
            [
             0.5555555555555556,
             "#d8576b"
            ],
            [
             0.6666666666666666,
             "#ed7953"
            ],
            [
             0.7777777777777778,
             "#fb9f3a"
            ],
            [
             0.8888888888888888,
             "#fdca26"
            ],
            [
             1,
             "#f0f921"
            ]
           ]
          },
          "colorway": [
           "#636efa",
           "#EF553B",
           "#00cc96",
           "#ab63fa",
           "#FFA15A",
           "#19d3f3",
           "#FF6692",
           "#B6E880",
           "#FF97FF",
           "#FECB52"
          ],
          "font": {
           "color": "#2a3f5f"
          },
          "geo": {
           "bgcolor": "white",
           "lakecolor": "white",
           "landcolor": "white",
           "showlakes": true,
           "showland": true,
           "subunitcolor": "#C8D4E3"
          },
          "hoverlabel": {
           "align": "left"
          },
          "hovermode": "closest",
          "mapbox": {
           "style": "light"
          },
          "paper_bgcolor": "white",
          "plot_bgcolor": "white",
          "polar": {
           "angularaxis": {
            "gridcolor": "#EBF0F8",
            "linecolor": "#EBF0F8",
            "ticks": ""
           },
           "bgcolor": "white",
           "radialaxis": {
            "gridcolor": "#EBF0F8",
            "linecolor": "#EBF0F8",
            "ticks": ""
           }
          },
          "scene": {
           "xaxis": {
            "backgroundcolor": "white",
            "gridcolor": "#DFE8F3",
            "gridwidth": 2,
            "linecolor": "#EBF0F8",
            "showbackground": true,
            "ticks": "",
            "zerolinecolor": "#EBF0F8"
           },
           "yaxis": {
            "backgroundcolor": "white",
            "gridcolor": "#DFE8F3",
            "gridwidth": 2,
            "linecolor": "#EBF0F8",
            "showbackground": true,
            "ticks": "",
            "zerolinecolor": "#EBF0F8"
           },
           "zaxis": {
            "backgroundcolor": "white",
            "gridcolor": "#DFE8F3",
            "gridwidth": 2,
            "linecolor": "#EBF0F8",
            "showbackground": true,
            "ticks": "",
            "zerolinecolor": "#EBF0F8"
           }
          },
          "shapedefaults": {
           "line": {
            "color": "#2a3f5f"
           }
          },
          "ternary": {
           "aaxis": {
            "gridcolor": "#DFE8F3",
            "linecolor": "#A2B1C6",
            "ticks": ""
           },
           "baxis": {
            "gridcolor": "#DFE8F3",
            "linecolor": "#A2B1C6",
            "ticks": ""
           },
           "bgcolor": "white",
           "caxis": {
            "gridcolor": "#DFE8F3",
            "linecolor": "#A2B1C6",
            "ticks": ""
           }
          },
          "title": {
           "x": 0.05
          },
          "xaxis": {
           "automargin": true,
           "gridcolor": "#EBF0F8",
           "linecolor": "#EBF0F8",
           "ticks": "",
           "title": {
            "standoff": 15
           },
           "zerolinecolor": "#EBF0F8",
           "zerolinewidth": 2
          },
          "yaxis": {
           "automargin": true,
           "gridcolor": "#EBF0F8",
           "linecolor": "#EBF0F8",
           "ticks": "",
           "title": {
            "standoff": 15
           },
           "zerolinecolor": "#EBF0F8",
           "zerolinewidth": 2
          }
         }
        },
        "width": 1980.0000000000002,
        "xaxis": {
         "tickfont": {
          "color": "#00008B",
          "family": "Courier New",
          "size": 38
         },
         "ticktext": [
          "Globe Pharma",
          "NWP SEMICON",
          "Any Company",
          "Both Companies"
         ],
         "tickvals": [
          "Globe Pharma",
          "NWP SEMICON",
          "Any Company",
          "Both Companies"
         ],
         "title": {
          "font": {
           "color": "#00008B",
           "family": "Courier New",
           "size": 38
          },
          "text": "Company combinations"
         }
        },
        "yaxis": {
         "range": [
          0,
          105
         ],
         "tickfont": {
          "color": "#00008B",
          "family": "Courier New",
          "size": 38
         },
         "title": {
          "font": {
           "color": "#00008B",
           "family": "Courier New",
           "size": 38
          },
          "text": "Annual Probability of loss (%)"
         }
        }
       }
      }
     },
     "metadata": {},
     "output_type": "display_data"
    }
   ],
   "source": [
    "import pandas as pd\n",
    "import plotly.graph_objs as go\n",
    "\n",
    "# Create the DataFrame\n",
    "data = {\n",
    "    'Current': [95.00, 61.50, 70.50, 85.75],\n",
    "    'Future': [93.50, 64.00, 72.75, 85.00]\n",
    "}\n",
    "index = ['Any Company', 'Both Companies', 'Globe Pharma', 'NWP SEMICON']\n",
    "df = pd.DataFrame(data, index=index)\n",
    "df.index.name = 'Company combinations'\n",
    "\n",
    "# Reset index to get 'Company combinations' as a column\n",
    "df = df.reset_index()\n",
    "\n",
    "# Define the color mapping with the specified order\n",
    "ordered_companies = ['Globe Pharma', 'NWP SEMICON', 'Any Company', 'Both Companies']\n",
    "company_colors = ['#ffca3a', '#06d6a0', '#ef476f', '#3a86ff']  # Turquoise, Yellow, Red, Blue\n",
    "\n",
    "color_mapping_hex = {company: color for company, color in zip(ordered_companies, company_colors)}\n",
    "\n",
    "# Create the figure\n",
    "fig = go.Figure()\n",
    "\n",
    "# Font properties\n",
    "font_color = '#00008B'\n",
    "font_family = 'Courier New' # bold\n",
    "font_size = 38\n",
    "max_value = df[['Current', 'Future']].max().max() + 10  # Adjust based on data\n",
    "\n",
    "font_dict = dict(size=font_size, family=font_family, color=font_color)\n",
    "\n",
    "# Add bars for each company combination in the specified order\n",
    "for idx, (company, color) in enumerate(zip(ordered_companies, company_colors)):\n",
    "    # Add \"Current\" bars (plain)\n",
    "    fig.add_trace(\n",
    "        go.Bar(\n",
    "            x=[company], \n",
    "            y=[df.loc[df['Company combinations'] == company, 'Current'].values[0]], \n",
    "            name='Current' if idx == 0 else None,  # Show legend only for the first instance\n",
    "            marker_color=color, \n",
    "            text=[df.loc[df['Company combinations'] == company, 'Current'].values[0]],\n",
    "            textfont=dict(size=font_size, family=font_family, color=font_color),\n",
    "            textposition='outside',\n",
    "            legendgroup='Current',\n",
    "            showlegend=idx == 0,\n",
    "            offsetgroup='current'\n",
    "        ),\n",
    "    )\n",
    "    \n",
    "    # Add \"Future\" bars (striped)\n",
    "    fig.add_trace(\n",
    "        go.Bar(\n",
    "            x=[company], \n",
    "            y=[df.loc[df['Company combinations'] == company, 'Future'].values[0]], \n",
    "            name='Future' if idx == 0 else None,  # Show legend only for the first instance\n",
    "            marker_color=color, \n",
    "            marker_pattern_shape='/',\n",
    "            text=[df.loc[df['Company combinations'] == company, 'Future'].values[0]],\n",
    "            textfont=dict(size=font_size, family=font_family, color=font_color),\n",
    "            textposition='outside',\n",
    "            legendgroup='Future',\n",
    "            showlegend=idx == 0,\n",
    "            offsetgroup='future'\n",
    "        ),\n",
    "    )\n",
    "\n",
    "fig.update_layout(\n",
    "    template=\"plotly_white\",\n",
    "    xaxis_title='Company combinations',\n",
    "    yaxis_title='Annual Probability of loss (%)',\n",
    "    barmode=\"group\",\n",
    "    bargap=0.15,  # Reduce the gap between bars\n",
    "    xaxis_title_font=dict(size=font_size, family=font_family, color=font_color),\n",
    "    yaxis_title_font=dict(size=font_size, family=font_family, color=font_color),\n",
    "    xaxis_tickfont=dict(size=font_size, family=font_family, color=font_color),\n",
    "    yaxis_tickfont=dict(size=font_size, family=font_family, color=font_color),\n",
    "    legend_font=dict(size=font_size, family=font_family, color=font_color),\n",
    "    yaxis=dict(range=[0, max_value]), \n",
    "    height=1000*1.1,\n",
    "    width=1800*1.1,\n",
    "    legend=dict(\n",
    "        #title=dict(text='Time period', font=dict(size=font_size, family=font_family, color=font_color)),\n",
    "        orientation=\"h\",\n",
    "        yanchor=\"bottom\",\n",
    "        y=1.15,\n",
    "        xanchor=\"center\",\n",
    "        x=0.5,\n",
    "        bgcolor='rgba(255, 255, 255, 0.7)',\n",
    "        bordercolor='black',\n",
    "        borderwidth=2\n",
    "    ),\n",
    "    xaxis=dict(\n",
    "        #title='Company combinations',\n",
    "        tickvals=ordered_companies,\n",
    "        ticktext=ordered_companies\n",
    "    )\n",
    ")\n",
    "\n",
    "fig.show()\n",
    "\n",
    "# Save the figure as a PNG file\n",
    "file = 'ProabilityOfImpact.png'\n",
    "fig.write_image(file, scale=4)\n"
   ]
  },
  {
   "cell_type": "markdown",
   "metadata": {},
   "source": [
    "### Plot the risk attribution"
   ]
  },
  {
   "cell_type": "code",
   "execution_count": 8,
   "metadata": {},
   "outputs": [
    {
     "name": "stdout",
     "output_type": "stream",
     "text": [
      "The risk attribution including the risk transfer\n",
      "|    |   Unnamed: 0 | Time period   | Impact type   | Portfolio Strategy   | Company      |   Marginal ES | Risk Attribution             | legend_bar_Companies                  | legend_bar_Strategy                            |\n",
      "|---:|-------------:|:--------------|:--------------|:---------------------|:-------------|--------------:|:-----------------------------|:--------------------------------------|:-----------------------------------------------|\n",
      "|  0 |            0 | Historical    | Gross         | Globe<br>Pharma      | Globe Pharma |    0.207128   | Globe Pharma (Gross)         | Globe Pharma (Gross)                  | Globe Pharma (Gross)                           |\n",
      "|  1 |            1 | Historical    | Gross         | Globe<br>Pharma      | NWP SEMICON  |    0          | NWP SEMICON (Gross)          | NWP SEMICON (Gross)                   | NWP SEMICON (Gross)                            |\n",
      "|  2 |            2 | Historical    | Gross         | NWP<br>SEMICON       | Globe Pharma |    0          | Globe Pharma (Gross)         | Globe Pharma (Gross)                  | Globe Pharma (Gross)                           |\n",
      "|  3 |            3 | Historical    | Gross         | NWP<br>SEMICON       | NWP SEMICON  |    0.211164   | NWP SEMICON (Gross)          | NWP SEMICON (Gross)                   | NWP SEMICON (Gross)                            |\n",
      "|  4 |            4 | Historical    | Gross         | Equal                | Globe Pharma |    0.0797876  | Globe Pharma (Gross)         | Globe Pharma (Gross)                  | Globe Pharma (Gross)                           |\n",
      "|  5 |            5 | Historical    | Gross         | Equal                | NWP SEMICON  |    0.0486688  | NWP SEMICON (Gross)          | NWP SEMICON (Gross)                   | NWP SEMICON (Gross)                            |\n",
      "|  6 |            6 | Historical    | Gross         | Optimal              | Globe Pharma |    0.0615278  | Globe Pharma (Gross)         | Globe Pharma (Gross)                  | Globe Pharma (Gross)                           |\n",
      "|  7 |            7 | Historical    | Gross         | Optimal              | NWP SEMICON  |    0.0662612  | NWP SEMICON (Gross)          | NWP SEMICON (Gross)                   | NWP SEMICON (Gross)                            |\n",
      "|  8 |            8 | Historical    | Net           | Globe<br>Pharma      | Globe Pharma |    0.094171   | Globe Pharma (Net)           | Globe Pharma - ES                     | Globe Pharma - Marginal ES                     |\n",
      "|  9 |            9 | Historical    | Net           | Globe<br>Pharma      | NWP SEMICON  |    0          | NWP SEMICON (Net)            | NWP SEMICON - ES                      | NWP SEMICON - Marginal ES                      |\n",
      "| 10 |           10 | Historical    | Net           | NWP<br>SEMICON       | Globe Pharma |    0          | Globe Pharma (Net)           | Globe Pharma - ES                     | Globe Pharma - Marginal ES                     |\n",
      "| 11 |           11 | Historical    | Net           | NWP<br>SEMICON       | NWP SEMICON  |    0.193135   | NWP SEMICON (Net)            | NWP SEMICON - ES                      | NWP SEMICON - Marginal ES                      |\n",
      "| 12 |           12 | Historical    | Net           | Equal                | Globe Pharma |    0.00617772 | Globe Pharma (Net)           | Globe Pharma - ES                     | Globe Pharma - Marginal ES                     |\n",
      "| 13 |           13 | Historical    | Net           | Equal                | NWP SEMICON  |    0.0948843  | NWP SEMICON (Net)            | NWP SEMICON - ES                      | NWP SEMICON - Marginal ES                      |\n",
      "| 14 |           14 | Historical    | Net           | Optimal              | Globe Pharma |    0.052703   | Globe Pharma (Net)           | Globe Pharma - ES                     | Globe Pharma - Marginal ES                     |\n",
      "| 15 |           15 | Historical    | Net           | Optimal              | NWP SEMICON  |    0.0251254  | NWP SEMICON (Net)            | NWP SEMICON - ES                      | NWP SEMICON - Marginal ES                      |\n",
      "| 16 |           16 | Current       | Gross         | Globe<br>Pharma      | Globe Pharma |    0.198489   | Globe Pharma (Gross)         | Globe Pharma (Gross)                  | Globe Pharma (Gross)                           |\n",
      "| 17 |           17 | Current       | Gross         | Globe<br>Pharma      | NWP SEMICON  |    0          | NWP SEMICON (Gross)          | NWP SEMICON (Gross)                   | NWP SEMICON (Gross)                            |\n",
      "| 18 |           18 | Current       | Gross         | NWP<br>SEMICON       | Globe Pharma |    0          | Globe Pharma (Gross)         | Globe Pharma (Gross)                  | Globe Pharma (Gross)                           |\n",
      "| 19 |           19 | Current       | Gross         | NWP<br>SEMICON       | NWP SEMICON  |    0.307688   | NWP SEMICON (Gross)          | NWP SEMICON (Gross)                   | NWP SEMICON (Gross)                            |\n",
      "| 20 |           20 | Current       | Gross         | Equal                | Globe Pharma |    0.0362931  | Globe Pharma (Gross)         | Globe Pharma (Gross)                  | Globe Pharma (Gross)                           |\n",
      "| 21 |           21 | Current       | Gross         | Equal                | NWP SEMICON  |    0.134365   | NWP SEMICON (Gross)          | NWP SEMICON (Gross)                   | NWP SEMICON (Gross)                            |\n",
      "| 22 |           22 | Current       | Gross         | Optimal              | Globe Pharma |    0.100575   | Globe Pharma (Gross)         | Globe Pharma (Gross)                  | Globe Pharma (Gross)                           |\n",
      "| 23 |           23 | Current       | Gross         | Optimal              | NWP SEMICON  |    0.0538511  | NWP SEMICON (Gross)          | NWP SEMICON (Gross)                   | NWP SEMICON (Gross)                            |\n",
      "| 24 |           24 | Current       | Net           | Globe<br>Pharma      | Globe Pharma |    0.0997967  | Globe Pharma (Net)           | Globe Pharma - ES                     | Globe Pharma - Marginal ES                     |\n",
      "| 25 |           25 | Current       | Net           | Globe<br>Pharma      | NWP SEMICON  |    0          | NWP SEMICON (Net)            | NWP SEMICON - ES                      | NWP SEMICON - Marginal ES                      |\n",
      "| 26 |           26 | Current       | Net           | NWP<br>SEMICON       | Globe Pharma |    0          | Globe Pharma (Net)           | Globe Pharma - ES                     | Globe Pharma - Marginal ES                     |\n",
      "| 27 |           27 | Current       | Net           | NWP<br>SEMICON       | NWP SEMICON  |    0.233614   | NWP SEMICON (Net)            | NWP SEMICON - ES                      | NWP SEMICON - Marginal ES                      |\n",
      "| 28 |           28 | Current       | Net           | Equal                | Globe Pharma |    0.0102749  | Globe Pharma (Net)           | Globe Pharma - ES                     | Globe Pharma - Marginal ES                     |\n",
      "| 29 |           29 | Current       | Net           | Equal                | NWP SEMICON  |    0.113609   | NWP SEMICON (Net)            | NWP SEMICON - ES                      | NWP SEMICON - Marginal ES                      |\n",
      "| 30 |           30 | Current       | Net           | Optimal              | Globe Pharma |    0.0710518  | Globe Pharma (Net)           | Globe Pharma - ES                     | Globe Pharma - Marginal ES                     |\n",
      "| 31 |           31 | Current       | Net           | Optimal              | NWP SEMICON  |    0.0195926  | NWP SEMICON (Net)            | NWP SEMICON - ES                      | NWP SEMICON - Marginal ES                      |\n",
      "| 32 |           32 | Future        | Gross         | Globe<br>Pharma      | Globe Pharma |    0.227704   | Globe Pharma (Gross)         | Globe Pharma (Gross)                  | Globe Pharma (Gross)                           |\n",
      "| 33 |           33 | Future        | Gross         | Globe<br>Pharma      | NWP SEMICON  |    0          | NWP SEMICON (Gross)          | NWP SEMICON (Gross)                   | NWP SEMICON (Gross)                            |\n",
      "| 34 |           34 | Future        | Gross         | NWP<br>SEMICON       | Globe Pharma |    0          | Globe Pharma (Gross)         | Globe Pharma (Gross)                  | Globe Pharma (Gross)                           |\n",
      "| 35 |           35 | Future        | Gross         | NWP<br>SEMICON       | NWP SEMICON  |    0.320557   | NWP SEMICON (Gross)          | NWP SEMICON (Gross)                   | NWP SEMICON (Gross)                            |\n",
      "| 36 |           36 | Future        | Gross         | Equal                | Globe Pharma |    0.04766    | Globe Pharma (Gross)         | Globe Pharma (Gross)                  | Globe Pharma (Gross)                           |\n",
      "| 37 |           37 | Future        | Gross         | Equal                | NWP SEMICON  |    0.134943   | NWP SEMICON (Gross)          | NWP SEMICON (Gross)                   | NWP SEMICON (Gross)                            |\n",
      "| 38 |           38 | Future        | Gross         | Optimal              | Globe Pharma |    0.106325   | Globe Pharma (Gross)         | Globe Pharma (Gross)                  | Globe Pharma (Gross)                           |\n",
      "| 39 |           39 | Future        | Gross         | Optimal              | NWP SEMICON  |    0.0643295  | NWP SEMICON (Gross)          | NWP SEMICON (Gross)                   | NWP SEMICON (Gross)                            |\n",
      "| 40 |           40 | Future        | Net           | Globe<br>Pharma      | Globe Pharma |    0.104057   | Globe Pharma (Net)           | Globe Pharma - ES                     | Globe Pharma - Marginal ES                     |\n",
      "| 41 |           41 | Future        | Net           | Globe<br>Pharma      | NWP SEMICON  |    0          | NWP SEMICON (Net)            | NWP SEMICON - ES                      | NWP SEMICON - Marginal ES                      |\n",
      "| 42 |           42 | Future        | Net           | NWP<br>SEMICON       | Globe Pharma |    0          | Globe Pharma (Net)           | Globe Pharma - ES                     | Globe Pharma - Marginal ES                     |\n",
      "| 43 |           43 | Future        | Net           | NWP<br>SEMICON       | NWP SEMICON  |    0.222937   | NWP SEMICON (Net)            | NWP SEMICON - ES                      | NWP SEMICON - Marginal ES                      |\n",
      "| 44 |           44 | Future        | Net           | Equal                | Globe Pharma |    0.0141596  | Globe Pharma (Net)           | Globe Pharma - ES                     | Globe Pharma - Marginal ES                     |\n",
      "| 45 |           45 | Future        | Net           | Equal                | NWP SEMICON  |    0.105943   | NWP SEMICON (Net)            | NWP SEMICON - ES                      | NWP SEMICON - Marginal ES                      |\n",
      "| 46 |           46 | Future        | Net           | Optimal              | Globe Pharma |    0.0683649  | Globe Pharma (Net)           | Globe Pharma - ES                     | Globe Pharma - Marginal ES                     |\n",
      "| 47 |           47 | Future        | Net           | Optimal              | NWP SEMICON  |    0.0242796  | NWP SEMICON (Net)            | NWP SEMICON - ES                      | NWP SEMICON - Marginal ES                      |\n",
      "| 48 |           48 | Historical    | Risk Transfer | Globe<br>Pharma      | Globe Pharma |    0.112957   | Globe Pharma (Risk Transfer) | Globe Pharma - ES Insurance Reduction | Globe Pharma - Marginal ES Insurance Reduction |\n",
      "| 49 |           49 | Historical    | Risk Transfer | Globe<br>Pharma      | NWP SEMICON  |    0          | NWP SEMICON (Risk Transfer)  | NWP SEMICON - ES Insurance Reduction  | NWP SEMICON - Marginal ES Insurance Reduction  |\n",
      "| 50 |           50 | Historical    | Risk Transfer | NWP<br>SEMICON       | Globe Pharma |    0          | Globe Pharma (Risk Transfer) | Globe Pharma - ES Insurance Reduction | Globe Pharma - Marginal ES Insurance Reduction |\n",
      "| 51 |           51 | Historical    | Risk Transfer | NWP<br>SEMICON       | NWP SEMICON  |    0.0180286  | NWP SEMICON (Risk Transfer)  | NWP SEMICON - ES Insurance Reduction  | NWP SEMICON - Marginal ES Insurance Reduction  |\n",
      "| 52 |           52 | Historical    | Risk Transfer | Equal                | Globe Pharma |    0.0736099  | Globe Pharma (Risk Transfer) | Globe Pharma - ES Insurance Reduction | Globe Pharma - Marginal ES Insurance Reduction |\n",
      "| 53 |           53 | Historical    | Risk Transfer | Equal                | NWP SEMICON  |   -0.0462155  | NWP SEMICON (Risk Transfer)  | NWP SEMICON - ES Insurance Reduction  | NWP SEMICON - Marginal ES Insurance Reduction  |\n",
      "| 54 |           54 | Historical    | Risk Transfer | Optimal              | Globe Pharma |    0.00882481 | Globe Pharma (Risk Transfer) | Globe Pharma - ES Insurance Reduction | Globe Pharma - Marginal ES Insurance Reduction |\n",
      "| 55 |           55 | Historical    | Risk Transfer | Optimal              | NWP SEMICON  |    0.0411358  | NWP SEMICON (Risk Transfer)  | NWP SEMICON - ES Insurance Reduction  | NWP SEMICON - Marginal ES Insurance Reduction  |\n",
      "| 56 |           56 | Current       | Risk Transfer | Globe<br>Pharma      | Globe Pharma |    0.0986921  | Globe Pharma (Risk Transfer) | Globe Pharma - ES Insurance Reduction | Globe Pharma - Marginal ES Insurance Reduction |\n",
      "| 57 |           57 | Current       | Risk Transfer | Globe<br>Pharma      | NWP SEMICON  |    0          | NWP SEMICON (Risk Transfer)  | NWP SEMICON - ES Insurance Reduction  | NWP SEMICON - Marginal ES Insurance Reduction  |\n",
      "| 58 |           58 | Current       | Risk Transfer | NWP<br>SEMICON       | Globe Pharma |    0          | Globe Pharma (Risk Transfer) | Globe Pharma - ES Insurance Reduction | Globe Pharma - Marginal ES Insurance Reduction |\n",
      "| 59 |           59 | Current       | Risk Transfer | NWP<br>SEMICON       | NWP SEMICON  |    0.0740744  | NWP SEMICON (Risk Transfer)  | NWP SEMICON - ES Insurance Reduction  | NWP SEMICON - Marginal ES Insurance Reduction  |\n",
      "| 60 |           60 | Current       | Risk Transfer | Equal                | Globe Pharma |    0.0260182  | Globe Pharma (Risk Transfer) | Globe Pharma - ES Insurance Reduction | Globe Pharma - Marginal ES Insurance Reduction |\n",
      "| 61 |           61 | Current       | Risk Transfer | Equal                | NWP SEMICON  |    0.0207554  | NWP SEMICON (Risk Transfer)  | NWP SEMICON - ES Insurance Reduction  | NWP SEMICON - Marginal ES Insurance Reduction  |\n",
      "| 62 |           62 | Current       | Risk Transfer | Optimal              | Globe Pharma |    0.0295228  | Globe Pharma (Risk Transfer) | Globe Pharma - ES Insurance Reduction | Globe Pharma - Marginal ES Insurance Reduction |\n",
      "| 63 |           63 | Current       | Risk Transfer | Optimal              | NWP SEMICON  |    0.0342585  | NWP SEMICON (Risk Transfer)  | NWP SEMICON - ES Insurance Reduction  | NWP SEMICON - Marginal ES Insurance Reduction  |\n",
      "| 64 |           64 | Future        | Risk Transfer | Globe<br>Pharma      | Globe Pharma |    0.123647   | Globe Pharma (Risk Transfer) | Globe Pharma - ES Insurance Reduction | Globe Pharma - Marginal ES Insurance Reduction |\n",
      "| 65 |           65 | Future        | Risk Transfer | Globe<br>Pharma      | NWP SEMICON  |    0          | NWP SEMICON (Risk Transfer)  | NWP SEMICON - ES Insurance Reduction  | NWP SEMICON - Marginal ES Insurance Reduction  |\n",
      "| 66 |           66 | Future        | Risk Transfer | NWP<br>SEMICON       | Globe Pharma |    0          | Globe Pharma (Risk Transfer) | Globe Pharma - ES Insurance Reduction | Globe Pharma - Marginal ES Insurance Reduction |\n",
      "| 67 |           67 | Future        | Risk Transfer | NWP<br>SEMICON       | NWP SEMICON  |    0.0976196  | NWP SEMICON (Risk Transfer)  | NWP SEMICON - ES Insurance Reduction  | NWP SEMICON - Marginal ES Insurance Reduction  |\n",
      "| 68 |           68 | Future        | Risk Transfer | Equal                | Globe Pharma |    0.0335004  | Globe Pharma (Risk Transfer) | Globe Pharma - ES Insurance Reduction | Globe Pharma - Marginal ES Insurance Reduction |\n",
      "| 69 |           69 | Future        | Risk Transfer | Equal                | NWP SEMICON  |    0.0290008  | NWP SEMICON (Risk Transfer)  | NWP SEMICON - ES Insurance Reduction  | NWP SEMICON - Marginal ES Insurance Reduction  |\n",
      "| 70 |           70 | Future        | Risk Transfer | Optimal              | Globe Pharma |    0.0379601  | Globe Pharma (Risk Transfer) | Globe Pharma - ES Insurance Reduction | Globe Pharma - Marginal ES Insurance Reduction |\n",
      "| 71 |           71 | Future        | Risk Transfer | Optimal              | NWP SEMICON  |    0.0400498  | NWP SEMICON (Risk Transfer)  | NWP SEMICON - ES Insurance Reduction  | NWP SEMICON - Marginal ES Insurance Reduction  | \n",
      "\n"
     ]
    }
   ],
   "source": [
    "risk_attr_incl_risk_transf_df = risk_attr_dict[keys[0]]\n",
    "\n",
    "print('The risk attribution including the risk transfer')\n",
    "print(tabulate.tabulate(risk_attr_incl_risk_transf_df, headers='keys', tablefmt='pipe'), '\\n')"
   ]
  },
  {
   "cell_type": "markdown",
   "metadata": {},
   "source": [
    "### Utility function for plotting"
   ]
  },
  {
   "cell_type": "code",
   "execution_count": 9,
   "metadata": {},
   "outputs": [],
   "source": [
    "# Filter the data based on a dictionary of filters\n",
    "\n",
    "def filter_dataframe(df, filters, columns_to_remove):\n",
    "    df_copy = df.copy()  # make a copy of the DataFrame\n",
    "    for col, values in filters.items():\n",
    "        df_copy = df_copy[df_copy[col].isin(values)]\n",
    "    df_copy = df_copy.drop(columns=columns_to_remove)\n",
    "    return df_copy\n"
   ]
  },
  {
   "cell_type": "markdown",
   "metadata": {},
   "source": [
    "### Define the colors"
   ]
  },
  {
   "cell_type": "code",
   "execution_count": 10,
   "metadata": {},
   "outputs": [],
   "source": [
    "import seaborn as sns\n",
    "import re\n",
    "import matplotlib.colors as mcolors\n",
    "import cartopy.feature as cfeature\n",
    "import matplotlib\n",
    "\n",
    "# Color inspiration: https://coolors.co/palettes/trending\n",
    "\n",
    "# Colours and labels for legend\n",
    "cmap = matplotlib.colors.LinearSegmentedColormap.from_list(\"\", ['#ef476f', '#3a86ff', '#06d6a0'])\n",
    "label = ('Globe Pharma', 'NWP SEMICON')\n",
    "company_colors = ['#06d6a0', '#ffca3a']  # Turquoise and Yellow\n",
    "\n",
    "# Specific color for NWP SEMICON\n",
    "green_turquoise_hex = '#40e0d0'  # More greenish turquoise color\n",
    "\n",
    "# Create color mapping for companies\n",
    "unique_companies = risk_attr_incl_risk_transf_df['Company'].unique()\n",
    "company_colors = dict(zip(unique_companies, sns.color_palette(\"hls\", len(unique_companies))))\n",
    "\n",
    "# Set NWP SEMICON to a specific color\n",
    "company_colors['NWP SEMICON'] = '#06d6a0'  # Use the first color for NWP SEMICON\n",
    "company_colors['Globe Pharma'] = '#ffca3a'  # Use the second color for Globe Pharma\n",
    "\n",
    "\n",
    "# Create the color mapping dictionary\n",
    "color_mapping = {}\n",
    "\n",
    "# Assign distinct color to (netto) and light version of the color to (gross) for each company\n",
    "for company in unique_companies:\n",
    "    if company in company_colors:\n",
    "        color_mapping[company] = company_colors[company]\n",
    "        color_mapping[company + ' (Net)'] = company_colors[company]\n",
    "        color_mapping[company + ' (Risk Transfer)'] = sns.light_palette(company_colors[company])[2]  # Use a lighter shade for gross\n",
    "        # For the legend bars\n",
    "        color_mapping[company + ' - ES'] = company_colors[company]\n",
    "        color_mapping[company + ' - ES Insurance Reduction'] = sns.light_palette(company_colors[company])[2]\n",
    "        color_mapping[company + ' - Marginal ES'] = company_colors[company]\n",
    "        color_mapping[company + ' - MES Insurance Reduction'] = sns.light_palette(company_colors[company])[2]\n",
    "\n",
    "color_mapping\n",
    "\n",
    "# Convert RGB colors to hexadecimal format\n",
    "color_mapping_hex = {k: mcolors.rgb2hex(v) for k, v in color_mapping.items()}\n",
    "\n"
   ]
  },
  {
   "cell_type": "markdown",
   "metadata": {},
   "source": [
    "### Plot - Risk per company"
   ]
  },
  {
   "cell_type": "code",
   "execution_count": 11,
   "metadata": {},
   "outputs": [],
   "source": [
    "portfolio_strategies = ['Globe Pharma', 'NWP SEMICON', 'Equal', 'Optimal']"
   ]
  },
  {
   "cell_type": "code",
   "execution_count": 12,
   "metadata": {},
   "outputs": [
    {
     "name": "stdout",
     "output_type": "stream",
     "text": [
      "The risk attribution including the risk transfer\n",
      "|    | Time period   | Impact type   | Portfolio Strategy   | Company      | Risk Attribution             | legend_bar_Companies                  | legend_bar_Strategy                            |   Marginal ES |\n",
      "|---:|:--------------|:--------------|:---------------------|:-------------|:-----------------------------|:--------------------------------------|:-----------------------------------------------|--------------:|\n",
      "|  0 | Historical    | Gross         | Globe<br>Pharma      | Globe Pharma | Globe Pharma (Gross)         | Globe Pharma (Gross)                  | Globe Pharma (Gross)                           |    0.207425   |\n",
      "|  1 | Historical    | Gross         | Globe<br>Pharma      | NWP SEMICON  | NWP SEMICON (Gross)          | NWP SEMICON (Gross)                   | NWP SEMICON (Gross)                            |    0          |\n",
      "|  2 | Historical    | Gross         | NWP<br>SEMICON       | Globe Pharma | Globe Pharma (Gross)         | Globe Pharma (Gross)                  | Globe Pharma (Gross)                           |    0          |\n",
      "|  3 | Historical    | Gross         | NWP<br>SEMICON       | NWP SEMICON  | NWP SEMICON (Gross)          | NWP SEMICON (Gross)                   | NWP SEMICON (Gross)                            |    0.212978   |\n",
      "|  4 | Historical    | Gross         | Equal                | Globe Pharma | Globe Pharma (Gross)         | Globe Pharma (Gross)                  | Globe Pharma (Gross)                           |    0.0786923  |\n",
      "|  5 | Historical    | Gross         | Equal                | NWP SEMICON  | NWP SEMICON (Gross)          | NWP SEMICON (Gross)                   | NWP SEMICON (Gross)                            |    0.0485959  |\n",
      "|  6 | Historical    | Gross         | Optimal              | Globe Pharma | Globe Pharma (Gross)         | Globe Pharma (Gross)                  | Globe Pharma (Gross)                           |    0.0609646  |\n",
      "|  7 | Historical    | Gross         | Optimal              | NWP SEMICON  | NWP SEMICON (Gross)          | NWP SEMICON (Gross)                   | NWP SEMICON (Gross)                            |    0.0656067  |\n",
      "|  8 | Historical    | Net           | Globe<br>Pharma      | Globe Pharma | Globe Pharma (Net)           | Globe Pharma - ES                     | Globe Pharma - Marginal ES                     |    0.0944683  |\n",
      "|  9 | Historical    | Net           | Globe<br>Pharma      | NWP SEMICON  | NWP SEMICON (Net)            | NWP SEMICON - ES                      | NWP SEMICON - Marginal ES                      |    0          |\n",
      "| 10 | Historical    | Net           | NWP<br>SEMICON       | Globe Pharma | Globe Pharma (Net)           | Globe Pharma - ES                     | Globe Pharma - Marginal ES                     |    0          |\n",
      "| 11 | Historical    | Net           | NWP<br>SEMICON       | NWP SEMICON  | NWP SEMICON (Net)            | NWP SEMICON - ES                      | NWP SEMICON - Marginal ES                      |    0.194702   |\n",
      "| 12 | Historical    | Net           | Equal                | Globe Pharma | Globe Pharma (Net)           | Globe Pharma - ES                     | Globe Pharma - Marginal ES                     |    0.00465476 |\n",
      "| 13 | Historical    | Net           | Equal                | NWP SEMICON  | NWP SEMICON (Net)            | NWP SEMICON - ES                      | NWP SEMICON - Marginal ES                      |    0.09628    |\n",
      "| 14 | Historical    | Net           | Optimal              | Globe Pharma | Globe Pharma (Net)           | Globe Pharma - ES                     | Globe Pharma - Marginal ES                     |    0.0527307  |\n",
      "| 15 | Historical    | Net           | Optimal              | NWP SEMICON  | NWP SEMICON (Net)            | NWP SEMICON - ES                      | NWP SEMICON - Marginal ES                      |    0.0244248  |\n",
      "| 16 | Current       | Gross         | Globe<br>Pharma      | Globe Pharma | Globe Pharma (Gross)         | Globe Pharma (Gross)                  | Globe Pharma (Gross)                           |    0.199456   |\n",
      "| 17 | Current       | Gross         | Globe<br>Pharma      | NWP SEMICON  | NWP SEMICON (Gross)          | NWP SEMICON (Gross)                   | NWP SEMICON (Gross)                            |    0          |\n",
      "| 18 | Current       | Gross         | NWP<br>SEMICON       | Globe Pharma | Globe Pharma (Gross)         | Globe Pharma (Gross)                  | Globe Pharma (Gross)                           |    0          |\n",
      "| 19 | Current       | Gross         | NWP<br>SEMICON       | NWP SEMICON  | NWP SEMICON (Gross)          | NWP SEMICON (Gross)                   | NWP SEMICON (Gross)                            |    0.314579   |\n",
      "| 20 | Current       | Gross         | Equal                | Globe Pharma | Globe Pharma (Gross)         | Globe Pharma (Gross)                  | Globe Pharma (Gross)                           |    0.0339972  |\n",
      "| 21 | Current       | Gross         | Equal                | NWP SEMICON  | NWP SEMICON (Gross)          | NWP SEMICON (Gross)                   | NWP SEMICON (Gross)                            |    0.139179   |\n",
      "| 22 | Current       | Gross         | Optimal              | Globe Pharma | Globe Pharma (Gross)         | Globe Pharma (Gross)                  | Globe Pharma (Gross)                           |    0.101658   |\n",
      "| 23 | Current       | Gross         | Optimal              | NWP SEMICON  | NWP SEMICON (Gross)          | NWP SEMICON (Gross)                   | NWP SEMICON (Gross)                            |    0.0528791  |\n",
      "| 24 | Current       | Net           | Globe<br>Pharma      | Globe Pharma | Globe Pharma (Net)           | Globe Pharma - ES                     | Globe Pharma - Marginal ES                     |    0.104964   |\n",
      "| 25 | Current       | Net           | Globe<br>Pharma      | NWP SEMICON  | NWP SEMICON (Net)            | NWP SEMICON - ES                      | NWP SEMICON - Marginal ES                      |    0          |\n",
      "| 26 | Current       | Net           | NWP<br>SEMICON       | Globe Pharma | Globe Pharma (Net)           | Globe Pharma - ES                     | Globe Pharma - Marginal ES                     |    0          |\n",
      "| 27 | Current       | Net           | NWP<br>SEMICON       | NWP SEMICON  | NWP SEMICON (Net)            | NWP SEMICON - ES                      | NWP SEMICON - Marginal ES                      |    0.237654   |\n",
      "| 28 | Current       | Net           | Equal                | Globe Pharma | Globe Pharma (Net)           | Globe Pharma - ES                     | Globe Pharma - Marginal ES                     |    0.0115192  |\n",
      "| 29 | Current       | Net           | Equal                | NWP SEMICON  | NWP SEMICON (Net)            | NWP SEMICON - ES                      | NWP SEMICON - Marginal ES                      |    0.11488    |\n",
      "| 30 | Current       | Net           | Optimal              | Globe Pharma | Globe Pharma (Net)           | Globe Pharma - ES                     | Globe Pharma - Marginal ES                     |    0.0727576  |\n",
      "| 31 | Current       | Net           | Optimal              | NWP SEMICON  | NWP SEMICON (Net)            | NWP SEMICON - ES                      | NWP SEMICON - Marginal ES                      |    0.020867   |\n",
      "| 32 | Future        | Gross         | Globe<br>Pharma      | Globe Pharma | Globe Pharma (Gross)         | Globe Pharma (Gross)                  | Globe Pharma (Gross)                           |    0.243828   |\n",
      "| 33 | Future        | Gross         | Globe<br>Pharma      | NWP SEMICON  | NWP SEMICON (Gross)          | NWP SEMICON (Gross)                   | NWP SEMICON (Gross)                            |    0          |\n",
      "| 34 | Future        | Gross         | NWP<br>SEMICON       | Globe Pharma | Globe Pharma (Gross)         | Globe Pharma (Gross)                  | Globe Pharma (Gross)                           |    0          |\n",
      "| 35 | Future        | Gross         | NWP<br>SEMICON       | NWP SEMICON  | NWP SEMICON (Gross)          | NWP SEMICON (Gross)                   | NWP SEMICON (Gross)                            |    0.40996    |\n",
      "| 36 | Future        | Gross         | Equal                | Globe Pharma | Globe Pharma (Gross)         | Globe Pharma (Gross)                  | Globe Pharma (Gross)                           |    0.041714   |\n",
      "| 37 | Future        | Gross         | Equal                | NWP SEMICON  | NWP SEMICON (Gross)          | NWP SEMICON (Gross)                   | NWP SEMICON (Gross)                            |    0.182817   |\n",
      "| 38 | Future        | Gross         | Optimal              | Globe Pharma | Globe Pharma (Gross)         | Globe Pharma (Gross)                  | Globe Pharma (Gross)                           |    0.133561   |\n",
      "| 39 | Future        | Gross         | Optimal              | NWP SEMICON  | NWP SEMICON (Gross)          | NWP SEMICON (Gross)                   | NWP SEMICON (Gross)                            |    0.06143    |\n",
      "| 40 | Future        | Net           | Globe<br>Pharma      | Globe Pharma | Globe Pharma (Net)           | Globe Pharma - ES                     | Globe Pharma - Marginal ES                     |    0.119899   |\n",
      "| 41 | Future        | Net           | Globe<br>Pharma      | NWP SEMICON  | NWP SEMICON (Net)            | NWP SEMICON - ES                      | NWP SEMICON - Marginal ES                      |    0          |\n",
      "| 42 | Future        | Net           | NWP<br>SEMICON       | Globe Pharma | Globe Pharma (Net)           | Globe Pharma - ES                     | Globe Pharma - Marginal ES                     |    0          |\n",
      "| 43 | Future        | Net           | NWP<br>SEMICON       | NWP SEMICON  | NWP SEMICON (Net)            | NWP SEMICON - ES                      | NWP SEMICON - Marginal ES                      |    0.279313   |\n",
      "| 44 | Future        | Net           | Equal                | Globe Pharma | Globe Pharma (Net)           | Globe Pharma - ES                     | Globe Pharma - Marginal ES                     |    0.0174351  |\n",
      "| 45 | Future        | Net           | Equal                | NWP SEMICON  | NWP SEMICON (Net)            | NWP SEMICON - ES                      | NWP SEMICON - Marginal ES                      |    0.133971   |\n",
      "| 46 | Future        | Net           | Optimal              | Globe Pharma | Globe Pharma (Net)           | Globe Pharma - ES                     | Globe Pharma - Marginal ES                     |    0.0876478  |\n",
      "| 47 | Future        | Net           | Optimal              | NWP SEMICON  | NWP SEMICON (Net)            | NWP SEMICON - ES                      | NWP SEMICON - Marginal ES                      |    0.0221732  |\n",
      "| 48 | Historical    | Risk Transfer | Globe<br>Pharma      | Globe Pharma | Globe Pharma (Risk Transfer) | Globe Pharma - ES Insurance Reduction | Globe Pharma - Marginal ES Insurance Reduction |    0.112957   |\n",
      "| 49 | Historical    | Risk Transfer | Globe<br>Pharma      | NWP SEMICON  | NWP SEMICON (Risk Transfer)  | NWP SEMICON - ES Insurance Reduction  | NWP SEMICON - Marginal ES Insurance Reduction  |    0          |\n",
      "| 50 | Historical    | Risk Transfer | NWP<br>SEMICON       | Globe Pharma | Globe Pharma (Risk Transfer) | Globe Pharma - ES Insurance Reduction | Globe Pharma - Marginal ES Insurance Reduction |    0          |\n",
      "| 51 | Historical    | Risk Transfer | NWP<br>SEMICON       | NWP SEMICON  | NWP SEMICON (Risk Transfer)  | NWP SEMICON - ES Insurance Reduction  | NWP SEMICON - Marginal ES Insurance Reduction  |    0.0182763  |\n",
      "| 52 | Historical    | Risk Transfer | Equal                | Globe Pharma | Globe Pharma (Risk Transfer) | Globe Pharma - ES Insurance Reduction | Globe Pharma - Marginal ES Insurance Reduction |    0.0740375  |\n",
      "| 53 | Historical    | Risk Transfer | Equal                | NWP SEMICON  | NWP SEMICON (Risk Transfer)  | NWP SEMICON - ES Insurance Reduction  | NWP SEMICON - Marginal ES Insurance Reduction  |   -0.0476841  |\n",
      "| 54 | Historical    | Risk Transfer | Optimal              | Globe Pharma | Globe Pharma (Risk Transfer) | Globe Pharma - ES Insurance Reduction | Globe Pharma - Marginal ES Insurance Reduction |    0.00823398 |\n",
      "| 55 | Historical    | Risk Transfer | Optimal              | NWP SEMICON  | NWP SEMICON (Risk Transfer)  | NWP SEMICON - ES Insurance Reduction  | NWP SEMICON - Marginal ES Insurance Reduction  |    0.0411819  |\n",
      "| 56 | Current       | Risk Transfer | Globe<br>Pharma      | Globe Pharma | Globe Pharma (Risk Transfer) | Globe Pharma - ES Insurance Reduction | Globe Pharma - Marginal ES Insurance Reduction |    0.0944926  |\n",
      "| 57 | Current       | Risk Transfer | Globe<br>Pharma      | NWP SEMICON  | NWP SEMICON (Risk Transfer)  | NWP SEMICON - ES Insurance Reduction  | NWP SEMICON - Marginal ES Insurance Reduction  |    0          |\n",
      "| 58 | Current       | Risk Transfer | NWP<br>SEMICON       | Globe Pharma | Globe Pharma (Risk Transfer) | Globe Pharma - ES Insurance Reduction | Globe Pharma - Marginal ES Insurance Reduction |    0          |\n",
      "| 59 | Current       | Risk Transfer | NWP<br>SEMICON       | NWP SEMICON  | NWP SEMICON (Risk Transfer)  | NWP SEMICON - ES Insurance Reduction  | NWP SEMICON - Marginal ES Insurance Reduction  |    0.0769253  |\n",
      "| 60 | Current       | Risk Transfer | Equal                | Globe Pharma | Globe Pharma (Risk Transfer) | Globe Pharma - ES Insurance Reduction | Globe Pharma - Marginal ES Insurance Reduction |    0.022478   |\n",
      "| 61 | Current       | Risk Transfer | Equal                | NWP SEMICON  | NWP SEMICON (Risk Transfer)  | NWP SEMICON - ES Insurance Reduction  | NWP SEMICON - Marginal ES Insurance Reduction  |    0.0242993  |\n",
      "| 62 | Current       | Risk Transfer | Optimal              | Globe Pharma | Globe Pharma (Risk Transfer) | Globe Pharma - ES Insurance Reduction | Globe Pharma - Marginal ES Insurance Reduction |    0.0288999  |\n",
      "| 63 | Current       | Risk Transfer | Optimal              | NWP SEMICON  | NWP SEMICON (Risk Transfer)  | NWP SEMICON - ES Insurance Reduction  | NWP SEMICON - Marginal ES Insurance Reduction  |    0.0320121  |\n",
      "| 64 | Future        | Risk Transfer | Globe<br>Pharma      | Globe Pharma | Globe Pharma (Risk Transfer) | Globe Pharma - ES Insurance Reduction | Globe Pharma - Marginal ES Insurance Reduction |    0.123929   |\n",
      "| 65 | Future        | Risk Transfer | Globe<br>Pharma      | NWP SEMICON  | NWP SEMICON (Risk Transfer)  | NWP SEMICON - ES Insurance Reduction  | NWP SEMICON - Marginal ES Insurance Reduction  |    0          |\n",
      "| 66 | Future        | Risk Transfer | NWP<br>SEMICON       | Globe Pharma | Globe Pharma (Risk Transfer) | Globe Pharma - ES Insurance Reduction | Globe Pharma - Marginal ES Insurance Reduction |    0          |\n",
      "| 67 | Future        | Risk Transfer | NWP<br>SEMICON       | NWP SEMICON  | NWP SEMICON (Risk Transfer)  | NWP SEMICON - ES Insurance Reduction  | NWP SEMICON - Marginal ES Insurance Reduction  |    0.130647   |\n",
      "| 68 | Future        | Risk Transfer | Equal                | Globe Pharma | Globe Pharma (Risk Transfer) | Globe Pharma - ES Insurance Reduction | Globe Pharma - Marginal ES Insurance Reduction |    0.0242789  |\n",
      "| 69 | Future        | Risk Transfer | Equal                | NWP SEMICON  | NWP SEMICON (Risk Transfer)  | NWP SEMICON - ES Insurance Reduction  | NWP SEMICON - Marginal ES Insurance Reduction  |    0.0488462  |\n",
      "| 70 | Future        | Risk Transfer | Optimal              | Globe Pharma | Globe Pharma (Risk Transfer) | Globe Pharma - ES Insurance Reduction | Globe Pharma - Marginal ES Insurance Reduction |    0.0459132  |\n",
      "| 71 | Future        | Risk Transfer | Optimal              | NWP SEMICON  | NWP SEMICON (Risk Transfer)  | NWP SEMICON - ES Insurance Reduction  | NWP SEMICON - Marginal ES Insurance Reduction  |    0.0392568  | \n",
      "\n"
     ]
    }
   ],
   "source": [
    "risk_attr_incl_risk_transf_df = average_risk_attributes(risk_attr_dict)\n",
    "#risk_attr_incl_risk_transf_df = risk_attr_dict[keys[0]]\n",
    "\n",
    "# Reorder the data frame by Portfolio Strategy column based on the values as ['Globe<br>Pharma', 'NWP<br>SEMICON', 'Equal', 'Optimal']\n",
    "\n",
    "#risk_attr_incl_risk_transf_df = risk_attr_dict[keys[0]]\n",
    "print('The risk attribution including the risk transfer')\n",
    "print(tabulate.tabulate(risk_attr_incl_risk_transf_df, headers='keys', tablefmt='pipe'), '\\n')\n",
    "\n",
    "\n",
    "# Filter the data based on a dictionary of filters\n",
    "risk_metrics_df = average_risk_metrics(risk_metrics_dict)\n"
   ]
  },
  {
   "cell_type": "code",
   "execution_count": 13,
   "metadata": {},
   "outputs": [],
   "source": [
    "# For a given Time period, Impact type, Portfolio Strategy get me the sum of the Marginal ES of the data frame risk_attr_incl_risk_transf_df\n",
    "\n",
    "# Define the filters\n",
    "time_period = 'Historical'\n",
    "impact_type = 'Gross'\n",
    "portfolio_strategy = 'Globe<br>Pharma'\n",
    "\n",
    "# Filter the DataFrame based on the given criteria\n",
    "filtered_df = risk_attr_incl_risk_transf_df[\n",
    "    (risk_attr_incl_risk_transf_df['Time period'] == time_period) &\n",
    "    (risk_attr_incl_risk_transf_df['Impact type'] == impact_type) &\n",
    "    (risk_attr_incl_risk_transf_df['Portfolio Strategy'] == portfolio_strategy)\n",
    "]\n",
    "\n",
    "# Calculate the sum of Marginal ES\n",
    "marginal_es_sum = filtered_df['Marginal ES'].sum()\n",
    "\n",
    "\n",
    "\n",
    "                               \n",
    "\n"
   ]
  },
  {
   "cell_type": "code",
   "execution_count": 14,
   "metadata": {},
   "outputs": [
    {
     "name": "stdout",
     "output_type": "stream",
     "text": [
      "NWP SEMICON - ES\n",
      "Globe Pharma - ES\n"
     ]
    },
    {
     "data": {
      "application/vnd.plotly.v1+json": {
       "config": {
        "plotlyServerURL": "https://plot.ly"
       },
       "data": [
        {
         "marker": {
          "color": "#06d6a0"
         },
         "name": "NWP SEMICON - ES",
         "textfont": {
          "color": "#00008B",
          "family": "Courier New",
          "size": 38
         },
         "type": "bar",
         "x": [
          [
           "Current",
           "Current",
           "Future",
           "Future"
          ],
          [
           "Globe<br>Pharma",
           "NWP<br>SEMICON",
           "Globe<br>Pharma",
           "NWP<br>SEMICON"
          ]
         ],
         "y": {
          "bdata": "AAAAAAAAAACi2I/Zc2vOPwAAAAAAAAAAP3ZOaELg0T8=",
          "dtype": "f8"
         }
        },
        {
         "marker": {
          "color": "#ffca3a"
         },
         "name": "Globe Pharma - ES",
         "textfont": {
          "color": "#00008B",
          "family": "Courier New",
          "size": 38
         },
         "type": "bar",
         "x": [
          [
           "Current",
           "Current",
           "Future",
           "Future"
          ],
          [
           "Globe<br>Pharma",
           "NWP<br>SEMICON",
           "Globe<br>Pharma",
           "NWP<br>SEMICON"
          ]
         ],
         "y": {
          "bdata": "OO897+feuj8AAAAAAAAAABC0j025sb4/AAAAAAAAAAA=",
          "dtype": "f8"
         }
        },
        {
         "marker": {
          "color": "#8ee7cf"
         },
         "name": "NWP SEMICON - ES Insurance Reduction",
         "textfont": {
          "color": "#00008B",
          "family": "Courier New",
          "size": 38
         },
         "type": "bar",
         "x": [
          [
           "Current",
           "Current",
           "Future",
           "Future"
          ],
          [
           "Globe<br>Pharma",
           "NWP<br>SEMICON",
           "Globe<br>Pharma",
           "NWP<br>SEMICON"
          ]
         ],
         "y": {
          "bdata": "AAAAAAAAAADKBbwKYLGzPwAAAAAAAAAASJSaBw65wD8=",
          "dtype": "f8"
         }
        },
        {
         "marker": {
          "color": "#f8e1a5"
         },
         "name": "Globe Pharma - ES Insurance Reduction",
         "textfont": {
          "color": "#00008B",
          "family": "Courier New",
          "size": 38
         },
         "type": "bar",
         "x": [
          [
           "Current",
           "Current",
           "Future",
           "Future"
          ],
          [
           "Globe<br>Pharma",
           "NWP<br>SEMICON",
           "Globe<br>Pharma",
           "NWP<br>SEMICON"
          ]
         ],
         "y": {
          "bdata": "GfTSs6owuD8AAAAAAAAAAKTH+I3Oub8/AAAAAAAAAAA=",
          "dtype": "f8"
         }
        },
        {
         "mode": "text",
         "name": "ES Gross",
         "showlegend": false,
         "text": [
          "0.2"
         ],
         "textfont": {
          "color": "black",
          "family": "Courier New",
          "size": 38
         },
         "textposition": "top center",
         "type": "scatter",
         "x": [
          [
           "Current"
          ],
          [
           "Globe<br>Pharma"
          ]
         ],
         "y": [
          0.19945637208082914
         ]
        },
        {
         "mode": "text",
         "name": "ES Gross",
         "showlegend": false,
         "text": [
          "0.31"
         ],
         "textfont": {
          "color": "black",
          "family": "Courier New",
          "size": 38
         },
         "textposition": "top center",
         "type": "scatter",
         "x": [
          [
           "Current"
          ],
          [
           "NWP<br>SEMICON"
          ]
         ],
         "y": [
          0.3145794714471004
         ]
        },
        {
         "mode": "text",
         "name": "ES Gross",
         "showlegend": false,
         "text": [
          "0.24"
         ],
         "textfont": {
          "color": "black",
          "family": "Courier New",
          "size": 38
         },
         "textposition": "top center",
         "type": "scatter",
         "x": [
          [
           "Future"
          ],
          [
           "Globe<br>Pharma"
          ]
         ],
         "y": [
          0.24382828817077395
         ]
        },
        {
         "mode": "text",
         "name": "ES Gross",
         "showlegend": false,
         "text": [
          "0.41"
         ],
         "textfont": {
          "color": "black",
          "family": "Courier New",
          "size": 38
         },
         "textposition": "top center",
         "type": "scatter",
         "x": [
          [
           "Future"
          ],
          [
           "NWP<br>SEMICON"
          ]
         ],
         "y": [
          0.40996013219319694
         ]
        }
       ],
       "layout": {
        "bargap": 0.1,
        "barmode": "stack",
        "height": 1100,
        "legend": {
         "font": {
          "color": "#00008B",
          "family": "Courier New",
          "size": 38
         },
         "orientation": "h",
         "traceorder": "reversed",
         "x": 0.5,
         "xanchor": "center",
         "y": 1.1,
         "yanchor": "top"
        },
        "template": {
         "data": {
          "bar": [
           {
            "error_x": {
             "color": "#2a3f5f"
            },
            "error_y": {
             "color": "#2a3f5f"
            },
            "marker": {
             "line": {
              "color": "white",
              "width": 0.5
             },
             "pattern": {
              "fillmode": "overlay",
              "size": 10,
              "solidity": 0.2
             }
            },
            "type": "bar"
           }
          ],
          "barpolar": [
           {
            "marker": {
             "line": {
              "color": "white",
              "width": 0.5
             },
             "pattern": {
              "fillmode": "overlay",
              "size": 10,
              "solidity": 0.2
             }
            },
            "type": "barpolar"
           }
          ],
          "carpet": [
           {
            "aaxis": {
             "endlinecolor": "#2a3f5f",
             "gridcolor": "#C8D4E3",
             "linecolor": "#C8D4E3",
             "minorgridcolor": "#C8D4E3",
             "startlinecolor": "#2a3f5f"
            },
            "baxis": {
             "endlinecolor": "#2a3f5f",
             "gridcolor": "#C8D4E3",
             "linecolor": "#C8D4E3",
             "minorgridcolor": "#C8D4E3",
             "startlinecolor": "#2a3f5f"
            },
            "type": "carpet"
           }
          ],
          "choropleth": [
           {
            "colorbar": {
             "outlinewidth": 0,
             "ticks": ""
            },
            "type": "choropleth"
           }
          ],
          "contour": [
           {
            "colorbar": {
             "outlinewidth": 0,
             "ticks": ""
            },
            "colorscale": [
             [
              0,
              "#0d0887"
             ],
             [
              0.1111111111111111,
              "#46039f"
             ],
             [
              0.2222222222222222,
              "#7201a8"
             ],
             [
              0.3333333333333333,
              "#9c179e"
             ],
             [
              0.4444444444444444,
              "#bd3786"
             ],
             [
              0.5555555555555556,
              "#d8576b"
             ],
             [
              0.6666666666666666,
              "#ed7953"
             ],
             [
              0.7777777777777778,
              "#fb9f3a"
             ],
             [
              0.8888888888888888,
              "#fdca26"
             ],
             [
              1,
              "#f0f921"
             ]
            ],
            "type": "contour"
           }
          ],
          "contourcarpet": [
           {
            "colorbar": {
             "outlinewidth": 0,
             "ticks": ""
            },
            "type": "contourcarpet"
           }
          ],
          "heatmap": [
           {
            "colorbar": {
             "outlinewidth": 0,
             "ticks": ""
            },
            "colorscale": [
             [
              0,
              "#0d0887"
             ],
             [
              0.1111111111111111,
              "#46039f"
             ],
             [
              0.2222222222222222,
              "#7201a8"
             ],
             [
              0.3333333333333333,
              "#9c179e"
             ],
             [
              0.4444444444444444,
              "#bd3786"
             ],
             [
              0.5555555555555556,
              "#d8576b"
             ],
             [
              0.6666666666666666,
              "#ed7953"
             ],
             [
              0.7777777777777778,
              "#fb9f3a"
             ],
             [
              0.8888888888888888,
              "#fdca26"
             ],
             [
              1,
              "#f0f921"
             ]
            ],
            "type": "heatmap"
           }
          ],
          "histogram": [
           {
            "marker": {
             "pattern": {
              "fillmode": "overlay",
              "size": 10,
              "solidity": 0.2
             }
            },
            "type": "histogram"
           }
          ],
          "histogram2d": [
           {
            "colorbar": {
             "outlinewidth": 0,
             "ticks": ""
            },
            "colorscale": [
             [
              0,
              "#0d0887"
             ],
             [
              0.1111111111111111,
              "#46039f"
             ],
             [
              0.2222222222222222,
              "#7201a8"
             ],
             [
              0.3333333333333333,
              "#9c179e"
             ],
             [
              0.4444444444444444,
              "#bd3786"
             ],
             [
              0.5555555555555556,
              "#d8576b"
             ],
             [
              0.6666666666666666,
              "#ed7953"
             ],
             [
              0.7777777777777778,
              "#fb9f3a"
             ],
             [
              0.8888888888888888,
              "#fdca26"
             ],
             [
              1,
              "#f0f921"
             ]
            ],
            "type": "histogram2d"
           }
          ],
          "histogram2dcontour": [
           {
            "colorbar": {
             "outlinewidth": 0,
             "ticks": ""
            },
            "colorscale": [
             [
              0,
              "#0d0887"
             ],
             [
              0.1111111111111111,
              "#46039f"
             ],
             [
              0.2222222222222222,
              "#7201a8"
             ],
             [
              0.3333333333333333,
              "#9c179e"
             ],
             [
              0.4444444444444444,
              "#bd3786"
             ],
             [
              0.5555555555555556,
              "#d8576b"
             ],
             [
              0.6666666666666666,
              "#ed7953"
             ],
             [
              0.7777777777777778,
              "#fb9f3a"
             ],
             [
              0.8888888888888888,
              "#fdca26"
             ],
             [
              1,
              "#f0f921"
             ]
            ],
            "type": "histogram2dcontour"
           }
          ],
          "mesh3d": [
           {
            "colorbar": {
             "outlinewidth": 0,
             "ticks": ""
            },
            "type": "mesh3d"
           }
          ],
          "parcoords": [
           {
            "line": {
             "colorbar": {
              "outlinewidth": 0,
              "ticks": ""
             }
            },
            "type": "parcoords"
           }
          ],
          "pie": [
           {
            "automargin": true,
            "type": "pie"
           }
          ],
          "scatter": [
           {
            "fillpattern": {
             "fillmode": "overlay",
             "size": 10,
             "solidity": 0.2
            },
            "type": "scatter"
           }
          ],
          "scatter3d": [
           {
            "line": {
             "colorbar": {
              "outlinewidth": 0,
              "ticks": ""
             }
            },
            "marker": {
             "colorbar": {
              "outlinewidth": 0,
              "ticks": ""
             }
            },
            "type": "scatter3d"
           }
          ],
          "scattercarpet": [
           {
            "marker": {
             "colorbar": {
              "outlinewidth": 0,
              "ticks": ""
             }
            },
            "type": "scattercarpet"
           }
          ],
          "scattergeo": [
           {
            "marker": {
             "colorbar": {
              "outlinewidth": 0,
              "ticks": ""
             }
            },
            "type": "scattergeo"
           }
          ],
          "scattergl": [
           {
            "marker": {
             "colorbar": {
              "outlinewidth": 0,
              "ticks": ""
             }
            },
            "type": "scattergl"
           }
          ],
          "scattermap": [
           {
            "marker": {
             "colorbar": {
              "outlinewidth": 0,
              "ticks": ""
             }
            },
            "type": "scattermap"
           }
          ],
          "scattermapbox": [
           {
            "marker": {
             "colorbar": {
              "outlinewidth": 0,
              "ticks": ""
             }
            },
            "type": "scattermapbox"
           }
          ],
          "scatterpolar": [
           {
            "marker": {
             "colorbar": {
              "outlinewidth": 0,
              "ticks": ""
             }
            },
            "type": "scatterpolar"
           }
          ],
          "scatterpolargl": [
           {
            "marker": {
             "colorbar": {
              "outlinewidth": 0,
              "ticks": ""
             }
            },
            "type": "scatterpolargl"
           }
          ],
          "scatterternary": [
           {
            "marker": {
             "colorbar": {
              "outlinewidth": 0,
              "ticks": ""
             }
            },
            "type": "scatterternary"
           }
          ],
          "surface": [
           {
            "colorbar": {
             "outlinewidth": 0,
             "ticks": ""
            },
            "colorscale": [
             [
              0,
              "#0d0887"
             ],
             [
              0.1111111111111111,
              "#46039f"
             ],
             [
              0.2222222222222222,
              "#7201a8"
             ],
             [
              0.3333333333333333,
              "#9c179e"
             ],
             [
              0.4444444444444444,
              "#bd3786"
             ],
             [
              0.5555555555555556,
              "#d8576b"
             ],
             [
              0.6666666666666666,
              "#ed7953"
             ],
             [
              0.7777777777777778,
              "#fb9f3a"
             ],
             [
              0.8888888888888888,
              "#fdca26"
             ],
             [
              1,
              "#f0f921"
             ]
            ],
            "type": "surface"
           }
          ],
          "table": [
           {
            "cells": {
             "fill": {
              "color": "#EBF0F8"
             },
             "line": {
              "color": "white"
             }
            },
            "header": {
             "fill": {
              "color": "#C8D4E3"
             },
             "line": {
              "color": "white"
             }
            },
            "type": "table"
           }
          ]
         },
         "layout": {
          "annotationdefaults": {
           "arrowcolor": "#2a3f5f",
           "arrowhead": 0,
           "arrowwidth": 1
          },
          "autotypenumbers": "strict",
          "coloraxis": {
           "colorbar": {
            "outlinewidth": 0,
            "ticks": ""
           }
          },
          "colorscale": {
           "diverging": [
            [
             0,
             "#8e0152"
            ],
            [
             0.1,
             "#c51b7d"
            ],
            [
             0.2,
             "#de77ae"
            ],
            [
             0.3,
             "#f1b6da"
            ],
            [
             0.4,
             "#fde0ef"
            ],
            [
             0.5,
             "#f7f7f7"
            ],
            [
             0.6,
             "#e6f5d0"
            ],
            [
             0.7,
             "#b8e186"
            ],
            [
             0.8,
             "#7fbc41"
            ],
            [
             0.9,
             "#4d9221"
            ],
            [
             1,
             "#276419"
            ]
           ],
           "sequential": [
            [
             0,
             "#0d0887"
            ],
            [
             0.1111111111111111,
             "#46039f"
            ],
            [
             0.2222222222222222,
             "#7201a8"
            ],
            [
             0.3333333333333333,
             "#9c179e"
            ],
            [
             0.4444444444444444,
             "#bd3786"
            ],
            [
             0.5555555555555556,
             "#d8576b"
            ],
            [
             0.6666666666666666,
             "#ed7953"
            ],
            [
             0.7777777777777778,
             "#fb9f3a"
            ],
            [
             0.8888888888888888,
             "#fdca26"
            ],
            [
             1,
             "#f0f921"
            ]
           ],
           "sequentialminus": [
            [
             0,
             "#0d0887"
            ],
            [
             0.1111111111111111,
             "#46039f"
            ],
            [
             0.2222222222222222,
             "#7201a8"
            ],
            [
             0.3333333333333333,
             "#9c179e"
            ],
            [
             0.4444444444444444,
             "#bd3786"
            ],
            [
             0.5555555555555556,
             "#d8576b"
            ],
            [
             0.6666666666666666,
             "#ed7953"
            ],
            [
             0.7777777777777778,
             "#fb9f3a"
            ],
            [
             0.8888888888888888,
             "#fdca26"
            ],
            [
             1,
             "#f0f921"
            ]
           ]
          },
          "colorway": [
           "#636efa",
           "#EF553B",
           "#00cc96",
           "#ab63fa",
           "#FFA15A",
           "#19d3f3",
           "#FF6692",
           "#B6E880",
           "#FF97FF",
           "#FECB52"
          ],
          "font": {
           "color": "#2a3f5f"
          },
          "geo": {
           "bgcolor": "white",
           "lakecolor": "white",
           "landcolor": "white",
           "showlakes": true,
           "showland": true,
           "subunitcolor": "#C8D4E3"
          },
          "hoverlabel": {
           "align": "left"
          },
          "hovermode": "closest",
          "mapbox": {
           "style": "light"
          },
          "paper_bgcolor": "white",
          "plot_bgcolor": "white",
          "polar": {
           "angularaxis": {
            "gridcolor": "#EBF0F8",
            "linecolor": "#EBF0F8",
            "ticks": ""
           },
           "bgcolor": "white",
           "radialaxis": {
            "gridcolor": "#EBF0F8",
            "linecolor": "#EBF0F8",
            "ticks": ""
           }
          },
          "scene": {
           "xaxis": {
            "backgroundcolor": "white",
            "gridcolor": "#DFE8F3",
            "gridwidth": 2,
            "linecolor": "#EBF0F8",
            "showbackground": true,
            "ticks": "",
            "zerolinecolor": "#EBF0F8"
           },
           "yaxis": {
            "backgroundcolor": "white",
            "gridcolor": "#DFE8F3",
            "gridwidth": 2,
            "linecolor": "#EBF0F8",
            "showbackground": true,
            "ticks": "",
            "zerolinecolor": "#EBF0F8"
           },
           "zaxis": {
            "backgroundcolor": "white",
            "gridcolor": "#DFE8F3",
            "gridwidth": 2,
            "linecolor": "#EBF0F8",
            "showbackground": true,
            "ticks": "",
            "zerolinecolor": "#EBF0F8"
           }
          },
          "shapedefaults": {
           "line": {
            "color": "#2a3f5f"
           }
          },
          "ternary": {
           "aaxis": {
            "gridcolor": "#DFE8F3",
            "linecolor": "#A2B1C6",
            "ticks": ""
           },
           "baxis": {
            "gridcolor": "#DFE8F3",
            "linecolor": "#A2B1C6",
            "ticks": ""
           },
           "bgcolor": "white",
           "caxis": {
            "gridcolor": "#DFE8F3",
            "linecolor": "#A2B1C6",
            "ticks": ""
           }
          },
          "title": {
           "x": 0.05
          },
          "xaxis": {
           "automargin": true,
           "gridcolor": "#EBF0F8",
           "linecolor": "#EBF0F8",
           "ticks": "",
           "title": {
            "standoff": 15
           },
           "zerolinecolor": "#EBF0F8",
           "zerolinewidth": 2
          },
          "yaxis": {
           "automargin": true,
           "gridcolor": "#EBF0F8",
           "linecolor": "#EBF0F8",
           "ticks": "",
           "title": {
            "standoff": 15
           },
           "zerolinecolor": "#EBF0F8",
           "zerolinewidth": 2
          }
         }
        },
        "width": 1980.0000000000002,
        "xaxis": {
         "tickfont": {
          "color": "#00008B",
          "family": "Courier New",
          "size": 38
         },
         "title": {
          "font": {
           "color": "#00008B",
           "family": "Courier New",
           "size": 38
          },
          "text": ""
         }
        },
        "yaxis": {
         "range": [
          0,
          0.5
         ],
         "tickfont": {
          "color": "#00008B",
          "family": "Courier New",
          "size": 38
         },
         "title": {
          "font": {
           "color": "#00008B",
           "family": "Courier New",
           "size": 38
          },
          "text": "Replacement Costs (US$ billion)"
         }
        }
       }
      }
     },
     "metadata": {},
     "output_type": "display_data"
    }
   ],
   "source": [
    "# Define the filters\n",
    "filters = { 'Portfolio Strategy': [port_strat.replace(' ', '<br>') for port_strat in portfolio_strategies[0:2]], \n",
    "           'Impact type': ['Net', 'Risk Transfer'], 'Time period': ['Current','Future']}\n",
    "\n",
    "# Define the columns to remove\n",
    "columns_to_remove = []\n",
    "\n",
    "# Decide if value at risk is plotted\n",
    "plot_var = False\n",
    "\n",
    "# Filter the data frame\n",
    "filt_risk_attr_df = filter_dataframe(risk_attr_incl_risk_transf_df, filters, columns_to_remove)\n",
    "df = filt_risk_attr_df\n",
    "\n",
    "group_col = 'Time period'\n",
    "sub_group_col = 'Portfolio Strategy'\n",
    "legend_col = 'legend_bar_Companies'# 'Risk Attribution'\n",
    "stack_col = 'Marginal ES'\n",
    "\n",
    "\n",
    "xaxis_title = ''\n",
    "yaxis_title = 'Replacement Costs (US$ billion)'\n",
    "\n",
    "# Create a new figure\n",
    "fig = go.Figure()\n",
    "\n",
    "# Font color dark blue\n",
    "font_color = '#00008B'\n",
    "font_family = 'Courier New' # bold\n",
    "font_size = 38\n",
    "adjustment = 0.00\n",
    "max_value = 0.50\n",
    "\n",
    "font_dict = dict(size=font_size, family=font_family, color=font_color)\n",
    "\n",
    "fig.update_layout(\n",
    "    template=\"plotly_white\",\n",
    "    xaxis_title=xaxis_title,\n",
    "    yaxis_title=yaxis_title,\n",
    "    barmode=\"stack\",\n",
    "    bargap=0.1,\n",
    "    xaxis_title_font=dict(size=font_size, family=font_family, color=font_color),\n",
    "    yaxis_title_font=dict(size=font_size, family=font_family, color=font_color),\n",
    "    xaxis_tickfont=dict(size=font_size, family=font_family, color=font_color),\n",
    "    yaxis_tickfont=dict(size=font_size, family=font_family, color=font_color),\n",
    "    legend_font=dict(size=font_size, family=font_family, color=font_color),\n",
    "    yaxis=dict(range=[0, max_value]), \n",
    "    height=1000*1.1,\n",
    "    width=1800*1.1,\n",
    "    legend=dict(\n",
    "        orientation=\"h\",\n",
    "        yanchor=\"top\",\n",
    "        y=1.1,\n",
    "        xanchor=\"center\",\n",
    "        x=0.5\n",
    "    ),\n",
    "    # Reverse the legend order\n",
    "    legend_traceorder=\"reversed\",\n",
    ")\n",
    "\n",
    "\n",
    "\n",
    "# Begin with the Net Risk\n",
    "# Get the legend values in alphabetical order\n",
    "legend_values = df[legend_col].unique()\n",
    "# Reverse the order of the legend values\n",
    "legend_values = legend_values[::-1]\n",
    "# Only include net \n",
    "legend_values_Net = [leg for leg in legend_values if 'Net' in leg or 'Insurance' not in leg]\n",
    "\n",
    "\n",
    "\n",
    "# Get the colors for the legend values\n",
    "colors = [color_mapping_hex[legend_value] for legend_value in legend_values_Net]\n",
    "\n",
    "\n",
    "# For each unique value in the legend column and its corresponding color\n",
    "for legend_value, color in zip(legend_values_Net, colors):\n",
    "    print(legend_value)\n",
    "    # Filter the DataFrame to only include rows with the current legend value\n",
    "    plot_df = df[df[legend_col] == legend_value]\n",
    "\n",
    "    # Add a bar to the figure for the current legend value\n",
    "    fig.add_trace(\n",
    "        go.Bar(\n",
    "            x=[plot_df[group_col], plot_df[sub_group_col]], \n",
    "            y=plot_df[stack_col], \n",
    "            name=legend_value, \n",
    "            marker_color=color, \n",
    "            textfont=dict(size=font_size, family=font_family, color=font_color),\n",
    "        ),\n",
    "    )\n",
    "\n",
    "    \n",
    "# Plot the VaR Net\n",
    "if plot_var:\n",
    "    for i, time in enumerate(df['Time period'].unique()):\n",
    "        for j, port_strat in enumerate(df['Portfolio Strategy'].unique()):\n",
    "            # Get the Gross VaR from risk metrics df\n",
    "            net_var = risk_metrics_df[(risk_metrics_df['Time period'] == time) & (risk_metrics_df['Portfolio Strategy'] == port_strat) & (risk_metrics_df['Impact type'] == 'Net')]['VaR'].values[0]\n",
    "\n",
    "            # Convert time and company to pandas Series with a single value\n",
    "            time_series = pd.Series([time])\n",
    "            company_series = pd.Series([port_strat])\n",
    "\n",
    "            # Add of the VaR Gross\n",
    "            fig.add_trace(\n",
    "                go.Scatter(\n",
    "                    x= [time_series, company_series],\n",
    "                    y= [net_var], \n",
    "                    marker_color= 'black',\n",
    "                    marker_symbol= 'x',\n",
    "                    name= '1% Value-At-Risk (Net)', \n",
    "                    mode='markers',\n",
    "                    showlegend= i == 0 and j ==0,\n",
    "                    marker_size= 20\n",
    "                ),\n",
    "            )\n",
    "\n",
    "\n",
    "\n",
    "# Begin with the Gross Risk\n",
    "# Get the legend values in alphabetical order\n",
    "legend_values_RT = [leg for leg in legend_values if 'Risk Transfer' in leg or 'Insurance' in leg]\n",
    "\n",
    "\n",
    "# Get the colors for the legend values\n",
    "colors = [color_mapping_hex[legend_value] for legend_value in legend_values_RT]\n",
    "\n",
    "\n",
    "\n",
    "\n",
    "\n",
    "# For each unique value in the legend column and its corresponding color\n",
    "for legend_value, color in zip(legend_values_RT, colors):\n",
    "    # Filter the DataFrame to only include rows with the current legend value\n",
    "    plot_df = df[df[legend_col] == legend_value]\n",
    "\n",
    "    # Add a bar to the figure for the current legend value\n",
    "    fig.add_trace(\n",
    "        go.Bar(\n",
    "            x=[plot_df[group_col], plot_df[sub_group_col]], \n",
    "            y=plot_df[stack_col], \n",
    "            name=legend_value, \n",
    "            marker_color=color, \n",
    "            textfont=dict(size=font_size, family=font_family, color=font_color),\n",
    "        ),\n",
    "    )\n",
    "\n",
    "\n",
    "    \n",
    "# # Plot the VaR Gross\n",
    "# if plot_var:\n",
    "#     for i, time in enumerate(df['Time period'].unique()):\n",
    "#         for j, port_strat in enumerate(df['Portfolio Strategy'].unique()):\n",
    "#             # Get the Gross VaR from risk metrics df\n",
    "#             gross_var = risk_metrics_df[(risk_metrics_df['Time period'] == time) & (risk_metrics_df['Portfolio Strategy'] == port_strat) & (risk_metrics_df['Impact type'] == 'Gross')]['VaR'].values[0]\n",
    "\n",
    "#             # Convert time and company to pandas Series with a single value\n",
    "#             time_series = pd.Series([time])\n",
    "#             company_series = pd.Series([port_strat])\n",
    "\n",
    "#             # Add of the VaR Gross\n",
    "#             fig.add_trace(\n",
    "#                 go.Scatter(\n",
    "#                     x= [time_series, company_series],\n",
    "#                     y= [gross_var], \n",
    "#                     marker_color= 'black',\n",
    "#                     name= '1% Value-At-Risk (Gross)', \n",
    "#                     mode='markers',\n",
    "#                     showlegend= i == 0 and j ==0,\n",
    "#                     marker_size= 20\n",
    "#                 ),\n",
    "#             )\n",
    "\n",
    "\n",
    "# Always add the ES Gross\n",
    "for time in df['Time period'].unique():\n",
    "    for port_strat in df['Portfolio Strategy'].unique():\n",
    "        # Get the Gross ES from risk metrics df\n",
    "        #gross_es = risk_metrics_df[(risk_metrics_df['Time period'] == time) & (risk_metrics_df['Portfolio Strategy'] == port_strat) & (risk_metrics_df['Impact type'] == 'Gross')]['ES'].values[0]\n",
    "        # Filter the DataFrame based on the given criteria\n",
    "        filtered_df = risk_attr_incl_risk_transf_df[\n",
    "            (risk_attr_incl_risk_transf_df['Time period'] == time) &\n",
    "            (risk_attr_incl_risk_transf_df['Impact type'] == 'Gross') &\n",
    "            (risk_attr_incl_risk_transf_df['Portfolio Strategy'] == port_strat)\n",
    "        ]\n",
    "\n",
    "        # Calculate the sum of Marginal ES\n",
    "        gross_es = filtered_df['Marginal ES'].sum()\n",
    "\n",
    "        # Convert time and company to pandas Series with a single value\n",
    "        time_series = pd.Series([time])\n",
    "        company_series = pd.Series([port_strat])\n",
    "\n",
    "        # Add of the ES Gross as text on the top of the bar\n",
    "        fig.add_trace(\n",
    "            go.Scatter(\n",
    "                x= [time_series, company_series],\n",
    "                y= [gross_es + adjustment],\n",
    "                name= 'ES Gross', \n",
    "                mode='text',\n",
    "                text= [gross_es.round(2)],\n",
    "                textposition='top center',\n",
    "                textfont=dict(\n",
    "                    color='black', \n",
    "                    size=font_size, \n",
    "                    family= font_family\n",
    "                ),\n",
    "                showlegend=False\n",
    "            ),\n",
    "        )\n",
    "\n",
    "\n",
    "\n",
    "\n",
    "fig.show()\n",
    "\n",
    "# Save the figure as a PNG file\n",
    "file = merged_folder / 'Company Risks.png'\n",
    "fig.write_image(file,  scale=4)\n"
   ]
  },
  {
   "cell_type": "code",
   "execution_count": 15,
   "metadata": {},
   "outputs": [
    {
     "data": {
      "application/vnd.plotly.v1+json": {
       "config": {
        "plotlyServerURL": "https://plot.ly"
       },
       "data": [
        {
         "marker": {
          "color": "#06d6a0",
          "pattern": {
           "shape": ""
          }
         },
         "name": "NWP SEMICON - ES",
         "showlegend": true,
         "textfont": {
          "color": "#00008B",
          "family": "Courier New",
          "size": 38
         },
         "type": "bar",
         "x": [
          [
           "Globe<br>Pharma",
           "NWP<br>SEMICON"
          ],
          [
           "Current",
           "Current"
          ]
         ],
         "y": {
          "bdata": "AAAAAAAAAACi2I/Zc2vOPw==",
          "dtype": "f8"
         }
        },
        {
         "marker": {
          "color": "#06d6a0",
          "pattern": {
           "shape": "/"
          }
         },
         "showlegend": false,
         "textfont": {
          "color": "#00008B",
          "family": "Courier New",
          "size": 38
         },
         "type": "bar",
         "x": [
          [
           "Globe<br>Pharma",
           "NWP<br>SEMICON"
          ],
          [
           "Future",
           "Future"
          ]
         ],
         "y": {
          "bdata": "AAAAAAAAAAA/dk5oQuDRPw==",
          "dtype": "f8"
         }
        },
        {
         "marker": {
          "color": "#ffca3a",
          "pattern": {
           "shape": ""
          }
         },
         "name": "Globe Pharma - ES",
         "showlegend": true,
         "textfont": {
          "color": "#00008B",
          "family": "Courier New",
          "size": 38
         },
         "type": "bar",
         "x": [
          [
           "Globe<br>Pharma",
           "NWP<br>SEMICON"
          ],
          [
           "Current",
           "Current"
          ]
         ],
         "y": {
          "bdata": "OO897+feuj8AAAAAAAAAAA==",
          "dtype": "f8"
         }
        },
        {
         "marker": {
          "color": "#ffca3a",
          "pattern": {
           "shape": "/"
          }
         },
         "showlegend": false,
         "textfont": {
          "color": "#00008B",
          "family": "Courier New",
          "size": 38
         },
         "type": "bar",
         "x": [
          [
           "Globe<br>Pharma",
           "NWP<br>SEMICON"
          ],
          [
           "Future",
           "Future"
          ]
         ],
         "y": {
          "bdata": "ELSPTbmxvj8AAAAAAAAAAA==",
          "dtype": "f8"
         }
        },
        {
         "marker": {
          "color": "#8ee7cf",
          "pattern": {
           "shape": ""
          }
         },
         "name": "NWP SEMICON - ES Insurance Reduction",
         "showlegend": true,
         "textfont": {
          "color": "#00008B",
          "family": "Courier New",
          "size": 38
         },
         "type": "bar",
         "x": [
          [
           "Globe<br>Pharma",
           "NWP<br>SEMICON"
          ],
          [
           "Current",
           "Current"
          ]
         ],
         "y": {
          "bdata": "AAAAAAAAAADKBbwKYLGzPw==",
          "dtype": "f8"
         }
        },
        {
         "marker": {
          "color": "#8ee7cf",
          "pattern": {
           "shape": "/"
          }
         },
         "showlegend": false,
         "textfont": {
          "color": "#00008B",
          "family": "Courier New",
          "size": 38
         },
         "type": "bar",
         "x": [
          [
           "Globe<br>Pharma",
           "NWP<br>SEMICON"
          ],
          [
           "Future",
           "Future"
          ]
         ],
         "y": {
          "bdata": "AAAAAAAAAABIlJoHDrnAPw==",
          "dtype": "f8"
         }
        },
        {
         "marker": {
          "color": "#f8e1a5",
          "pattern": {
           "shape": ""
          }
         },
         "name": "Globe Pharma - ES Insurance Reduction",
         "showlegend": true,
         "textfont": {
          "color": "#00008B",
          "family": "Courier New",
          "size": 38
         },
         "type": "bar",
         "x": [
          [
           "Globe<br>Pharma",
           "NWP<br>SEMICON"
          ],
          [
           "Current",
           "Current"
          ]
         ],
         "y": {
          "bdata": "GfTSs6owuD8AAAAAAAAAAA==",
          "dtype": "f8"
         }
        },
        {
         "marker": {
          "color": "#f8e1a5",
          "pattern": {
           "shape": "/"
          }
         },
         "showlegend": false,
         "textfont": {
          "color": "#00008B",
          "family": "Courier New",
          "size": 38
         },
         "type": "bar",
         "x": [
          [
           "Globe<br>Pharma",
           "NWP<br>SEMICON"
          ],
          [
           "Future",
           "Future"
          ]
         ],
         "y": {
          "bdata": "pMf4jc65vz8AAAAAAAAAAA==",
          "dtype": "f8"
         }
        },
        {
         "mode": "text",
         "name": "ES Gross",
         "showlegend": false,
         "text": [
          "0.2"
         ],
         "textfont": {
          "color": "black",
          "family": "Courier New",
          "size": 38
         },
         "textposition": "top center",
         "type": "scatter",
         "x": [
          [
           "Globe<br>Pharma"
          ],
          [
           "Current"
          ]
         ],
         "y": [
          0.19945637208082914
         ]
        },
        {
         "mode": "text",
         "name": "ES Gross",
         "showlegend": false,
         "text": [
          "0.31"
         ],
         "textfont": {
          "color": "black",
          "family": "Courier New",
          "size": 38
         },
         "textposition": "top center",
         "type": "scatter",
         "x": [
          [
           "NWP<br>SEMICON"
          ],
          [
           "Current"
          ]
         ],
         "y": [
          0.3145794714471004
         ]
        },
        {
         "mode": "text",
         "name": "ES Gross",
         "showlegend": false,
         "text": [
          "0.24"
         ],
         "textfont": {
          "color": "black",
          "family": "Courier New",
          "size": 38
         },
         "textposition": "top center",
         "type": "scatter",
         "x": [
          [
           "Globe<br>Pharma"
          ],
          [
           "Future"
          ]
         ],
         "y": [
          0.24382828817077395
         ]
        },
        {
         "mode": "text",
         "name": "ES Gross",
         "showlegend": false,
         "text": [
          "0.41"
         ],
         "textfont": {
          "color": "black",
          "family": "Courier New",
          "size": 38
         },
         "textposition": "top center",
         "type": "scatter",
         "x": [
          [
           "NWP<br>SEMICON"
          ],
          [
           "Future"
          ]
         ],
         "y": [
          0.40996013219319694
         ]
        }
       ],
       "layout": {
        "bargap": 0.01,
        "bargroupgap": 0.02,
        "barmode": "stack",
        "height": 1100,
        "legend": {
         "font": {
          "color": "#00008B",
          "family": "Courier New",
          "size": 38
         },
         "orientation": "h",
         "traceorder": "reversed",
         "x": 0.5,
         "xanchor": "center",
         "y": 1.1,
         "yanchor": "top"
        },
        "template": {
         "data": {
          "bar": [
           {
            "error_x": {
             "color": "#2a3f5f"
            },
            "error_y": {
             "color": "#2a3f5f"
            },
            "marker": {
             "line": {
              "color": "white",
              "width": 0.5
             },
             "pattern": {
              "fillmode": "overlay",
              "size": 10,
              "solidity": 0.2
             }
            },
            "type": "bar"
           }
          ],
          "barpolar": [
           {
            "marker": {
             "line": {
              "color": "white",
              "width": 0.5
             },
             "pattern": {
              "fillmode": "overlay",
              "size": 10,
              "solidity": 0.2
             }
            },
            "type": "barpolar"
           }
          ],
          "carpet": [
           {
            "aaxis": {
             "endlinecolor": "#2a3f5f",
             "gridcolor": "#C8D4E3",
             "linecolor": "#C8D4E3",
             "minorgridcolor": "#C8D4E3",
             "startlinecolor": "#2a3f5f"
            },
            "baxis": {
             "endlinecolor": "#2a3f5f",
             "gridcolor": "#C8D4E3",
             "linecolor": "#C8D4E3",
             "minorgridcolor": "#C8D4E3",
             "startlinecolor": "#2a3f5f"
            },
            "type": "carpet"
           }
          ],
          "choropleth": [
           {
            "colorbar": {
             "outlinewidth": 0,
             "ticks": ""
            },
            "type": "choropleth"
           }
          ],
          "contour": [
           {
            "colorbar": {
             "outlinewidth": 0,
             "ticks": ""
            },
            "colorscale": [
             [
              0,
              "#0d0887"
             ],
             [
              0.1111111111111111,
              "#46039f"
             ],
             [
              0.2222222222222222,
              "#7201a8"
             ],
             [
              0.3333333333333333,
              "#9c179e"
             ],
             [
              0.4444444444444444,
              "#bd3786"
             ],
             [
              0.5555555555555556,
              "#d8576b"
             ],
             [
              0.6666666666666666,
              "#ed7953"
             ],
             [
              0.7777777777777778,
              "#fb9f3a"
             ],
             [
              0.8888888888888888,
              "#fdca26"
             ],
             [
              1,
              "#f0f921"
             ]
            ],
            "type": "contour"
           }
          ],
          "contourcarpet": [
           {
            "colorbar": {
             "outlinewidth": 0,
             "ticks": ""
            },
            "type": "contourcarpet"
           }
          ],
          "heatmap": [
           {
            "colorbar": {
             "outlinewidth": 0,
             "ticks": ""
            },
            "colorscale": [
             [
              0,
              "#0d0887"
             ],
             [
              0.1111111111111111,
              "#46039f"
             ],
             [
              0.2222222222222222,
              "#7201a8"
             ],
             [
              0.3333333333333333,
              "#9c179e"
             ],
             [
              0.4444444444444444,
              "#bd3786"
             ],
             [
              0.5555555555555556,
              "#d8576b"
             ],
             [
              0.6666666666666666,
              "#ed7953"
             ],
             [
              0.7777777777777778,
              "#fb9f3a"
             ],
             [
              0.8888888888888888,
              "#fdca26"
             ],
             [
              1,
              "#f0f921"
             ]
            ],
            "type": "heatmap"
           }
          ],
          "histogram": [
           {
            "marker": {
             "pattern": {
              "fillmode": "overlay",
              "size": 10,
              "solidity": 0.2
             }
            },
            "type": "histogram"
           }
          ],
          "histogram2d": [
           {
            "colorbar": {
             "outlinewidth": 0,
             "ticks": ""
            },
            "colorscale": [
             [
              0,
              "#0d0887"
             ],
             [
              0.1111111111111111,
              "#46039f"
             ],
             [
              0.2222222222222222,
              "#7201a8"
             ],
             [
              0.3333333333333333,
              "#9c179e"
             ],
             [
              0.4444444444444444,
              "#bd3786"
             ],
             [
              0.5555555555555556,
              "#d8576b"
             ],
             [
              0.6666666666666666,
              "#ed7953"
             ],
             [
              0.7777777777777778,
              "#fb9f3a"
             ],
             [
              0.8888888888888888,
              "#fdca26"
             ],
             [
              1,
              "#f0f921"
             ]
            ],
            "type": "histogram2d"
           }
          ],
          "histogram2dcontour": [
           {
            "colorbar": {
             "outlinewidth": 0,
             "ticks": ""
            },
            "colorscale": [
             [
              0,
              "#0d0887"
             ],
             [
              0.1111111111111111,
              "#46039f"
             ],
             [
              0.2222222222222222,
              "#7201a8"
             ],
             [
              0.3333333333333333,
              "#9c179e"
             ],
             [
              0.4444444444444444,
              "#bd3786"
             ],
             [
              0.5555555555555556,
              "#d8576b"
             ],
             [
              0.6666666666666666,
              "#ed7953"
             ],
             [
              0.7777777777777778,
              "#fb9f3a"
             ],
             [
              0.8888888888888888,
              "#fdca26"
             ],
             [
              1,
              "#f0f921"
             ]
            ],
            "type": "histogram2dcontour"
           }
          ],
          "mesh3d": [
           {
            "colorbar": {
             "outlinewidth": 0,
             "ticks": ""
            },
            "type": "mesh3d"
           }
          ],
          "parcoords": [
           {
            "line": {
             "colorbar": {
              "outlinewidth": 0,
              "ticks": ""
             }
            },
            "type": "parcoords"
           }
          ],
          "pie": [
           {
            "automargin": true,
            "type": "pie"
           }
          ],
          "scatter": [
           {
            "fillpattern": {
             "fillmode": "overlay",
             "size": 10,
             "solidity": 0.2
            },
            "type": "scatter"
           }
          ],
          "scatter3d": [
           {
            "line": {
             "colorbar": {
              "outlinewidth": 0,
              "ticks": ""
             }
            },
            "marker": {
             "colorbar": {
              "outlinewidth": 0,
              "ticks": ""
             }
            },
            "type": "scatter3d"
           }
          ],
          "scattercarpet": [
           {
            "marker": {
             "colorbar": {
              "outlinewidth": 0,
              "ticks": ""
             }
            },
            "type": "scattercarpet"
           }
          ],
          "scattergeo": [
           {
            "marker": {
             "colorbar": {
              "outlinewidth": 0,
              "ticks": ""
             }
            },
            "type": "scattergeo"
           }
          ],
          "scattergl": [
           {
            "marker": {
             "colorbar": {
              "outlinewidth": 0,
              "ticks": ""
             }
            },
            "type": "scattergl"
           }
          ],
          "scattermap": [
           {
            "marker": {
             "colorbar": {
              "outlinewidth": 0,
              "ticks": ""
             }
            },
            "type": "scattermap"
           }
          ],
          "scattermapbox": [
           {
            "marker": {
             "colorbar": {
              "outlinewidth": 0,
              "ticks": ""
             }
            },
            "type": "scattermapbox"
           }
          ],
          "scatterpolar": [
           {
            "marker": {
             "colorbar": {
              "outlinewidth": 0,
              "ticks": ""
             }
            },
            "type": "scatterpolar"
           }
          ],
          "scatterpolargl": [
           {
            "marker": {
             "colorbar": {
              "outlinewidth": 0,
              "ticks": ""
             }
            },
            "type": "scatterpolargl"
           }
          ],
          "scatterternary": [
           {
            "marker": {
             "colorbar": {
              "outlinewidth": 0,
              "ticks": ""
             }
            },
            "type": "scatterternary"
           }
          ],
          "surface": [
           {
            "colorbar": {
             "outlinewidth": 0,
             "ticks": ""
            },
            "colorscale": [
             [
              0,
              "#0d0887"
             ],
             [
              0.1111111111111111,
              "#46039f"
             ],
             [
              0.2222222222222222,
              "#7201a8"
             ],
             [
              0.3333333333333333,
              "#9c179e"
             ],
             [
              0.4444444444444444,
              "#bd3786"
             ],
             [
              0.5555555555555556,
              "#d8576b"
             ],
             [
              0.6666666666666666,
              "#ed7953"
             ],
             [
              0.7777777777777778,
              "#fb9f3a"
             ],
             [
              0.8888888888888888,
              "#fdca26"
             ],
             [
              1,
              "#f0f921"
             ]
            ],
            "type": "surface"
           }
          ],
          "table": [
           {
            "cells": {
             "fill": {
              "color": "#EBF0F8"
             },
             "line": {
              "color": "white"
             }
            },
            "header": {
             "fill": {
              "color": "#C8D4E3"
             },
             "line": {
              "color": "white"
             }
            },
            "type": "table"
           }
          ]
         },
         "layout": {
          "annotationdefaults": {
           "arrowcolor": "#2a3f5f",
           "arrowhead": 0,
           "arrowwidth": 1
          },
          "autotypenumbers": "strict",
          "coloraxis": {
           "colorbar": {
            "outlinewidth": 0,
            "ticks": ""
           }
          },
          "colorscale": {
           "diverging": [
            [
             0,
             "#8e0152"
            ],
            [
             0.1,
             "#c51b7d"
            ],
            [
             0.2,
             "#de77ae"
            ],
            [
             0.3,
             "#f1b6da"
            ],
            [
             0.4,
             "#fde0ef"
            ],
            [
             0.5,
             "#f7f7f7"
            ],
            [
             0.6,
             "#e6f5d0"
            ],
            [
             0.7,
             "#b8e186"
            ],
            [
             0.8,
             "#7fbc41"
            ],
            [
             0.9,
             "#4d9221"
            ],
            [
             1,
             "#276419"
            ]
           ],
           "sequential": [
            [
             0,
             "#0d0887"
            ],
            [
             0.1111111111111111,
             "#46039f"
            ],
            [
             0.2222222222222222,
             "#7201a8"
            ],
            [
             0.3333333333333333,
             "#9c179e"
            ],
            [
             0.4444444444444444,
             "#bd3786"
            ],
            [
             0.5555555555555556,
             "#d8576b"
            ],
            [
             0.6666666666666666,
             "#ed7953"
            ],
            [
             0.7777777777777778,
             "#fb9f3a"
            ],
            [
             0.8888888888888888,
             "#fdca26"
            ],
            [
             1,
             "#f0f921"
            ]
           ],
           "sequentialminus": [
            [
             0,
             "#0d0887"
            ],
            [
             0.1111111111111111,
             "#46039f"
            ],
            [
             0.2222222222222222,
             "#7201a8"
            ],
            [
             0.3333333333333333,
             "#9c179e"
            ],
            [
             0.4444444444444444,
             "#bd3786"
            ],
            [
             0.5555555555555556,
             "#d8576b"
            ],
            [
             0.6666666666666666,
             "#ed7953"
            ],
            [
             0.7777777777777778,
             "#fb9f3a"
            ],
            [
             0.8888888888888888,
             "#fdca26"
            ],
            [
             1,
             "#f0f921"
            ]
           ]
          },
          "colorway": [
           "#636efa",
           "#EF553B",
           "#00cc96",
           "#ab63fa",
           "#FFA15A",
           "#19d3f3",
           "#FF6692",
           "#B6E880",
           "#FF97FF",
           "#FECB52"
          ],
          "font": {
           "color": "#2a3f5f"
          },
          "geo": {
           "bgcolor": "white",
           "lakecolor": "white",
           "landcolor": "white",
           "showlakes": true,
           "showland": true,
           "subunitcolor": "#C8D4E3"
          },
          "hoverlabel": {
           "align": "left"
          },
          "hovermode": "closest",
          "mapbox": {
           "style": "light"
          },
          "paper_bgcolor": "white",
          "plot_bgcolor": "white",
          "polar": {
           "angularaxis": {
            "gridcolor": "#EBF0F8",
            "linecolor": "#EBF0F8",
            "ticks": ""
           },
           "bgcolor": "white",
           "radialaxis": {
            "gridcolor": "#EBF0F8",
            "linecolor": "#EBF0F8",
            "ticks": ""
           }
          },
          "scene": {
           "xaxis": {
            "backgroundcolor": "white",
            "gridcolor": "#DFE8F3",
            "gridwidth": 2,
            "linecolor": "#EBF0F8",
            "showbackground": true,
            "ticks": "",
            "zerolinecolor": "#EBF0F8"
           },
           "yaxis": {
            "backgroundcolor": "white",
            "gridcolor": "#DFE8F3",
            "gridwidth": 2,
            "linecolor": "#EBF0F8",
            "showbackground": true,
            "ticks": "",
            "zerolinecolor": "#EBF0F8"
           },
           "zaxis": {
            "backgroundcolor": "white",
            "gridcolor": "#DFE8F3",
            "gridwidth": 2,
            "linecolor": "#EBF0F8",
            "showbackground": true,
            "ticks": "",
            "zerolinecolor": "#EBF0F8"
           }
          },
          "shapedefaults": {
           "line": {
            "color": "#2a3f5f"
           }
          },
          "ternary": {
           "aaxis": {
            "gridcolor": "#DFE8F3",
            "linecolor": "#A2B1C6",
            "ticks": ""
           },
           "baxis": {
            "gridcolor": "#DFE8F3",
            "linecolor": "#A2B1C6",
            "ticks": ""
           },
           "bgcolor": "white",
           "caxis": {
            "gridcolor": "#DFE8F3",
            "linecolor": "#A2B1C6",
            "ticks": ""
           }
          },
          "title": {
           "x": 0.05
          },
          "xaxis": {
           "automargin": true,
           "gridcolor": "#EBF0F8",
           "linecolor": "#EBF0F8",
           "ticks": "",
           "title": {
            "standoff": 15
           },
           "zerolinecolor": "#EBF0F8",
           "zerolinewidth": 2
          },
          "yaxis": {
           "automargin": true,
           "gridcolor": "#EBF0F8",
           "linecolor": "#EBF0F8",
           "ticks": "",
           "title": {
            "standoff": 15
           },
           "zerolinecolor": "#EBF0F8",
           "zerolinewidth": 2
          }
         }
        },
        "width": 1980.0000000000002,
        "xaxis": {
         "tickfont": {
          "color": "#00008B",
          "family": "Courier New",
          "size": 38
         },
         "title": {
          "font": {
           "color": "#00008B",
           "family": "Courier New",
           "size": 38
          },
          "text": ""
         }
        },
        "yaxis": {
         "range": [
          0,
          0.5
         ],
         "tickfont": {
          "color": "#00008B",
          "family": "Courier New",
          "size": 38
         },
         "title": {
          "font": {
           "color": "#00008B",
           "family": "Courier New",
           "size": 38
          },
          "text": "Replacement Costs (US$ billion)"
         }
        }
       }
      }
     },
     "metadata": {},
     "output_type": "display_data"
    }
   ],
   "source": [
    "# Define the filters\n",
    "filters = { 'Portfolio Strategy': [port_strat.replace(' ', '<br>') for port_strat in portfolio_strategies[0:2]], \n",
    "           'Impact type': ['Net', 'Risk Transfer'], 'Time period': ['Current','Future']}\n",
    "\n",
    "# Define the columns to remove\n",
    "columns_to_remove = []\n",
    "\n",
    "# Decide if value at risk is plotted\n",
    "plot_var = False\n",
    "\n",
    "# Filter the data frame\n",
    "filt_risk_attr_df = filter_dataframe(risk_attr_incl_risk_transf_df, filters, columns_to_remove)\n",
    "df = filt_risk_attr_df\n",
    "\n",
    "group_col = 'Portfolio Strategy' \n",
    "sub_group_col = 'Time period'\n",
    "legend_col = 'legend_bar_Companies'# 'Risk Attribution'\n",
    "stack_col = 'Marginal ES'\n",
    "\n",
    "\n",
    "xaxis_title = ''\n",
    "yaxis_title = 'Replacement Costs (US$ billion)'\n",
    "\n",
    "# Create a new figure\n",
    "fig = go.Figure()\n",
    "\n",
    "# Adjust the gap between bars for \"Current\" and \"Future\"\n",
    "bargap_value = 0.01  # Adjust this value to reduce the space between bar groups\n",
    "bargroupgap_value = 0.02  # Adjust this value to reduce the space between individual bars within a group\n",
    "\n",
    "# Font color dark blue\n",
    "font_color = '#00008B'\n",
    "font_family = 'Courier New' # bold\n",
    "font_size = 38\n",
    "adjustment = 0.00\n",
    "max_value = 0.50\n",
    "\n",
    "font_dict = dict(size=font_size, family=font_family, color=font_color)\n",
    "\n",
    "fig.update_layout(\n",
    "    template=\"plotly_white\",\n",
    "    xaxis_title=xaxis_title,\n",
    "    yaxis_title=yaxis_title,\n",
    "    barmode=\"stack\",\n",
    "    bargap=bargap_value,  # Set the gap between groups of bars\n",
    "    bargroupgap=bargroupgap_value,  # Set the gap between bars within the same group\n",
    "    xaxis_title_font=dict(size=font_size, family=font_family, color=font_color),\n",
    "    yaxis_title_font=dict(size=font_size, family=font_family, color=font_color),\n",
    "    xaxis_tickfont=dict(size=font_size, family=font_family, color=font_color),\n",
    "    yaxis_tickfont=dict(size=font_size, family=font_family, color=font_color),\n",
    "    legend_font=dict(size=font_size, family=font_family, color=font_color),\n",
    "    yaxis=dict(range=[0, max_value]), \n",
    "    height=1000*1.1,\n",
    "    width=1800*1.1,\n",
    "    legend=dict(\n",
    "        orientation=\"h\",\n",
    "        yanchor=\"top\",\n",
    "        y=1.1,\n",
    "        xanchor=\"center\",\n",
    "        x=0.5\n",
    "    ),\n",
    "    # Reverse the legend order\n",
    "    legend_traceorder=\"reversed\",\n",
    ")\n",
    "\n",
    "\n",
    "\n",
    "# Begin with the Net Risk\n",
    "# Get the legend values in alphabetical order\n",
    "legend_values = df[legend_col].unique()\n",
    "# Reverse the order of the legend values\n",
    "legend_values = legend_values[::-1]\n",
    "# Only include net \n",
    "legend_values_Net = [leg for leg in legend_values if 'Net' in leg or 'Insurance' not in leg]\n",
    "\n",
    "\n",
    "\n",
    "# Get the colors for the legend values\n",
    "colors = [color_mapping_hex[legend_value] for legend_value in legend_values_Net]\n",
    "\n",
    "\n",
    "# For each unique value in the legend column and its corresponding color (Net Risk)\n",
    "for legend_value, color in zip(legend_values_Net, colors):\n",
    "    # Filter the DataFrame to only include rows with the current legend value\n",
    "    plot_df = df[df[legend_col] == legend_value]\n",
    "\n",
    "    for time_period in plot_df[sub_group_col].unique():\n",
    "        time_filtered_df = plot_df[plot_df[sub_group_col] == time_period]\n",
    "\n",
    "        # Apply dashed line pattern to \"Future\" time period\n",
    "        if time_period == \"Future\":\n",
    "            pattern_shape = \"/\"  # diagonal lines\n",
    "            show_legend = False  # Do not show in legend\n",
    "        else:\n",
    "            pattern_shape = \"\"\n",
    "            show_legend = True  # Show in legend\n",
    "\n",
    "        # Add a bar to the figure for the current legend value\n",
    "        fig.add_trace(\n",
    "            go.Bar(\n",
    "                x=[time_filtered_df[group_col], time_filtered_df[sub_group_col]],\n",
    "                y=time_filtered_df[stack_col],\n",
    "                name=legend_value if show_legend else None,\n",
    "                marker_color=color,\n",
    "                textfont=dict(size=font_size, family=font_family, color=font_color),\n",
    "                marker=dict(pattern_shape=pattern_shape),\n",
    "                showlegend=show_legend,\n",
    "            ),\n",
    "        )\n",
    "\n",
    "\n",
    "# Begin with the Gross Risk\n",
    "# Get the legend values in alphabetical order\n",
    "legend_values_RT = [leg for leg in legend_values if 'Risk Transfer' in leg or 'Insurance' in leg]\n",
    "\n",
    "\n",
    "# Get the colors for the legend values\n",
    "colors = [color_mapping_hex[legend_value] for legend_value in legend_values_RT]\n",
    "\n",
    "\n",
    "# For Gross Risk (Risk Transfer)\n",
    "for legend_value, color in zip(legend_values_RT, colors):\n",
    "    # Filter the DataFrame to only include rows with the current legend value\n",
    "    plot_df = df[df[legend_col] == legend_value]\n",
    "\n",
    "    for time_period in plot_df[sub_group_col].unique():\n",
    "        time_filtered_df = plot_df[plot_df[sub_group_col] == time_period]\n",
    "\n",
    "        # Apply dashed line pattern to \"Future\" time period\n",
    "        if time_period == \"Future\":\n",
    "            pattern_shape = \"/\"  # diagonal lines\n",
    "            show_legend = False  # Do not show in legend\n",
    "        else:\n",
    "            pattern_shape = \"\"\n",
    "            show_legend = True  # Show in legend\n",
    "\n",
    "        # Add a bar to the figure for the current legend value\n",
    "        fig.add_trace(\n",
    "            go.Bar(\n",
    "                x=[time_filtered_df[group_col], time_filtered_df[sub_group_col]],\n",
    "                y=time_filtered_df[stack_col],\n",
    "                name=legend_value if show_legend else None,\n",
    "                marker_color=color,\n",
    "                textfont=dict(size=font_size, family=font_family, color=font_color),\n",
    "                marker=dict(pattern_shape=pattern_shape),\n",
    "                showlegend=show_legend,\n",
    "            ),\n",
    "        )\n",
    "\n",
    "# Always add the ES Gross\n",
    "for time in df['Time period'].unique():\n",
    "    for port_strat in df['Portfolio Strategy'].unique():\n",
    "        # Get the Gross ES from risk metrics df\n",
    "        #gross_es = risk_metrics_df[(risk_metrics_df['Time period'] == time) & (risk_metrics_df['Portfolio Strategy'] == port_strat) & (risk_metrics_df['Impact type'] == 'Gross')]['ES'].values[0]\n",
    "        # Filter the DataFrame based on the given criteria\n",
    "        filtered_df = risk_attr_incl_risk_transf_df[\n",
    "            (risk_attr_incl_risk_transf_df['Time period'] == time) &\n",
    "            (risk_attr_incl_risk_transf_df['Impact type'] == 'Gross') &\n",
    "            (risk_attr_incl_risk_transf_df['Portfolio Strategy'] == port_strat)\n",
    "        ]\n",
    "\n",
    "        # Calculate the sum of Marginal ES\n",
    "        gross_es = filtered_df['Marginal ES'].sum()\n",
    "\n",
    "        # Convert time and company to pandas Series with a single value\n",
    "        time_series = pd.Series([time])\n",
    "        company_series = pd.Series([port_strat])\n",
    "\n",
    "        # Add of the ES Gross as text on the top of the bar\n",
    "        fig.add_trace(\n",
    "            go.Scatter(\n",
    "                x= [company_series, time_series],\n",
    "                y= [gross_es + adjustment],\n",
    "                name= 'ES Gross', \n",
    "                mode='text',\n",
    "                text= [gross_es.round(2)],\n",
    "                textposition='top center',\n",
    "                textfont=dict(\n",
    "                    color='black', \n",
    "                    size=font_size, \n",
    "                    family= font_family\n",
    "                ),\n",
    "                showlegend=False\n",
    "            ),\n",
    "        )\n",
    "        \n",
    "fig.show()\n",
    "\n",
    "# Save the figure as a PNG file\n",
    "file = merged_folder / 'Company Risks.png'\n",
    "fig.write_image(file,  scale=4)\n"
   ]
  },
  {
   "cell_type": "markdown",
   "metadata": {},
   "source": [
    "### Plot - Risk attribution per company and strategy"
   ]
  },
  {
   "cell_type": "code",
   "execution_count": 16,
   "metadata": {},
   "outputs": [
    {
     "data": {
      "application/vnd.plotly.v1+json": {
       "config": {
        "plotlyServerURL": "https://plot.ly"
       },
       "data": [
        {
         "marker": {
          "color": "#06d6a0"
         },
         "name": "NWP SEMICON - Marginal ES",
         "textfont": {
          "color": "#00008B",
          "family": "Courier New",
          "size": 40
         },
         "type": "bar",
         "x": [
          [
           "Current",
           "Current",
           "Current",
           "Current",
           "Future",
           "Future",
           "Future",
           "Future"
          ],
          [
           "Globe<br>Pharma",
           "NWP<br>SEMICON",
           "Equal",
           "Optimal",
           "Globe<br>Pharma",
           "NWP<br>SEMICON",
           "Equal",
           "Optimal"
          ]
         ],
         "y": {
          "bdata": "AAAAAAAAAACi2I/Zc2vOP7BMhr6/aL0/oCGMrydelT8AAAAAAAAAAD92TmhC4NE/DVt4PPclwT89qH6Zk7SWPw==",
          "dtype": "f8"
         }
        },
        {
         "marker": {
          "color": "#ffca3a"
         },
         "name": "Globe Pharma - Marginal ES",
         "textfont": {
          "color": "#00008B",
          "family": "Courier New",
          "size": 40
         },
         "type": "bar",
         "x": [
          [
           "Current",
           "Current",
           "Current",
           "Current",
           "Future",
           "Future",
           "Future",
           "Future"
          ],
          [
           "Globe<br>Pharma",
           "NWP<br>SEMICON",
           "Equal",
           "Optimal",
           "Globe<br>Pharma",
           "NWP<br>SEMICON",
           "Equal",
           "Optimal"
          ]
         ],
         "y": {
          "bdata": "OO897+feuj8AAAAAAAAAAGk+8ilnl4c/FrTsaj6gsj8QtI9NubG+PwAAAAAAAAAA1HCz73/akT/JuFxMFnC2Pw==",
          "dtype": "f8"
         }
        },
        {
         "mode": "text",
         "name": "ES Net",
         "showlegend": false,
         "text": [
          "0.1"
         ],
         "textfont": {
          "color": "black",
          "family": "Courier New",
          "size": 40
         },
         "textposition": "top center",
         "type": "scatter",
         "x": [
          [
           "Current"
          ],
          [
           "Globe<br>Pharma"
          ]
         ],
         "y": [
          0.104963775547671
         ]
        },
        {
         "mode": "text",
         "name": "ES Net",
         "showlegend": false,
         "text": [
          "0.24"
         ],
         "textfont": {
          "color": "black",
          "family": "Courier New",
          "size": 40
         },
         "textposition": "top center",
         "type": "scatter",
         "x": [
          [
           "Current"
          ],
          [
           "NWP<br>SEMICON"
          ]
         ],
         "y": [
          0.23765419123782744
         ]
        },
        {
         "mode": "text",
         "name": "ES Net",
         "showlegend": false,
         "text": [
          "0.13"
         ],
         "textfont": {
          "color": "black",
          "family": "Courier New",
          "size": 40
         },
         "textposition": "top center",
         "type": "scatter",
         "x": [
          [
           "Current"
          ],
          [
           "Equal"
          ]
         ],
         "y": [
          0.1263988399337723
         ]
        },
        {
         "mode": "text",
         "name": "ES Net",
         "showlegend": false,
         "text": [
          "0.09"
         ],
         "textfont": {
          "color": "black",
          "family": "Courier New",
          "size": 40
         },
         "textposition": "top center",
         "type": "scatter",
         "x": [
          [
           "Current"
          ],
          [
           "Optimal"
          ]
         ],
         "y": [
          0.093624612039763
         ]
        },
        {
         "mode": "text",
         "name": "ES Net",
         "showlegend": false,
         "text": [
          "0.12"
         ],
         "textfont": {
          "color": "black",
          "family": "Courier New",
          "size": 40
         },
         "textposition": "top center",
         "type": "scatter",
         "x": [
          [
           "Future"
          ],
          [
           "Globe<br>Pharma"
          ]
         ],
         "y": [
          0.11989935058200296
         ]
        },
        {
         "mode": "text",
         "name": "ES Net",
         "showlegend": false,
         "text": [
          "0.28"
         ],
         "textfont": {
          "color": "black",
          "family": "Courier New",
          "size": 40
         },
         "textposition": "top center",
         "type": "scatter",
         "x": [
          [
           "Future"
          ],
          [
           "NWP<br>SEMICON"
          ]
         ],
         "y": [
          0.2793127077692112
         ]
        },
        {
         "mode": "text",
         "name": "ES Net",
         "showlegend": false,
         "text": [
          "0.15"
         ],
         "textfont": {
          "color": "black",
          "family": "Courier New",
          "size": 40
         },
         "textposition": "top center",
         "type": "scatter",
         "x": [
          [
           "Future"
          ],
          [
           "Equal"
          ]
         ],
         "y": [
          0.1514061961475559
         ]
        },
        {
         "mode": "text",
         "name": "ES Net",
         "showlegend": false,
         "text": [
          "0.11"
         ],
         "textfont": {
          "color": "black",
          "family": "Courier New",
          "size": 40
         },
         "textposition": "top center",
         "type": "scatter",
         "x": [
          [
           "Future"
          ],
          [
           "Optimal"
          ]
         ],
         "y": [
          0.1098210333697226
         ]
        }
       ],
       "layout": {
        "bargap": 0.2,
        "barmode": "stack",
        "height": 1200,
        "legend": {
         "font": {
          "color": "#00008B",
          "family": "Courier New",
          "size": 40
         },
         "orientation": "h",
         "traceorder": "reversed",
         "x": 0.5,
         "xanchor": "center",
         "y": 1.1,
         "yanchor": "top"
        },
        "template": {
         "data": {
          "bar": [
           {
            "error_x": {
             "color": "#2a3f5f"
            },
            "error_y": {
             "color": "#2a3f5f"
            },
            "marker": {
             "line": {
              "color": "white",
              "width": 0.5
             },
             "pattern": {
              "fillmode": "overlay",
              "size": 10,
              "solidity": 0.2
             }
            },
            "type": "bar"
           }
          ],
          "barpolar": [
           {
            "marker": {
             "line": {
              "color": "white",
              "width": 0.5
             },
             "pattern": {
              "fillmode": "overlay",
              "size": 10,
              "solidity": 0.2
             }
            },
            "type": "barpolar"
           }
          ],
          "carpet": [
           {
            "aaxis": {
             "endlinecolor": "#2a3f5f",
             "gridcolor": "#C8D4E3",
             "linecolor": "#C8D4E3",
             "minorgridcolor": "#C8D4E3",
             "startlinecolor": "#2a3f5f"
            },
            "baxis": {
             "endlinecolor": "#2a3f5f",
             "gridcolor": "#C8D4E3",
             "linecolor": "#C8D4E3",
             "minorgridcolor": "#C8D4E3",
             "startlinecolor": "#2a3f5f"
            },
            "type": "carpet"
           }
          ],
          "choropleth": [
           {
            "colorbar": {
             "outlinewidth": 0,
             "ticks": ""
            },
            "type": "choropleth"
           }
          ],
          "contour": [
           {
            "colorbar": {
             "outlinewidth": 0,
             "ticks": ""
            },
            "colorscale": [
             [
              0,
              "#0d0887"
             ],
             [
              0.1111111111111111,
              "#46039f"
             ],
             [
              0.2222222222222222,
              "#7201a8"
             ],
             [
              0.3333333333333333,
              "#9c179e"
             ],
             [
              0.4444444444444444,
              "#bd3786"
             ],
             [
              0.5555555555555556,
              "#d8576b"
             ],
             [
              0.6666666666666666,
              "#ed7953"
             ],
             [
              0.7777777777777778,
              "#fb9f3a"
             ],
             [
              0.8888888888888888,
              "#fdca26"
             ],
             [
              1,
              "#f0f921"
             ]
            ],
            "type": "contour"
           }
          ],
          "contourcarpet": [
           {
            "colorbar": {
             "outlinewidth": 0,
             "ticks": ""
            },
            "type": "contourcarpet"
           }
          ],
          "heatmap": [
           {
            "colorbar": {
             "outlinewidth": 0,
             "ticks": ""
            },
            "colorscale": [
             [
              0,
              "#0d0887"
             ],
             [
              0.1111111111111111,
              "#46039f"
             ],
             [
              0.2222222222222222,
              "#7201a8"
             ],
             [
              0.3333333333333333,
              "#9c179e"
             ],
             [
              0.4444444444444444,
              "#bd3786"
             ],
             [
              0.5555555555555556,
              "#d8576b"
             ],
             [
              0.6666666666666666,
              "#ed7953"
             ],
             [
              0.7777777777777778,
              "#fb9f3a"
             ],
             [
              0.8888888888888888,
              "#fdca26"
             ],
             [
              1,
              "#f0f921"
             ]
            ],
            "type": "heatmap"
           }
          ],
          "histogram": [
           {
            "marker": {
             "pattern": {
              "fillmode": "overlay",
              "size": 10,
              "solidity": 0.2
             }
            },
            "type": "histogram"
           }
          ],
          "histogram2d": [
           {
            "colorbar": {
             "outlinewidth": 0,
             "ticks": ""
            },
            "colorscale": [
             [
              0,
              "#0d0887"
             ],
             [
              0.1111111111111111,
              "#46039f"
             ],
             [
              0.2222222222222222,
              "#7201a8"
             ],
             [
              0.3333333333333333,
              "#9c179e"
             ],
             [
              0.4444444444444444,
              "#bd3786"
             ],
             [
              0.5555555555555556,
              "#d8576b"
             ],
             [
              0.6666666666666666,
              "#ed7953"
             ],
             [
              0.7777777777777778,
              "#fb9f3a"
             ],
             [
              0.8888888888888888,
              "#fdca26"
             ],
             [
              1,
              "#f0f921"
             ]
            ],
            "type": "histogram2d"
           }
          ],
          "histogram2dcontour": [
           {
            "colorbar": {
             "outlinewidth": 0,
             "ticks": ""
            },
            "colorscale": [
             [
              0,
              "#0d0887"
             ],
             [
              0.1111111111111111,
              "#46039f"
             ],
             [
              0.2222222222222222,
              "#7201a8"
             ],
             [
              0.3333333333333333,
              "#9c179e"
             ],
             [
              0.4444444444444444,
              "#bd3786"
             ],
             [
              0.5555555555555556,
              "#d8576b"
             ],
             [
              0.6666666666666666,
              "#ed7953"
             ],
             [
              0.7777777777777778,
              "#fb9f3a"
             ],
             [
              0.8888888888888888,
              "#fdca26"
             ],
             [
              1,
              "#f0f921"
             ]
            ],
            "type": "histogram2dcontour"
           }
          ],
          "mesh3d": [
           {
            "colorbar": {
             "outlinewidth": 0,
             "ticks": ""
            },
            "type": "mesh3d"
           }
          ],
          "parcoords": [
           {
            "line": {
             "colorbar": {
              "outlinewidth": 0,
              "ticks": ""
             }
            },
            "type": "parcoords"
           }
          ],
          "pie": [
           {
            "automargin": true,
            "type": "pie"
           }
          ],
          "scatter": [
           {
            "fillpattern": {
             "fillmode": "overlay",
             "size": 10,
             "solidity": 0.2
            },
            "type": "scatter"
           }
          ],
          "scatter3d": [
           {
            "line": {
             "colorbar": {
              "outlinewidth": 0,
              "ticks": ""
             }
            },
            "marker": {
             "colorbar": {
              "outlinewidth": 0,
              "ticks": ""
             }
            },
            "type": "scatter3d"
           }
          ],
          "scattercarpet": [
           {
            "marker": {
             "colorbar": {
              "outlinewidth": 0,
              "ticks": ""
             }
            },
            "type": "scattercarpet"
           }
          ],
          "scattergeo": [
           {
            "marker": {
             "colorbar": {
              "outlinewidth": 0,
              "ticks": ""
             }
            },
            "type": "scattergeo"
           }
          ],
          "scattergl": [
           {
            "marker": {
             "colorbar": {
              "outlinewidth": 0,
              "ticks": ""
             }
            },
            "type": "scattergl"
           }
          ],
          "scattermap": [
           {
            "marker": {
             "colorbar": {
              "outlinewidth": 0,
              "ticks": ""
             }
            },
            "type": "scattermap"
           }
          ],
          "scattermapbox": [
           {
            "marker": {
             "colorbar": {
              "outlinewidth": 0,
              "ticks": ""
             }
            },
            "type": "scattermapbox"
           }
          ],
          "scatterpolar": [
           {
            "marker": {
             "colorbar": {
              "outlinewidth": 0,
              "ticks": ""
             }
            },
            "type": "scatterpolar"
           }
          ],
          "scatterpolargl": [
           {
            "marker": {
             "colorbar": {
              "outlinewidth": 0,
              "ticks": ""
             }
            },
            "type": "scatterpolargl"
           }
          ],
          "scatterternary": [
           {
            "marker": {
             "colorbar": {
              "outlinewidth": 0,
              "ticks": ""
             }
            },
            "type": "scatterternary"
           }
          ],
          "surface": [
           {
            "colorbar": {
             "outlinewidth": 0,
             "ticks": ""
            },
            "colorscale": [
             [
              0,
              "#0d0887"
             ],
             [
              0.1111111111111111,
              "#46039f"
             ],
             [
              0.2222222222222222,
              "#7201a8"
             ],
             [
              0.3333333333333333,
              "#9c179e"
             ],
             [
              0.4444444444444444,
              "#bd3786"
             ],
             [
              0.5555555555555556,
              "#d8576b"
             ],
             [
              0.6666666666666666,
              "#ed7953"
             ],
             [
              0.7777777777777778,
              "#fb9f3a"
             ],
             [
              0.8888888888888888,
              "#fdca26"
             ],
             [
              1,
              "#f0f921"
             ]
            ],
            "type": "surface"
           }
          ],
          "table": [
           {
            "cells": {
             "fill": {
              "color": "#EBF0F8"
             },
             "line": {
              "color": "white"
             }
            },
            "header": {
             "fill": {
              "color": "#C8D4E3"
             },
             "line": {
              "color": "white"
             }
            },
            "type": "table"
           }
          ]
         },
         "layout": {
          "annotationdefaults": {
           "arrowcolor": "#2a3f5f",
           "arrowhead": 0,
           "arrowwidth": 1
          },
          "autotypenumbers": "strict",
          "coloraxis": {
           "colorbar": {
            "outlinewidth": 0,
            "ticks": ""
           }
          },
          "colorscale": {
           "diverging": [
            [
             0,
             "#8e0152"
            ],
            [
             0.1,
             "#c51b7d"
            ],
            [
             0.2,
             "#de77ae"
            ],
            [
             0.3,
             "#f1b6da"
            ],
            [
             0.4,
             "#fde0ef"
            ],
            [
             0.5,
             "#f7f7f7"
            ],
            [
             0.6,
             "#e6f5d0"
            ],
            [
             0.7,
             "#b8e186"
            ],
            [
             0.8,
             "#7fbc41"
            ],
            [
             0.9,
             "#4d9221"
            ],
            [
             1,
             "#276419"
            ]
           ],
           "sequential": [
            [
             0,
             "#0d0887"
            ],
            [
             0.1111111111111111,
             "#46039f"
            ],
            [
             0.2222222222222222,
             "#7201a8"
            ],
            [
             0.3333333333333333,
             "#9c179e"
            ],
            [
             0.4444444444444444,
             "#bd3786"
            ],
            [
             0.5555555555555556,
             "#d8576b"
            ],
            [
             0.6666666666666666,
             "#ed7953"
            ],
            [
             0.7777777777777778,
             "#fb9f3a"
            ],
            [
             0.8888888888888888,
             "#fdca26"
            ],
            [
             1,
             "#f0f921"
            ]
           ],
           "sequentialminus": [
            [
             0,
             "#0d0887"
            ],
            [
             0.1111111111111111,
             "#46039f"
            ],
            [
             0.2222222222222222,
             "#7201a8"
            ],
            [
             0.3333333333333333,
             "#9c179e"
            ],
            [
             0.4444444444444444,
             "#bd3786"
            ],
            [
             0.5555555555555556,
             "#d8576b"
            ],
            [
             0.6666666666666666,
             "#ed7953"
            ],
            [
             0.7777777777777778,
             "#fb9f3a"
            ],
            [
             0.8888888888888888,
             "#fdca26"
            ],
            [
             1,
             "#f0f921"
            ]
           ]
          },
          "colorway": [
           "#636efa",
           "#EF553B",
           "#00cc96",
           "#ab63fa",
           "#FFA15A",
           "#19d3f3",
           "#FF6692",
           "#B6E880",
           "#FF97FF",
           "#FECB52"
          ],
          "font": {
           "color": "#2a3f5f"
          },
          "geo": {
           "bgcolor": "white",
           "lakecolor": "white",
           "landcolor": "white",
           "showlakes": true,
           "showland": true,
           "subunitcolor": "#C8D4E3"
          },
          "hoverlabel": {
           "align": "left"
          },
          "hovermode": "closest",
          "mapbox": {
           "style": "light"
          },
          "paper_bgcolor": "white",
          "plot_bgcolor": "white",
          "polar": {
           "angularaxis": {
            "gridcolor": "#EBF0F8",
            "linecolor": "#EBF0F8",
            "ticks": ""
           },
           "bgcolor": "white",
           "radialaxis": {
            "gridcolor": "#EBF0F8",
            "linecolor": "#EBF0F8",
            "ticks": ""
           }
          },
          "scene": {
           "xaxis": {
            "backgroundcolor": "white",
            "gridcolor": "#DFE8F3",
            "gridwidth": 2,
            "linecolor": "#EBF0F8",
            "showbackground": true,
            "ticks": "",
            "zerolinecolor": "#EBF0F8"
           },
           "yaxis": {
            "backgroundcolor": "white",
            "gridcolor": "#DFE8F3",
            "gridwidth": 2,
            "linecolor": "#EBF0F8",
            "showbackground": true,
            "ticks": "",
            "zerolinecolor": "#EBF0F8"
           },
           "zaxis": {
            "backgroundcolor": "white",
            "gridcolor": "#DFE8F3",
            "gridwidth": 2,
            "linecolor": "#EBF0F8",
            "showbackground": true,
            "ticks": "",
            "zerolinecolor": "#EBF0F8"
           }
          },
          "shapedefaults": {
           "line": {
            "color": "#2a3f5f"
           }
          },
          "ternary": {
           "aaxis": {
            "gridcolor": "#DFE8F3",
            "linecolor": "#A2B1C6",
            "ticks": ""
           },
           "baxis": {
            "gridcolor": "#DFE8F3",
            "linecolor": "#A2B1C6",
            "ticks": ""
           },
           "bgcolor": "white",
           "caxis": {
            "gridcolor": "#DFE8F3",
            "linecolor": "#A2B1C6",
            "ticks": ""
           }
          },
          "title": {
           "x": 0.05
          },
          "xaxis": {
           "automargin": true,
           "gridcolor": "#EBF0F8",
           "linecolor": "#EBF0F8",
           "ticks": "",
           "title": {
            "standoff": 15
           },
           "zerolinecolor": "#EBF0F8",
           "zerolinewidth": 2
          },
          "yaxis": {
           "automargin": true,
           "gridcolor": "#EBF0F8",
           "linecolor": "#EBF0F8",
           "ticks": "",
           "title": {
            "standoff": 15
           },
           "zerolinecolor": "#EBF0F8",
           "zerolinewidth": 2
          }
         }
        },
        "width": 2160,
        "xaxis": {
         "tickfont": {
          "color": "#00008B",
          "family": "Courier New",
          "size": 40
         },
         "title": {
          "font": {
           "color": "#00008B",
           "family": "Courier New",
           "size": 40
          },
          "text": ""
         }
        },
        "yaxis": {
         "tickfont": {
          "color": "#00008B",
          "family": "Courier New",
          "size": 40
         },
         "title": {
          "font": {
           "color": "#00008B",
           "family": "Courier New",
           "size": 40
          },
          "text": "Replacement Costs (US$ billion)"
         }
        }
       }
      }
     },
     "metadata": {},
     "output_type": "display_data"
    }
   ],
   "source": [
    "# Define the filters\n",
    "filters = { 'Portfolio Strategy': [port_strat.replace(' ', '<br>') for port_strat in portfolio_strategies[:]],\n",
    "           'Time period': ['Current','Future'],\n",
    "           'Impact type': ['Net', 'Risk Transfer']}\n",
    "# Define the columns to remove\n",
    "columns_to_remove = []\n",
    "\n",
    "# Decide if value at risk is plotted\n",
    "plot_var = False\n",
    "\n",
    "\n",
    "# Filter the data frame\n",
    "filt_risk_attr_df = filter_dataframe(risk_attr_incl_risk_transf_df, filters, columns_to_remove)\n",
    "df = filt_risk_attr_df\n",
    "\n",
    "group_col = 'Time period'\n",
    "sub_group_col = 'Portfolio Strategy'\n",
    "legend_col = 'legend_bar_Strategy' #'Risk Attribution'\n",
    "stack_col = 'Marginal ES'\n",
    "\n",
    "\n",
    "xaxis_title = ''\n",
    "yaxis_title = 'Replacement Costs (US$ billion)'\n",
    "\n",
    "# Create a new figure\n",
    "fig = go.Figure()\n",
    "\n",
    "# Font color dark blue\n",
    "font_color = '#00008B'\n",
    "font_family = 'Courier New' # bold\n",
    "font_size = 40\n",
    "adjustment = 0.00\n",
    "\n",
    "font_dict = dict(size=font_size, family=font_family, color=font_color)\n",
    "\n",
    "fig.update_layout(\n",
    "    template=\"plotly_white\",\n",
    "    xaxis_title=xaxis_title,\n",
    "    yaxis_title=yaxis_title,\n",
    "    barmode=\"stack\",\n",
    "    bargap=0.2,\n",
    "    xaxis_title_font=dict(size=font_size, family=font_family, color=font_color),\n",
    "    yaxis_title_font=dict(size=font_size, family=font_family, color=font_color),\n",
    "    xaxis_tickfont=dict(size=font_size, family=font_family, color=font_color),\n",
    "    yaxis_tickfont=dict(size=font_size, family=font_family, color=font_color),\n",
    "    legend_font=dict(size=font_size, family=font_family, color=font_color),\n",
    "    height=1000*1.2,\n",
    "    width=1800*1.2,\n",
    "    legend=dict(\n",
    "        orientation=\"h\",\n",
    "        yanchor=\"top\",\n",
    "        y=1.1,\n",
    "        xanchor=\"center\",\n",
    "        x=0.5\n",
    "    ),\n",
    "    # Reverse the legend order\n",
    "    legend_traceorder=\"reversed\",\n",
    ")\n",
    "\n",
    "\n",
    "# Begin with the Net Risk\n",
    "# Get the legend values in alphabetical order\n",
    "legend_values = df[legend_col].unique()\n",
    "# Reverse the order of the legend values\n",
    "legend_values = legend_values[::-1]\n",
    "# Only include net \n",
    "legend_values_Net = [leg for leg in legend_values if 'Net' in leg or 'Insurance' not in leg]\n",
    "\n",
    "\n",
    "# Get the colors for the legend values\n",
    "colors = [color_mapping_hex[legend_value] for legend_value in legend_values_Net]\n",
    "\n",
    "\n",
    "\n",
    "\n",
    "# For each unique value in the legend column and its corresponding color\n",
    "for legend_value, color in zip(legend_values_Net, colors):\n",
    "    # Filter the DataFrame to only include rows with the current legend value\n",
    "    plot_df = df[df[legend_col] == legend_value]\n",
    "\n",
    "    # Replace spaces in the x-axis labels with line breaks\n",
    "    x_labels = [label.replace(' ', '<br>') for label in plot_df[sub_group_col]]\n",
    "\n",
    "    # Add a bar to the figure for the current legend value\n",
    "    fig.add_trace(\n",
    "        go.Bar(\n",
    "            x=[plot_df[group_col], x_labels], \n",
    "            y=plot_df[stack_col], \n",
    "            name=legend_value, \n",
    "            marker_color=color, \n",
    "            textfont=dict(size=font_size, family=font_family, color=font_color),\n",
    "        ),\n",
    "    )\n",
    "\n",
    "\n",
    "# Plot the VaR Gross\n",
    "if plot_var:\n",
    "    for i, time in enumerate(df['Time period'].unique()):\n",
    "        for j, port_strat in enumerate(df['Portfolio Strategy'].unique()):\n",
    "            # Get the Net VaR from risk metrics df\n",
    "            net_var = risk_metrics_df[(risk_metrics_df['Time period'] == time) & (risk_metrics_df['Portfolio Strategy'] == port_strat) & (risk_metrics_df['Impact type'] == 'Net')]['VaR'].values[0]\n",
    "            net_es = risk_metrics_df[(risk_metrics_df['Time period'] == time) & (risk_metrics_df['Portfolio Strategy'] == port_strat) & (risk_metrics_df['Impact type'] == 'Net')]['ES'].values[0]\n",
    "\n",
    "            # Convert time and company to pandas Series with a single value\n",
    "            time_series = pd.Series([time])\n",
    "            company_series = pd.Series([port_strat])\n",
    "\n",
    "            # Add of the VaR Gross\n",
    "            fig.add_trace(\n",
    "                go.Scatter(\n",
    "                    x= [time_series, company_series],\n",
    "                    y= [net_var], \n",
    "                    marker_color= 'black',\n",
    "                    marker_symbol= 'x',\n",
    "                    name= '1% Value-At-Risk (Net)', \n",
    "                    mode='markers',\n",
    "                    showlegend= i == 0 and j ==0,\n",
    "                    marker_size= 20\n",
    "                ),\n",
    "            )\n",
    "\n",
    "# Always add the ES Net\n",
    "for i, time in enumerate(df['Time period'].unique()):\n",
    "    for j, port_strat in enumerate(df['Portfolio Strategy'].unique()):\n",
    "        # Get the Net VaR from risk metrics df\n",
    "        #net_var = risk_metrics_df[(risk_metrics_df['Time period'] == time) & (risk_metrics_df['Portfolio Strategy'] == port_strat) & (risk_metrics_df['Impact type'] == 'Net')]['VaR'].values[0]\n",
    "        #net_es = risk_metrics_df[(risk_metrics_df['Time period'] == time) & (risk_metrics_df['Portfolio Strategy'] == port_strat) & (risk_metrics_df['Impact type'] == 'Net')]['ES'].values[0]\n",
    "\n",
    "        filtered_df = risk_attr_incl_risk_transf_df[\n",
    "                (risk_attr_incl_risk_transf_df['Time period'] == time) &\n",
    "                (risk_attr_incl_risk_transf_df['Impact type'] == 'Net') &\n",
    "                (risk_attr_incl_risk_transf_df['Portfolio Strategy'] == port_strat)\n",
    "            ]\n",
    "\n",
    "        # Calculate the sum of Marginal ES\n",
    "        net_es = filtered_df['Marginal ES'].sum()\n",
    "    \n",
    "        # Convert time and company to pandas Series with a single value\n",
    "        time_series = pd.Series([time])\n",
    "        company_series = pd.Series([port_strat])\n",
    "        # Add of the ES Net as text on the top of the bar\n",
    "        fig.add_trace(\n",
    "            go.Scatter(\n",
    "                x= [time_series, company_series],\n",
    "                y= [net_es + adjustment],\n",
    "                name= 'ES Net', \n",
    "                mode='text',\n",
    "                text= [net_es.round(2)],\n",
    "                textposition='top center',\n",
    "                    textfont=dict(\n",
    "                    color='black', \n",
    "                    size=font_size, \n",
    "                    family= font_family\n",
    "                ),\n",
    "                showlegend=False\n",
    "            ),\n",
    "    )\n",
    "\n",
    "\n",
    "\n",
    "# Always add the ES Net\n",
    "\n",
    "fig.show()\n",
    "file = merged_folder / 'Portfolio Strategy.png'\n",
    "fig.write_image(file,  scale=4)\n"
   ]
  },
  {
   "cell_type": "code",
   "execution_count": 17,
   "metadata": {},
   "outputs": [
    {
     "name": "stdout",
     "output_type": "stream",
     "text": [
      "   Time period    Impact type Portfolio Strategy       Company  \\\n",
      "0   Historical          Gross    Globe<br>Pharma  Globe Pharma   \n",
      "1   Historical          Gross    Globe<br>Pharma   NWP SEMICON   \n",
      "2   Historical          Gross     NWP<br>SEMICON  Globe Pharma   \n",
      "3   Historical          Gross     NWP<br>SEMICON   NWP SEMICON   \n",
      "4   Historical          Gross              Equal  Globe Pharma   \n",
      "..         ...            ...                ...           ...   \n",
      "67      Future  Risk Transfer     NWP<br>SEMICON   NWP SEMICON   \n",
      "68      Future  Risk Transfer              Equal  Globe Pharma   \n",
      "69      Future  Risk Transfer              Equal   NWP SEMICON   \n",
      "70      Future  Risk Transfer            Optimal  Globe Pharma   \n",
      "71      Future  Risk Transfer            Optimal   NWP SEMICON   \n",
      "\n",
      "                Risk Attribution                   legend_bar_Companies  \\\n",
      "0           Globe Pharma (Gross)                   Globe Pharma (Gross)   \n",
      "1            NWP SEMICON (Gross)                    NWP SEMICON (Gross)   \n",
      "2           Globe Pharma (Gross)                   Globe Pharma (Gross)   \n",
      "3            NWP SEMICON (Gross)                    NWP SEMICON (Gross)   \n",
      "4           Globe Pharma (Gross)                   Globe Pharma (Gross)   \n",
      "..                           ...                                    ...   \n",
      "67   NWP SEMICON (Risk Transfer)   NWP SEMICON - ES Insurance Reduction   \n",
      "68  Globe Pharma (Risk Transfer)  Globe Pharma - ES Insurance Reduction   \n",
      "69   NWP SEMICON (Risk Transfer)   NWP SEMICON - ES Insurance Reduction   \n",
      "70  Globe Pharma (Risk Transfer)  Globe Pharma - ES Insurance Reduction   \n",
      "71   NWP SEMICON (Risk Transfer)   NWP SEMICON - ES Insurance Reduction   \n",
      "\n",
      "                               legend_bar_Strategy  Marginal ES  \n",
      "0                             Globe Pharma (Gross)     0.207425  \n",
      "1                              NWP SEMICON (Gross)     0.000000  \n",
      "2                             Globe Pharma (Gross)     0.000000  \n",
      "3                              NWP SEMICON (Gross)     0.212978  \n",
      "4                             Globe Pharma (Gross)     0.078692  \n",
      "..                                             ...          ...  \n",
      "67   NWP SEMICON - Marginal ES Insurance Reduction     0.130647  \n",
      "68  Globe Pharma - Marginal ES Insurance Reduction     0.024279  \n",
      "69   NWP SEMICON - Marginal ES Insurance Reduction     0.048846  \n",
      "70  Globe Pharma - Marginal ES Insurance Reduction     0.045913  \n",
      "71   NWP SEMICON - Marginal ES Insurance Reduction     0.039257  \n",
      "\n",
      "[72 rows x 8 columns]\n"
     ]
    }
   ],
   "source": [
    "print(risk_attr_incl_risk_transf_df)"
   ]
  },
  {
   "cell_type": "code",
   "execution_count": 18,
   "metadata": {},
   "outputs": [
    {
     "data": {
      "text/plain": [
       "['Globe Pharma', 'NWP SEMICON', 'Equal', 'ES Min']"
      ]
     },
     "execution_count": 18,
     "metadata": {},
     "output_type": "execute_result"
    }
   ],
   "source": [
    "risk_attr_incl_risk_transf_df['Portfolio Strategy'] = risk_attr_incl_risk_transf_df['Portfolio Strategy'].replace('Optimal', 'ES Min')\n",
    "\n",
    "portfolio_strategies = ['ES Min' if s == 'Optimal' else s for s in portfolio_strategies]\n",
    "\n",
    "portfolio_strategies"
   ]
  },
  {
   "cell_type": "code",
   "execution_count": 20,
   "metadata": {},
   "outputs": [
    {
     "data": {
      "application/vnd.plotly.v1+json": {
       "config": {
        "plotlyServerURL": "https://plot.ly"
       },
       "data": [
        {
         "marker": {
          "color": "#06d6a0",
          "pattern": {
           "shape": ""
          }
         },
         "name": "NWP SEMICON - ES",
         "showlegend": true,
         "textfont": {
          "color": "#00008B",
          "family": "Courier New",
          "size": 38
         },
         "type": "bar",
         "x": [
          [
           "Globe<br>Pharma",
           "NWP<br>SEMICON",
           "Equal",
           "ES Min"
          ],
          [
           "Current",
           "Current",
           "Current",
           "Current"
          ]
         ],
         "y": {
          "bdata": "AAAAAAAAAACi2I/Zc2vOP7BMhr6/aL0/oCGMrydelT8=",
          "dtype": "f8"
         }
        },
        {
         "marker": {
          "color": "#06d6a0",
          "pattern": {
           "shape": "/"
          }
         },
         "showlegend": false,
         "textfont": {
          "color": "#00008B",
          "family": "Courier New",
          "size": 38
         },
         "type": "bar",
         "x": [
          [
           "Globe<br>Pharma",
           "NWP<br>SEMICON",
           "Equal",
           "ES Min"
          ],
          [
           "Future",
           "Future",
           "Future",
           "Future"
          ]
         ],
         "y": {
          "bdata": "AAAAAAAAAAA/dk5oQuDRPw1beDz3JcE/Pah+mZO0lj8=",
          "dtype": "f8"
         }
        },
        {
         "marker": {
          "color": "#ffca3a",
          "pattern": {
           "shape": ""
          }
         },
         "name": "Globe Pharma - ES",
         "showlegend": true,
         "textfont": {
          "color": "#00008B",
          "family": "Courier New",
          "size": 38
         },
         "type": "bar",
         "x": [
          [
           "Globe<br>Pharma",
           "NWP<br>SEMICON",
           "Equal",
           "ES Min"
          ],
          [
           "Current",
           "Current",
           "Current",
           "Current"
          ]
         ],
         "y": {
          "bdata": "OO897+feuj8AAAAAAAAAAGk+8ilnl4c/FrTsaj6gsj8=",
          "dtype": "f8"
         }
        },
        {
         "marker": {
          "color": "#ffca3a",
          "pattern": {
           "shape": "/"
          }
         },
         "showlegend": false,
         "textfont": {
          "color": "#00008B",
          "family": "Courier New",
          "size": 38
         },
         "type": "bar",
         "x": [
          [
           "Globe<br>Pharma",
           "NWP<br>SEMICON",
           "Equal",
           "ES Min"
          ],
          [
           "Future",
           "Future",
           "Future",
           "Future"
          ]
         ],
         "y": {
          "bdata": "ELSPTbmxvj8AAAAAAAAAANRws+9/2pE/ybhcTBZwtj8=",
          "dtype": "f8"
         }
        },
        {
         "mode": "text",
         "name": "ES Net",
         "showlegend": false,
         "text": [
          "0.1"
         ],
         "textfont": {
          "color": "black",
          "family": "Courier New",
          "size": 38
         },
         "textposition": "top center",
         "type": "scatter",
         "x": [
          [
           "Globe<br>Pharma"
          ],
          [
           "Current"
          ]
         ],
         "y": [
          0.104963775547671
         ]
        },
        {
         "mode": "text",
         "name": "ES Net",
         "showlegend": false,
         "text": [
          "0.24"
         ],
         "textfont": {
          "color": "black",
          "family": "Courier New",
          "size": 38
         },
         "textposition": "top center",
         "type": "scatter",
         "x": [
          [
           "NWP<br>SEMICON"
          ],
          [
           "Current"
          ]
         ],
         "y": [
          0.23765419123782744
         ]
        },
        {
         "mode": "text",
         "name": "ES Net",
         "showlegend": false,
         "text": [
          "0.13"
         ],
         "textfont": {
          "color": "black",
          "family": "Courier New",
          "size": 38
         },
         "textposition": "top center",
         "type": "scatter",
         "x": [
          [
           "Equal"
          ],
          [
           "Current"
          ]
         ],
         "y": [
          0.1263988399337723
         ]
        },
        {
         "mode": "text",
         "name": "ES Net",
         "showlegend": false,
         "text": [
          "0.09"
         ],
         "textfont": {
          "color": "black",
          "family": "Courier New",
          "size": 38
         },
         "textposition": "top center",
         "type": "scatter",
         "x": [
          [
           "ES Min"
          ],
          [
           "Current"
          ]
         ],
         "y": [
          0.093624612039763
         ]
        },
        {
         "mode": "text",
         "name": "ES Net",
         "showlegend": false,
         "text": [
          "0.12"
         ],
         "textfont": {
          "color": "black",
          "family": "Courier New",
          "size": 38
         },
         "textposition": "top center",
         "type": "scatter",
         "x": [
          [
           "Globe<br>Pharma"
          ],
          [
           "Future"
          ]
         ],
         "y": [
          0.11989935058200296
         ]
        },
        {
         "mode": "text",
         "name": "ES Net",
         "showlegend": false,
         "text": [
          "0.28"
         ],
         "textfont": {
          "color": "black",
          "family": "Courier New",
          "size": 38
         },
         "textposition": "top center",
         "type": "scatter",
         "x": [
          [
           "NWP<br>SEMICON"
          ],
          [
           "Future"
          ]
         ],
         "y": [
          0.2793127077692112
         ]
        },
        {
         "mode": "text",
         "name": "ES Net",
         "showlegend": false,
         "text": [
          "0.15"
         ],
         "textfont": {
          "color": "black",
          "family": "Courier New",
          "size": 38
         },
         "textposition": "top center",
         "type": "scatter",
         "x": [
          [
           "Equal"
          ],
          [
           "Future"
          ]
         ],
         "y": [
          0.1514061961475559
         ]
        },
        {
         "mode": "text",
         "name": "ES Net",
         "showlegend": false,
         "text": [
          "0.11"
         ],
         "textfont": {
          "color": "black",
          "family": "Courier New",
          "size": 38
         },
         "textposition": "top center",
         "type": "scatter",
         "x": [
          [
           "ES Min"
          ],
          [
           "Future"
          ]
         ],
         "y": [
          0.1098210333697226
         ]
        }
       ],
       "layout": {
        "bargap": 0.01,
        "bargroupgap": 0.02,
        "barmode": "stack",
        "height": 1100,
        "legend": {
         "font": {
          "color": "#00008B",
          "family": "Courier New",
          "size": 38
         },
         "orientation": "h",
         "traceorder": "reversed",
         "x": 0.5,
         "xanchor": "center",
         "y": 1.1,
         "yanchor": "top"
        },
        "template": {
         "data": {
          "bar": [
           {
            "error_x": {
             "color": "#2a3f5f"
            },
            "error_y": {
             "color": "#2a3f5f"
            },
            "marker": {
             "line": {
              "color": "white",
              "width": 0.5
             },
             "pattern": {
              "fillmode": "overlay",
              "size": 10,
              "solidity": 0.2
             }
            },
            "type": "bar"
           }
          ],
          "barpolar": [
           {
            "marker": {
             "line": {
              "color": "white",
              "width": 0.5
             },
             "pattern": {
              "fillmode": "overlay",
              "size": 10,
              "solidity": 0.2
             }
            },
            "type": "barpolar"
           }
          ],
          "carpet": [
           {
            "aaxis": {
             "endlinecolor": "#2a3f5f",
             "gridcolor": "#C8D4E3",
             "linecolor": "#C8D4E3",
             "minorgridcolor": "#C8D4E3",
             "startlinecolor": "#2a3f5f"
            },
            "baxis": {
             "endlinecolor": "#2a3f5f",
             "gridcolor": "#C8D4E3",
             "linecolor": "#C8D4E3",
             "minorgridcolor": "#C8D4E3",
             "startlinecolor": "#2a3f5f"
            },
            "type": "carpet"
           }
          ],
          "choropleth": [
           {
            "colorbar": {
             "outlinewidth": 0,
             "ticks": ""
            },
            "type": "choropleth"
           }
          ],
          "contour": [
           {
            "colorbar": {
             "outlinewidth": 0,
             "ticks": ""
            },
            "colorscale": [
             [
              0,
              "#0d0887"
             ],
             [
              0.1111111111111111,
              "#46039f"
             ],
             [
              0.2222222222222222,
              "#7201a8"
             ],
             [
              0.3333333333333333,
              "#9c179e"
             ],
             [
              0.4444444444444444,
              "#bd3786"
             ],
             [
              0.5555555555555556,
              "#d8576b"
             ],
             [
              0.6666666666666666,
              "#ed7953"
             ],
             [
              0.7777777777777778,
              "#fb9f3a"
             ],
             [
              0.8888888888888888,
              "#fdca26"
             ],
             [
              1,
              "#f0f921"
             ]
            ],
            "type": "contour"
           }
          ],
          "contourcarpet": [
           {
            "colorbar": {
             "outlinewidth": 0,
             "ticks": ""
            },
            "type": "contourcarpet"
           }
          ],
          "heatmap": [
           {
            "colorbar": {
             "outlinewidth": 0,
             "ticks": ""
            },
            "colorscale": [
             [
              0,
              "#0d0887"
             ],
             [
              0.1111111111111111,
              "#46039f"
             ],
             [
              0.2222222222222222,
              "#7201a8"
             ],
             [
              0.3333333333333333,
              "#9c179e"
             ],
             [
              0.4444444444444444,
              "#bd3786"
             ],
             [
              0.5555555555555556,
              "#d8576b"
             ],
             [
              0.6666666666666666,
              "#ed7953"
             ],
             [
              0.7777777777777778,
              "#fb9f3a"
             ],
             [
              0.8888888888888888,
              "#fdca26"
             ],
             [
              1,
              "#f0f921"
             ]
            ],
            "type": "heatmap"
           }
          ],
          "histogram": [
           {
            "marker": {
             "pattern": {
              "fillmode": "overlay",
              "size": 10,
              "solidity": 0.2
             }
            },
            "type": "histogram"
           }
          ],
          "histogram2d": [
           {
            "colorbar": {
             "outlinewidth": 0,
             "ticks": ""
            },
            "colorscale": [
             [
              0,
              "#0d0887"
             ],
             [
              0.1111111111111111,
              "#46039f"
             ],
             [
              0.2222222222222222,
              "#7201a8"
             ],
             [
              0.3333333333333333,
              "#9c179e"
             ],
             [
              0.4444444444444444,
              "#bd3786"
             ],
             [
              0.5555555555555556,
              "#d8576b"
             ],
             [
              0.6666666666666666,
              "#ed7953"
             ],
             [
              0.7777777777777778,
              "#fb9f3a"
             ],
             [
              0.8888888888888888,
              "#fdca26"
             ],
             [
              1,
              "#f0f921"
             ]
            ],
            "type": "histogram2d"
           }
          ],
          "histogram2dcontour": [
           {
            "colorbar": {
             "outlinewidth": 0,
             "ticks": ""
            },
            "colorscale": [
             [
              0,
              "#0d0887"
             ],
             [
              0.1111111111111111,
              "#46039f"
             ],
             [
              0.2222222222222222,
              "#7201a8"
             ],
             [
              0.3333333333333333,
              "#9c179e"
             ],
             [
              0.4444444444444444,
              "#bd3786"
             ],
             [
              0.5555555555555556,
              "#d8576b"
             ],
             [
              0.6666666666666666,
              "#ed7953"
             ],
             [
              0.7777777777777778,
              "#fb9f3a"
             ],
             [
              0.8888888888888888,
              "#fdca26"
             ],
             [
              1,
              "#f0f921"
             ]
            ],
            "type": "histogram2dcontour"
           }
          ],
          "mesh3d": [
           {
            "colorbar": {
             "outlinewidth": 0,
             "ticks": ""
            },
            "type": "mesh3d"
           }
          ],
          "parcoords": [
           {
            "line": {
             "colorbar": {
              "outlinewidth": 0,
              "ticks": ""
             }
            },
            "type": "parcoords"
           }
          ],
          "pie": [
           {
            "automargin": true,
            "type": "pie"
           }
          ],
          "scatter": [
           {
            "fillpattern": {
             "fillmode": "overlay",
             "size": 10,
             "solidity": 0.2
            },
            "type": "scatter"
           }
          ],
          "scatter3d": [
           {
            "line": {
             "colorbar": {
              "outlinewidth": 0,
              "ticks": ""
             }
            },
            "marker": {
             "colorbar": {
              "outlinewidth": 0,
              "ticks": ""
             }
            },
            "type": "scatter3d"
           }
          ],
          "scattercarpet": [
           {
            "marker": {
             "colorbar": {
              "outlinewidth": 0,
              "ticks": ""
             }
            },
            "type": "scattercarpet"
           }
          ],
          "scattergeo": [
           {
            "marker": {
             "colorbar": {
              "outlinewidth": 0,
              "ticks": ""
             }
            },
            "type": "scattergeo"
           }
          ],
          "scattergl": [
           {
            "marker": {
             "colorbar": {
              "outlinewidth": 0,
              "ticks": ""
             }
            },
            "type": "scattergl"
           }
          ],
          "scattermap": [
           {
            "marker": {
             "colorbar": {
              "outlinewidth": 0,
              "ticks": ""
             }
            },
            "type": "scattermap"
           }
          ],
          "scattermapbox": [
           {
            "marker": {
             "colorbar": {
              "outlinewidth": 0,
              "ticks": ""
             }
            },
            "type": "scattermapbox"
           }
          ],
          "scatterpolar": [
           {
            "marker": {
             "colorbar": {
              "outlinewidth": 0,
              "ticks": ""
             }
            },
            "type": "scatterpolar"
           }
          ],
          "scatterpolargl": [
           {
            "marker": {
             "colorbar": {
              "outlinewidth": 0,
              "ticks": ""
             }
            },
            "type": "scatterpolargl"
           }
          ],
          "scatterternary": [
           {
            "marker": {
             "colorbar": {
              "outlinewidth": 0,
              "ticks": ""
             }
            },
            "type": "scatterternary"
           }
          ],
          "surface": [
           {
            "colorbar": {
             "outlinewidth": 0,
             "ticks": ""
            },
            "colorscale": [
             [
              0,
              "#0d0887"
             ],
             [
              0.1111111111111111,
              "#46039f"
             ],
             [
              0.2222222222222222,
              "#7201a8"
             ],
             [
              0.3333333333333333,
              "#9c179e"
             ],
             [
              0.4444444444444444,
              "#bd3786"
             ],
             [
              0.5555555555555556,
              "#d8576b"
             ],
             [
              0.6666666666666666,
              "#ed7953"
             ],
             [
              0.7777777777777778,
              "#fb9f3a"
             ],
             [
              0.8888888888888888,
              "#fdca26"
             ],
             [
              1,
              "#f0f921"
             ]
            ],
            "type": "surface"
           }
          ],
          "table": [
           {
            "cells": {
             "fill": {
              "color": "#EBF0F8"
             },
             "line": {
              "color": "white"
             }
            },
            "header": {
             "fill": {
              "color": "#C8D4E3"
             },
             "line": {
              "color": "white"
             }
            },
            "type": "table"
           }
          ]
         },
         "layout": {
          "annotationdefaults": {
           "arrowcolor": "#2a3f5f",
           "arrowhead": 0,
           "arrowwidth": 1
          },
          "autotypenumbers": "strict",
          "coloraxis": {
           "colorbar": {
            "outlinewidth": 0,
            "ticks": ""
           }
          },
          "colorscale": {
           "diverging": [
            [
             0,
             "#8e0152"
            ],
            [
             0.1,
             "#c51b7d"
            ],
            [
             0.2,
             "#de77ae"
            ],
            [
             0.3,
             "#f1b6da"
            ],
            [
             0.4,
             "#fde0ef"
            ],
            [
             0.5,
             "#f7f7f7"
            ],
            [
             0.6,
             "#e6f5d0"
            ],
            [
             0.7,
             "#b8e186"
            ],
            [
             0.8,
             "#7fbc41"
            ],
            [
             0.9,
             "#4d9221"
            ],
            [
             1,
             "#276419"
            ]
           ],
           "sequential": [
            [
             0,
             "#0d0887"
            ],
            [
             0.1111111111111111,
             "#46039f"
            ],
            [
             0.2222222222222222,
             "#7201a8"
            ],
            [
             0.3333333333333333,
             "#9c179e"
            ],
            [
             0.4444444444444444,
             "#bd3786"
            ],
            [
             0.5555555555555556,
             "#d8576b"
            ],
            [
             0.6666666666666666,
             "#ed7953"
            ],
            [
             0.7777777777777778,
             "#fb9f3a"
            ],
            [
             0.8888888888888888,
             "#fdca26"
            ],
            [
             1,
             "#f0f921"
            ]
           ],
           "sequentialminus": [
            [
             0,
             "#0d0887"
            ],
            [
             0.1111111111111111,
             "#46039f"
            ],
            [
             0.2222222222222222,
             "#7201a8"
            ],
            [
             0.3333333333333333,
             "#9c179e"
            ],
            [
             0.4444444444444444,
             "#bd3786"
            ],
            [
             0.5555555555555556,
             "#d8576b"
            ],
            [
             0.6666666666666666,
             "#ed7953"
            ],
            [
             0.7777777777777778,
             "#fb9f3a"
            ],
            [
             0.8888888888888888,
             "#fdca26"
            ],
            [
             1,
             "#f0f921"
            ]
           ]
          },
          "colorway": [
           "#636efa",
           "#EF553B",
           "#00cc96",
           "#ab63fa",
           "#FFA15A",
           "#19d3f3",
           "#FF6692",
           "#B6E880",
           "#FF97FF",
           "#FECB52"
          ],
          "font": {
           "color": "#2a3f5f"
          },
          "geo": {
           "bgcolor": "white",
           "lakecolor": "white",
           "landcolor": "white",
           "showlakes": true,
           "showland": true,
           "subunitcolor": "#C8D4E3"
          },
          "hoverlabel": {
           "align": "left"
          },
          "hovermode": "closest",
          "mapbox": {
           "style": "light"
          },
          "paper_bgcolor": "white",
          "plot_bgcolor": "white",
          "polar": {
           "angularaxis": {
            "gridcolor": "#EBF0F8",
            "linecolor": "#EBF0F8",
            "ticks": ""
           },
           "bgcolor": "white",
           "radialaxis": {
            "gridcolor": "#EBF0F8",
            "linecolor": "#EBF0F8",
            "ticks": ""
           }
          },
          "scene": {
           "xaxis": {
            "backgroundcolor": "white",
            "gridcolor": "#DFE8F3",
            "gridwidth": 2,
            "linecolor": "#EBF0F8",
            "showbackground": true,
            "ticks": "",
            "zerolinecolor": "#EBF0F8"
           },
           "yaxis": {
            "backgroundcolor": "white",
            "gridcolor": "#DFE8F3",
            "gridwidth": 2,
            "linecolor": "#EBF0F8",
            "showbackground": true,
            "ticks": "",
            "zerolinecolor": "#EBF0F8"
           },
           "zaxis": {
            "backgroundcolor": "white",
            "gridcolor": "#DFE8F3",
            "gridwidth": 2,
            "linecolor": "#EBF0F8",
            "showbackground": true,
            "ticks": "",
            "zerolinecolor": "#EBF0F8"
           }
          },
          "shapedefaults": {
           "line": {
            "color": "#2a3f5f"
           }
          },
          "ternary": {
           "aaxis": {
            "gridcolor": "#DFE8F3",
            "linecolor": "#A2B1C6",
            "ticks": ""
           },
           "baxis": {
            "gridcolor": "#DFE8F3",
            "linecolor": "#A2B1C6",
            "ticks": ""
           },
           "bgcolor": "white",
           "caxis": {
            "gridcolor": "#DFE8F3",
            "linecolor": "#A2B1C6",
            "ticks": ""
           }
          },
          "title": {
           "x": 0.05
          },
          "xaxis": {
           "automargin": true,
           "gridcolor": "#EBF0F8",
           "linecolor": "#EBF0F8",
           "ticks": "",
           "title": {
            "standoff": 15
           },
           "zerolinecolor": "#EBF0F8",
           "zerolinewidth": 2
          },
          "yaxis": {
           "automargin": true,
           "gridcolor": "#EBF0F8",
           "linecolor": "#EBF0F8",
           "ticks": "",
           "title": {
            "standoff": 15
           },
           "zerolinecolor": "#EBF0F8",
           "zerolinewidth": 2
          }
         }
        },
        "width": 1980.0000000000002,
        "xaxis": {
         "tickfont": {
          "color": "#00008B",
          "family": "Courier New",
          "size": 38
         },
         "title": {
          "font": {
           "color": "#00008B",
           "family": "Courier New",
           "size": 38
          },
          "text": ""
         }
        },
        "yaxis": {
         "range": [
          0,
          0.5
         ],
         "tickfont": {
          "color": "#00008B",
          "family": "Courier New",
          "size": 38
         },
         "title": {
          "font": {
           "color": "#00008B",
           "family": "Courier New",
           "size": 38
          },
          "text": "Replacement Costs (US$ billion)"
         }
        }
       }
      }
     },
     "metadata": {},
     "output_type": "display_data"
    }
   ],
   "source": [
    "# Define the filters\n",
    "filters = { 'Portfolio Strategy': [port_strat.replace(' ', '<br>') if port_strat != 'ES Min' else 'ES Min' for port_strat in portfolio_strategies[:]],\n",
    "           'Time period': ['Current','Future'],\n",
    "           'Impact type': ['Net', 'Risk Transfer']}\n",
    "# Define the columns to remove\n",
    "columns_to_remove = []\n",
    "\n",
    "# Decide if value at risk is plotted\n",
    "plot_var = False\n",
    "\n",
    "\n",
    "# Filter the data frame\n",
    "filt_risk_attr_df = filter_dataframe(risk_attr_incl_risk_transf_df, filters, columns_to_remove)\n",
    "df = filt_risk_attr_df\n",
    "\n",
    "group_col = 'Portfolio Strategy' \n",
    "sub_group_col = 'Time period'\n",
    "legend_col = 'legend_bar_Companies'# 'Risk Attribution'\n",
    "stack_col = 'Marginal ES'\n",
    "\n",
    "\n",
    "xaxis_title = ''\n",
    "yaxis_title = 'Replacement Costs (US$ billion)'\n",
    "\n",
    "# Create a new figure\n",
    "fig = go.Figure()\n",
    "\n",
    "# Adjust the gap between bars for \"Current\" and \"Future\"\n",
    "bargap_value = 0.01  # Adjust this value to reduce the space between bar groups\n",
    "bargroupgap_value = 0.02  # Adjust this value to reduce the space between individual bars within a group\n",
    "\n",
    "# Font color dark blue\n",
    "font_color = '#00008B'\n",
    "font_family = 'Courier New' # bold\n",
    "font_size = 38\n",
    "adjustment = 0.00\n",
    "max_value = 0.50\n",
    "\n",
    "font_dict = dict(size=font_size, family=font_family, color=font_color)\n",
    "\n",
    "fig.update_layout(\n",
    "    template=\"plotly_white\",\n",
    "    xaxis_title=xaxis_title,\n",
    "    yaxis_title=yaxis_title,\n",
    "    barmode=\"stack\",\n",
    "    bargap=bargap_value,  # Set the gap between groups of bars\n",
    "    bargroupgap=bargroupgap_value,  # Set the gap between bars within the same group\n",
    "    xaxis_title_font=dict(size=font_size, family=font_family, color=font_color),\n",
    "    yaxis_title_font=dict(size=font_size, family=font_family, color=font_color),\n",
    "    xaxis_tickfont=dict(size=font_size, family=font_family, color=font_color),\n",
    "    yaxis_tickfont=dict(size=font_size, family=font_family, color=font_color),\n",
    "    legend_font=dict(size=font_size, family=font_family, color=font_color),\n",
    "    yaxis=dict(range=[0, max_value]), \n",
    "    height=1000*1.1,\n",
    "    width=1800*1.1,\n",
    "    legend=dict(\n",
    "        orientation=\"h\",\n",
    "        yanchor=\"top\",\n",
    "        y=1.1,\n",
    "        xanchor=\"center\",\n",
    "        x=0.5\n",
    "    ),\n",
    "    # Reverse the legend order\n",
    "    legend_traceorder=\"reversed\",\n",
    ")\n",
    "\n",
    "\n",
    "\n",
    "# Begin with the Net Risk\n",
    "# Get the legend values in alphabetical order\n",
    "legend_values = df[legend_col].unique()\n",
    "# Reverse the order of the legend values\n",
    "legend_values = legend_values[::-1]\n",
    "# Only include net \n",
    "legend_values_Net = [leg for leg in legend_values if 'Net' in leg or 'Insurance' not in leg]\n",
    "\n",
    "\n",
    "\n",
    "# Get the colors for the legend values\n",
    "colors = [color_mapping_hex[legend_value] for legend_value in legend_values_Net]\n",
    "\n",
    "\n",
    "# For each unique value in the legend column and its corresponding color (Net Risk)\n",
    "for legend_value, color in zip(legend_values_Net, colors):\n",
    "    # Filter the DataFrame to only include rows with the current legend value\n",
    "    plot_df = df[df[legend_col] == legend_value]\n",
    "\n",
    "    for time_period in plot_df[sub_group_col].unique():\n",
    "        time_filtered_df = plot_df[plot_df[sub_group_col] == time_period]\n",
    "\n",
    "        # Apply dashed line pattern to \"Future\" time period\n",
    "        if time_period == \"Future\":\n",
    "            pattern_shape = \"/\"  # diagonal lines\n",
    "            show_legend = False  # Do not show in legend\n",
    "        else:\n",
    "            pattern_shape = \"\"\n",
    "            show_legend = True  # Show in legend\n",
    "\n",
    "        # Add a bar to the figure for the current legend value\n",
    "        fig.add_trace(\n",
    "            go.Bar(\n",
    "                x=[time_filtered_df[group_col], time_filtered_df[sub_group_col]],\n",
    "                y=time_filtered_df[stack_col],\n",
    "                name=legend_value if show_legend else None,\n",
    "                marker_color=color,\n",
    "                textfont=dict(size=font_size, family=font_family, color=font_color),\n",
    "                marker=dict(pattern_shape=pattern_shape),\n",
    "                showlegend=show_legend,\n",
    "            ),\n",
    "        )\n",
    "\n",
    "\n",
    "# Always add the ES Net\n",
    "for i, time in enumerate(df['Time period'].unique()):\n",
    "    for j, port_strat in enumerate(df['Portfolio Strategy'].unique()):\n",
    "        # Get the Net VaR from risk metrics df\n",
    "        #net_var = risk_metrics_df[(risk_metrics_df['Time period'] == time) & (risk_metrics_df['Portfolio Strategy'] == port_strat) & (risk_metrics_df['Impact type'] == 'Net')]['VaR'].values[0]\n",
    "        #net_es = risk_metrics_df[(risk_metrics_df['Time period'] == time) & (risk_metrics_df['Portfolio Strategy'] == port_strat) & (risk_metrics_df['Impact type'] == 'Net')]['ES'].values[0]\n",
    "\n",
    "        filtered_df = risk_attr_incl_risk_transf_df[\n",
    "                (risk_attr_incl_risk_transf_df['Time period'] == time) &\n",
    "                (risk_attr_incl_risk_transf_df['Impact type'] == 'Net') &\n",
    "                (risk_attr_incl_risk_transf_df['Portfolio Strategy'] == port_strat)\n",
    "            ]\n",
    "\n",
    "        # Calculate the sum of Marginal ES\n",
    "        net_es = filtered_df['Marginal ES'].sum()\n",
    "    \n",
    "        # Convert time and company to pandas Series with a single value\n",
    "        time_series = pd.Series([time])\n",
    "        company_series = pd.Series([port_strat])\n",
    "        # Add of the ES Net as text on the top of the bar\n",
    "        fig.add_trace(\n",
    "            go.Scatter(\n",
    "                x= [company_series, time_series],\n",
    "                y= [net_es + adjustment],\n",
    "                name= 'ES Net', \n",
    "                mode='text',\n",
    "                text= [net_es.round(2)],\n",
    "                textposition='top center',\n",
    "                    textfont=dict(\n",
    "                    color='black', \n",
    "                    size=font_size, \n",
    "                    family= font_family\n",
    "                ),\n",
    "                showlegend=False\n",
    "            ),\n",
    "    )\n",
    "\n",
    "fig.show()\n",
    "\n",
    "# Save the figure as a PNG file\n",
    "file = merged_folder / 'Portfolio Strategy.png'\n",
    "fig.write_image(file,  scale=4)\n"
   ]
  },
  {
   "cell_type": "code",
   "execution_count": null,
   "metadata": {},
   "outputs": [],
   "source": []
  }
 ],
 "metadata": {
  "kernelspec": {
   "display_name": "climada_env",
   "language": "python",
   "name": "python3"
  },
  "language_info": {
   "codemirror_mode": {
    "name": "ipython",
    "version": 3
   },
   "file_extension": ".py",
   "mimetype": "text/x-python",
   "name": "python",
   "nbconvert_exporter": "python",
   "pygments_lexer": "ipython3",
   "version": "3.11.11"
  }
 },
 "nbformat": 4,
 "nbformat_minor": 2
}
